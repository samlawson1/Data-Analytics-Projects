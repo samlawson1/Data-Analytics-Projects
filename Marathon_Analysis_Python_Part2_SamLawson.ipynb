{
 "cells": [
  {
   "cell_type": "code",
   "execution_count": 1,
   "metadata": {},
   "outputs": [],
   "source": [
    "import pandas as pd\n",
    "import numpy as np\n",
    "import matplotlib.pyplot as plt\n",
    "import seaborn as sns\n",
    "from matplotlib.dates import DateFormatter"
   ]
  },
  {
   "cell_type": "code",
   "execution_count": 2,
   "metadata": {},
   "outputs": [],
   "source": [
    "nashville = pd.read_csv('data/all_full_marathons.csv')\n",
    "seattle = pd.read_csv('data/seattle_marathons.csv')\n",
    "dc = pd.read_csv('data/washington_dc_marathons.csv')\n",
    "arizona = pd.read_csv('data/arizona_marathons.csv')"
   ]
  },
  {
   "cell_type": "code",
   "execution_count": 3,
   "metadata": {},
   "outputs": [
    {
     "data": {
      "text/html": [
       "<div>\n",
       "<style scoped>\n",
       "    .dataframe tbody tr th:only-of-type {\n",
       "        vertical-align: middle;\n",
       "    }\n",
       "\n",
       "    .dataframe tbody tr th {\n",
       "        vertical-align: top;\n",
       "    }\n",
       "\n",
       "    .dataframe thead th {\n",
       "        text-align: right;\n",
       "    }\n",
       "</style>\n",
       "<table border=\"1\" class=\"dataframe\">\n",
       "  <thead>\n",
       "    <tr style=\"text-align: right;\">\n",
       "      <th></th>\n",
       "      <th>Unnamed: 0</th>\n",
       "      <th>Overall</th>\n",
       "      <th>Bib</th>\n",
       "      <th>Name</th>\n",
       "      <th>Time</th>\n",
       "      <th>Year</th>\n",
       "      <th>Mar_Type</th>\n",
       "    </tr>\n",
       "  </thead>\n",
       "  <tbody>\n",
       "    <tr>\n",
       "      <th>0</th>\n",
       "      <td>0</td>\n",
       "      <td>1</td>\n",
       "      <td>1</td>\n",
       "      <td>Scott Wietecha</td>\n",
       "      <td>02:25:42</td>\n",
       "      <td>2016</td>\n",
       "      <td>Full</td>\n",
       "    </tr>\n",
       "    <tr>\n",
       "      <th>1</th>\n",
       "      <td>1</td>\n",
       "      <td>2</td>\n",
       "      <td>3</td>\n",
       "      <td>Brian Shelton</td>\n",
       "      <td>02:34:43</td>\n",
       "      <td>2016</td>\n",
       "      <td>Full</td>\n",
       "    </tr>\n",
       "    <tr>\n",
       "      <th>2</th>\n",
       "      <td>2</td>\n",
       "      <td>3</td>\n",
       "      <td>1047</td>\n",
       "      <td>Christopher Capps</td>\n",
       "      <td>02:38:43</td>\n",
       "      <td>2016</td>\n",
       "      <td>Full</td>\n",
       "    </tr>\n",
       "    <tr>\n",
       "      <th>3</th>\n",
       "      <td>3</td>\n",
       "      <td>4</td>\n",
       "      <td>1052</td>\n",
       "      <td>Jason Grimes</td>\n",
       "      <td>02:45:06</td>\n",
       "      <td>2016</td>\n",
       "      <td>Full</td>\n",
       "    </tr>\n",
       "    <tr>\n",
       "      <th>4</th>\n",
       "      <td>4</td>\n",
       "      <td>5</td>\n",
       "      <td>1046</td>\n",
       "      <td>David Adams</td>\n",
       "      <td>02:47:28</td>\n",
       "      <td>2016</td>\n",
       "      <td>Full</td>\n",
       "    </tr>\n",
       "  </tbody>\n",
       "</table>\n",
       "</div>"
      ],
      "text/plain": [
       "   Unnamed: 0  Overall   Bib               Name      Time  Year Mar_Type\n",
       "0           0        1     1     Scott Wietecha  02:25:42  2016     Full\n",
       "1           1        2     3      Brian Shelton  02:34:43  2016     Full\n",
       "2           2        3  1047  Christopher Capps  02:38:43  2016     Full\n",
       "3           3        4  1052       Jason Grimes  02:45:06  2016     Full\n",
       "4           4        5  1046        David Adams  02:47:28  2016     Full"
      ]
     },
     "execution_count": 3,
     "metadata": {},
     "output_type": "execute_result"
    }
   ],
   "source": [
    "nashville.head()"
   ]
  },
  {
   "cell_type": "code",
   "execution_count": 4,
   "metadata": {},
   "outputs": [
    {
     "data": {
      "text/html": [
       "<div>\n",
       "<style scoped>\n",
       "    .dataframe tbody tr th:only-of-type {\n",
       "        vertical-align: middle;\n",
       "    }\n",
       "\n",
       "    .dataframe tbody tr th {\n",
       "        vertical-align: top;\n",
       "    }\n",
       "\n",
       "    .dataframe thead th {\n",
       "        text-align: right;\n",
       "    }\n",
       "</style>\n",
       "<table border=\"1\" class=\"dataframe\">\n",
       "  <thead>\n",
       "    <tr style=\"text-align: right;\">\n",
       "      <th></th>\n",
       "      <th>Overall</th>\n",
       "      <th>Bib</th>\n",
       "      <th>Name</th>\n",
       "      <th>Time</th>\n",
       "      <th>Year</th>\n",
       "    </tr>\n",
       "  </thead>\n",
       "  <tbody>\n",
       "    <tr>\n",
       "      <th>0</th>\n",
       "      <td>1</td>\n",
       "      <td>1</td>\n",
       "      <td>Scott Wietecha</td>\n",
       "      <td>02:25:42</td>\n",
       "      <td>2016</td>\n",
       "    </tr>\n",
       "    <tr>\n",
       "      <th>1</th>\n",
       "      <td>2</td>\n",
       "      <td>3</td>\n",
       "      <td>Brian Shelton</td>\n",
       "      <td>02:34:43</td>\n",
       "      <td>2016</td>\n",
       "    </tr>\n",
       "    <tr>\n",
       "      <th>2</th>\n",
       "      <td>3</td>\n",
       "      <td>1047</td>\n",
       "      <td>Christopher Capps</td>\n",
       "      <td>02:38:43</td>\n",
       "      <td>2016</td>\n",
       "    </tr>\n",
       "    <tr>\n",
       "      <th>3</th>\n",
       "      <td>4</td>\n",
       "      <td>1052</td>\n",
       "      <td>Jason Grimes</td>\n",
       "      <td>02:45:06</td>\n",
       "      <td>2016</td>\n",
       "    </tr>\n",
       "    <tr>\n",
       "      <th>4</th>\n",
       "      <td>5</td>\n",
       "      <td>1046</td>\n",
       "      <td>David Adams</td>\n",
       "      <td>02:47:28</td>\n",
       "      <td>2016</td>\n",
       "    </tr>\n",
       "  </tbody>\n",
       "</table>\n",
       "</div>"
      ],
      "text/plain": [
       "   Overall   Bib               Name      Time  Year\n",
       "0        1     1     Scott Wietecha  02:25:42  2016\n",
       "1        2     3      Brian Shelton  02:34:43  2016\n",
       "2        3  1047  Christopher Capps  02:38:43  2016\n",
       "3        4  1052       Jason Grimes  02:45:06  2016\n",
       "4        5  1046        David Adams  02:47:28  2016"
      ]
     },
     "execution_count": 4,
     "metadata": {},
     "output_type": "execute_result"
    }
   ],
   "source": [
    "nashville = nashville.drop(columns = 'Unnamed: 0')\n",
    "nashville = nashville.drop(columns = 'Mar_Type')\n",
    "nashville.head()"
   ]
  },
  {
   "cell_type": "code",
   "execution_count": 5,
   "metadata": {},
   "outputs": [
    {
     "data": {
      "text/html": [
       "<div>\n",
       "<style scoped>\n",
       "    .dataframe tbody tr th:only-of-type {\n",
       "        vertical-align: middle;\n",
       "    }\n",
       "\n",
       "    .dataframe tbody tr th {\n",
       "        vertical-align: top;\n",
       "    }\n",
       "\n",
       "    .dataframe thead th {\n",
       "        text-align: right;\n",
       "    }\n",
       "</style>\n",
       "<table border=\"1\" class=\"dataframe\">\n",
       "  <thead>\n",
       "    <tr style=\"text-align: right;\">\n",
       "      <th></th>\n",
       "      <th>Overall</th>\n",
       "      <th>Bib</th>\n",
       "      <th>Name</th>\n",
       "      <th>Time</th>\n",
       "      <th>Year</th>\n",
       "    </tr>\n",
       "  </thead>\n",
       "  <tbody>\n",
       "    <tr>\n",
       "      <th>0</th>\n",
       "      <td>1</td>\n",
       "      <td>2</td>\n",
       "      <td>Samuel Golitom Hadgu</td>\n",
       "      <td>02:26:01</td>\n",
       "      <td>2016</td>\n",
       "    </tr>\n",
       "    <tr>\n",
       "      <th>1</th>\n",
       "      <td>2</td>\n",
       "      <td>1015</td>\n",
       "      <td>Jeff Stein</td>\n",
       "      <td>02:31:05</td>\n",
       "      <td>2016</td>\n",
       "    </tr>\n",
       "    <tr>\n",
       "      <th>2</th>\n",
       "      <td>3</td>\n",
       "      <td>1046</td>\n",
       "      <td>Andrew Ivanov</td>\n",
       "      <td>02:32:49</td>\n",
       "      <td>2016</td>\n",
       "    </tr>\n",
       "    <tr>\n",
       "      <th>3</th>\n",
       "      <td>4</td>\n",
       "      <td>1030</td>\n",
       "      <td>Steve Vesbach</td>\n",
       "      <td>02:42:38</td>\n",
       "      <td>2016</td>\n",
       "    </tr>\n",
       "    <tr>\n",
       "      <th>4</th>\n",
       "      <td>5</td>\n",
       "      <td>1158</td>\n",
       "      <td>Alexander Rockhill</td>\n",
       "      <td>02:42:48</td>\n",
       "      <td>2016</td>\n",
       "    </tr>\n",
       "  </tbody>\n",
       "</table>\n",
       "</div>"
      ],
      "text/plain": [
       "   Overall   Bib                  Name      Time  Year\n",
       "0        1     2  Samuel Golitom Hadgu  02:26:01  2016\n",
       "1        2  1015            Jeff Stein  02:31:05  2016\n",
       "2        3  1046         Andrew Ivanov  02:32:49  2016\n",
       "3        4  1030         Steve Vesbach  02:42:38  2016\n",
       "4        5  1158    Alexander Rockhill  02:42:48  2016"
      ]
     },
     "execution_count": 5,
     "metadata": {},
     "output_type": "execute_result"
    }
   ],
   "source": [
    "seattle.head()"
   ]
  },
  {
   "cell_type": "code",
   "execution_count": 6,
   "metadata": {},
   "outputs": [
    {
     "data": {
      "text/html": [
       "<div>\n",
       "<style scoped>\n",
       "    .dataframe tbody tr th:only-of-type {\n",
       "        vertical-align: middle;\n",
       "    }\n",
       "\n",
       "    .dataframe tbody tr th {\n",
       "        vertical-align: top;\n",
       "    }\n",
       "\n",
       "    .dataframe thead th {\n",
       "        text-align: right;\n",
       "    }\n",
       "</style>\n",
       "<table border=\"1\" class=\"dataframe\">\n",
       "  <thead>\n",
       "    <tr style=\"text-align: right;\">\n",
       "      <th></th>\n",
       "      <th>Overall</th>\n",
       "      <th>Bib</th>\n",
       "      <th>Name</th>\n",
       "      <th>Time</th>\n",
       "      <th>Year</th>\n",
       "    </tr>\n",
       "  </thead>\n",
       "  <tbody>\n",
       "    <tr>\n",
       "      <th>0</th>\n",
       "      <td>1</td>\n",
       "      <td>6067</td>\n",
       "      <td>Alfredo Arevalo Reyes</td>\n",
       "      <td>02:30:04</td>\n",
       "      <td>2016</td>\n",
       "    </tr>\n",
       "    <tr>\n",
       "      <th>1</th>\n",
       "      <td>2</td>\n",
       "      <td>2</td>\n",
       "      <td>Steve Chu</td>\n",
       "      <td>02:34:09</td>\n",
       "      <td>2016</td>\n",
       "    </tr>\n",
       "    <tr>\n",
       "      <th>2</th>\n",
       "      <td>3</td>\n",
       "      <td>1151</td>\n",
       "      <td>Dirian Bonilla</td>\n",
       "      <td>02:37:25</td>\n",
       "      <td>2016</td>\n",
       "    </tr>\n",
       "    <tr>\n",
       "      <th>3</th>\n",
       "      <td>4</td>\n",
       "      <td>1154</td>\n",
       "      <td>Raul Lopez</td>\n",
       "      <td>02:42:14</td>\n",
       "      <td>2016</td>\n",
       "    </tr>\n",
       "    <tr>\n",
       "      <th>4</th>\n",
       "      <td>5</td>\n",
       "      <td>1059</td>\n",
       "      <td>Travis Hawkins</td>\n",
       "      <td>02:43:23</td>\n",
       "      <td>2016</td>\n",
       "    </tr>\n",
       "  </tbody>\n",
       "</table>\n",
       "</div>"
      ],
      "text/plain": [
       "   Overall   Bib                   Name      Time  Year\n",
       "0        1  6067  Alfredo Arevalo Reyes  02:30:04  2016\n",
       "1        2     2              Steve Chu  02:34:09  2016\n",
       "2        3  1151         Dirian Bonilla  02:37:25  2016\n",
       "3        4  1154             Raul Lopez  02:42:14  2016\n",
       "4        5  1059         Travis Hawkins  02:43:23  2016"
      ]
     },
     "execution_count": 6,
     "metadata": {},
     "output_type": "execute_result"
    }
   ],
   "source": [
    "dc.head()"
   ]
  },
  {
   "cell_type": "code",
   "execution_count": 7,
   "metadata": {
    "scrolled": true
   },
   "outputs": [
    {
     "data": {
      "text/html": [
       "<div>\n",
       "<style scoped>\n",
       "    .dataframe tbody tr th:only-of-type {\n",
       "        vertical-align: middle;\n",
       "    }\n",
       "\n",
       "    .dataframe tbody tr th {\n",
       "        vertical-align: top;\n",
       "    }\n",
       "\n",
       "    .dataframe thead th {\n",
       "        text-align: right;\n",
       "    }\n",
       "</style>\n",
       "<table border=\"1\" class=\"dataframe\">\n",
       "  <thead>\n",
       "    <tr style=\"text-align: right;\">\n",
       "      <th></th>\n",
       "      <th>Overall</th>\n",
       "      <th>Bib</th>\n",
       "      <th>Name</th>\n",
       "      <th>Time</th>\n",
       "      <th>Year</th>\n",
       "    </tr>\n",
       "  </thead>\n",
       "  <tbody>\n",
       "    <tr>\n",
       "      <th>0</th>\n",
       "      <td>1</td>\n",
       "      <td>57037</td>\n",
       "      <td>Gerald Blanchard</td>\n",
       "      <td>00:35:50</td>\n",
       "      <td>2016</td>\n",
       "    </tr>\n",
       "    <tr>\n",
       "      <th>1</th>\n",
       "      <td>1</td>\n",
       "      <td>51409</td>\n",
       "      <td>Corey Petersen</td>\n",
       "      <td>02:27:18</td>\n",
       "      <td>2016</td>\n",
       "    </tr>\n",
       "    <tr>\n",
       "      <th>2</th>\n",
       "      <td>2</td>\n",
       "      <td>52042</td>\n",
       "      <td>Johnny Camacho</td>\n",
       "      <td>00:54:28</td>\n",
       "      <td>2016</td>\n",
       "    </tr>\n",
       "    <tr>\n",
       "      <th>3</th>\n",
       "      <td>3</td>\n",
       "      <td>56074</td>\n",
       "      <td>Dan Iwanaga</td>\n",
       "      <td>00:52:34</td>\n",
       "      <td>2016</td>\n",
       "    </tr>\n",
       "    <tr>\n",
       "      <th>4</th>\n",
       "      <td>4</td>\n",
       "      <td>8</td>\n",
       "      <td>Tommy Rivers Puzey</td>\n",
       "      <td>02:25:22</td>\n",
       "      <td>2016</td>\n",
       "    </tr>\n",
       "  </tbody>\n",
       "</table>\n",
       "</div>"
      ],
      "text/plain": [
       "   Overall    Bib                Name      Time  Year\n",
       "0        1  57037    Gerald Blanchard  00:35:50  2016\n",
       "1        1  51409      Corey Petersen  02:27:18  2016\n",
       "2        2  52042      Johnny Camacho  00:54:28  2016\n",
       "3        3  56074         Dan Iwanaga  00:52:34  2016\n",
       "4        4      8  Tommy Rivers Puzey  02:25:22  2016"
      ]
     },
     "execution_count": 7,
     "metadata": {},
     "output_type": "execute_result"
    }
   ],
   "source": [
    "arizona.head()"
   ]
  },
  {
   "cell_type": "code",
   "execution_count": 8,
   "metadata": {},
   "outputs": [],
   "source": [
    "nashville['Location'] = 'Nashville'\n",
    "dc['Location'] = 'DC'\n",
    "seattle['Location'] = 'Seattle'\n",
    "arizona['Location'] = 'Arizona'"
   ]
  },
  {
   "cell_type": "code",
   "execution_count": 9,
   "metadata": {},
   "outputs": [],
   "source": [
    "all_marathons = pd.concat([nashville, seattle, arizona, dc])"
   ]
  },
  {
   "cell_type": "code",
   "execution_count": 10,
   "metadata": {},
   "outputs": [
    {
     "data": {
      "text/plain": [
       "(44507, 6)"
      ]
     },
     "execution_count": 10,
     "metadata": {},
     "output_type": "execute_result"
    }
   ],
   "source": [
    "all_marathons.shape"
   ]
  },
  {
   "cell_type": "code",
   "execution_count": 11,
   "metadata": {},
   "outputs": [
    {
     "data": {
      "text/html": [
       "<div>\n",
       "<style scoped>\n",
       "    .dataframe tbody tr th:only-of-type {\n",
       "        vertical-align: middle;\n",
       "    }\n",
       "\n",
       "    .dataframe tbody tr th {\n",
       "        vertical-align: top;\n",
       "    }\n",
       "\n",
       "    .dataframe thead th {\n",
       "        text-align: right;\n",
       "    }\n",
       "</style>\n",
       "<table border=\"1\" class=\"dataframe\">\n",
       "  <thead>\n",
       "    <tr style=\"text-align: right;\">\n",
       "      <th></th>\n",
       "      <th>Overall</th>\n",
       "      <th>Bib</th>\n",
       "      <th>Name</th>\n",
       "      <th>Time</th>\n",
       "      <th>Year</th>\n",
       "      <th>Location</th>\n",
       "    </tr>\n",
       "  </thead>\n",
       "  <tbody>\n",
       "    <tr>\n",
       "      <th>0</th>\n",
       "      <td>1</td>\n",
       "      <td>1</td>\n",
       "      <td>Scott Wietecha</td>\n",
       "      <td>02:25:42</td>\n",
       "      <td>2016</td>\n",
       "      <td>Nashville</td>\n",
       "    </tr>\n",
       "    <tr>\n",
       "      <th>1</th>\n",
       "      <td>2</td>\n",
       "      <td>3</td>\n",
       "      <td>Brian Shelton</td>\n",
       "      <td>02:34:43</td>\n",
       "      <td>2016</td>\n",
       "      <td>Nashville</td>\n",
       "    </tr>\n",
       "    <tr>\n",
       "      <th>2</th>\n",
       "      <td>3</td>\n",
       "      <td>1047</td>\n",
       "      <td>Christopher Capps</td>\n",
       "      <td>02:38:43</td>\n",
       "      <td>2016</td>\n",
       "      <td>Nashville</td>\n",
       "    </tr>\n",
       "    <tr>\n",
       "      <th>3</th>\n",
       "      <td>4</td>\n",
       "      <td>1052</td>\n",
       "      <td>Jason Grimes</td>\n",
       "      <td>02:45:06</td>\n",
       "      <td>2016</td>\n",
       "      <td>Nashville</td>\n",
       "    </tr>\n",
       "    <tr>\n",
       "      <th>4</th>\n",
       "      <td>5</td>\n",
       "      <td>1046</td>\n",
       "      <td>David Adams</td>\n",
       "      <td>02:47:28</td>\n",
       "      <td>2016</td>\n",
       "      <td>Nashville</td>\n",
       "    </tr>\n",
       "  </tbody>\n",
       "</table>\n",
       "</div>"
      ],
      "text/plain": [
       "   Overall   Bib               Name      Time  Year   Location\n",
       "0        1     1     Scott Wietecha  02:25:42  2016  Nashville\n",
       "1        2     3      Brian Shelton  02:34:43  2016  Nashville\n",
       "2        3  1047  Christopher Capps  02:38:43  2016  Nashville\n",
       "3        4  1052       Jason Grimes  02:45:06  2016  Nashville\n",
       "4        5  1046        David Adams  02:47:28  2016  Nashville"
      ]
     },
     "execution_count": 11,
     "metadata": {},
     "output_type": "execute_result"
    }
   ],
   "source": [
    "all_marathons.head()"
   ]
  },
  {
   "cell_type": "code",
   "execution_count": 12,
   "metadata": {},
   "outputs": [
    {
     "data": {
      "text/html": [
       "<div>\n",
       "<style scoped>\n",
       "    .dataframe tbody tr th:only-of-type {\n",
       "        vertical-align: middle;\n",
       "    }\n",
       "\n",
       "    .dataframe tbody tr th {\n",
       "        vertical-align: top;\n",
       "    }\n",
       "\n",
       "    .dataframe thead th {\n",
       "        text-align: right;\n",
       "    }\n",
       "</style>\n",
       "<table border=\"1\" class=\"dataframe\">\n",
       "  <thead>\n",
       "    <tr style=\"text-align: right;\">\n",
       "      <th></th>\n",
       "      <th>Overall</th>\n",
       "      <th>Bib</th>\n",
       "      <th>Name</th>\n",
       "      <th>Time</th>\n",
       "      <th>Year</th>\n",
       "      <th>Location</th>\n",
       "    </tr>\n",
       "  </thead>\n",
       "  <tbody>\n",
       "    <tr>\n",
       "      <th>10620</th>\n",
       "      <td>99999</td>\n",
       "      <td>32021</td>\n",
       "      <td>Katherine Orsino</td>\n",
       "      <td>00:00:00</td>\n",
       "      <td>2019</td>\n",
       "      <td>DC</td>\n",
       "    </tr>\n",
       "    <tr>\n",
       "      <th>10621</th>\n",
       "      <td>99999</td>\n",
       "      <td>31558</td>\n",
       "      <td>Michael Kohler</td>\n",
       "      <td>00:00:00</td>\n",
       "      <td>2019</td>\n",
       "      <td>DC</td>\n",
       "    </tr>\n",
       "    <tr>\n",
       "      <th>10622</th>\n",
       "      <td>99999</td>\n",
       "      <td>32072</td>\n",
       "      <td>Melissa Houston</td>\n",
       "      <td>00:00:00</td>\n",
       "      <td>2019</td>\n",
       "      <td>DC</td>\n",
       "    </tr>\n",
       "    <tr>\n",
       "      <th>10623</th>\n",
       "      <td>99999</td>\n",
       "      <td>31349</td>\n",
       "      <td>Karl Kniffin</td>\n",
       "      <td>00:00:00</td>\n",
       "      <td>2019</td>\n",
       "      <td>DC</td>\n",
       "    </tr>\n",
       "    <tr>\n",
       "      <th>10624</th>\n",
       "      <td>99999</td>\n",
       "      <td>32156</td>\n",
       "      <td>Preston Griffin</td>\n",
       "      <td>00:00:00</td>\n",
       "      <td>2019</td>\n",
       "      <td>DC</td>\n",
       "    </tr>\n",
       "  </tbody>\n",
       "</table>\n",
       "</div>"
      ],
      "text/plain": [
       "       Overall    Bib              Name      Time  Year Location\n",
       "10620    99999  32021  Katherine Orsino  00:00:00  2019       DC\n",
       "10621    99999  31558    Michael Kohler  00:00:00  2019       DC\n",
       "10622    99999  32072   Melissa Houston  00:00:00  2019       DC\n",
       "10623    99999  31349      Karl Kniffin  00:00:00  2019       DC\n",
       "10624    99999  32156   Preston Griffin  00:00:00  2019       DC"
      ]
     },
     "execution_count": 12,
     "metadata": {},
     "output_type": "execute_result"
    }
   ],
   "source": [
    "all_marathons.tail()"
   ]
  },
  {
   "cell_type": "code",
   "execution_count": 13,
   "metadata": {},
   "outputs": [],
   "source": [
    "all_marathons.Location = all_marathons.Location.astype('category')"
   ]
  },
  {
   "cell_type": "code",
   "execution_count": 14,
   "metadata": {},
   "outputs": [],
   "source": [
    "all_marathons = all_marathons.reset_index(drop =  True)"
   ]
  },
  {
   "cell_type": "code",
   "execution_count": 15,
   "metadata": {
    "scrolled": true
   },
   "outputs": [
    {
     "data": {
      "text/html": [
       "<div>\n",
       "<style scoped>\n",
       "    .dataframe tbody tr th:only-of-type {\n",
       "        vertical-align: middle;\n",
       "    }\n",
       "\n",
       "    .dataframe tbody tr th {\n",
       "        vertical-align: top;\n",
       "    }\n",
       "\n",
       "    .dataframe thead th {\n",
       "        text-align: right;\n",
       "    }\n",
       "</style>\n",
       "<table border=\"1\" class=\"dataframe\">\n",
       "  <thead>\n",
       "    <tr style=\"text-align: right;\">\n",
       "      <th></th>\n",
       "      <th>Overall</th>\n",
       "      <th>Bib</th>\n",
       "      <th>Name</th>\n",
       "      <th>Time</th>\n",
       "      <th>Year</th>\n",
       "      <th>Location</th>\n",
       "    </tr>\n",
       "  </thead>\n",
       "  <tbody>\n",
       "    <tr>\n",
       "      <th>0</th>\n",
       "      <td>1</td>\n",
       "      <td>1</td>\n",
       "      <td>Scott Wietecha</td>\n",
       "      <td>02:25:42</td>\n",
       "      <td>2016</td>\n",
       "      <td>Nashville</td>\n",
       "    </tr>\n",
       "    <tr>\n",
       "      <th>1</th>\n",
       "      <td>2</td>\n",
       "      <td>3</td>\n",
       "      <td>Brian Shelton</td>\n",
       "      <td>02:34:43</td>\n",
       "      <td>2016</td>\n",
       "      <td>Nashville</td>\n",
       "    </tr>\n",
       "    <tr>\n",
       "      <th>2</th>\n",
       "      <td>3</td>\n",
       "      <td>1047</td>\n",
       "      <td>Christopher Capps</td>\n",
       "      <td>02:38:43</td>\n",
       "      <td>2016</td>\n",
       "      <td>Nashville</td>\n",
       "    </tr>\n",
       "    <tr>\n",
       "      <th>3</th>\n",
       "      <td>4</td>\n",
       "      <td>1052</td>\n",
       "      <td>Jason Grimes</td>\n",
       "      <td>02:45:06</td>\n",
       "      <td>2016</td>\n",
       "      <td>Nashville</td>\n",
       "    </tr>\n",
       "    <tr>\n",
       "      <th>4</th>\n",
       "      <td>5</td>\n",
       "      <td>1046</td>\n",
       "      <td>David Adams</td>\n",
       "      <td>02:47:28</td>\n",
       "      <td>2016</td>\n",
       "      <td>Nashville</td>\n",
       "    </tr>\n",
       "  </tbody>\n",
       "</table>\n",
       "</div>"
      ],
      "text/plain": [
       "   Overall   Bib               Name      Time  Year   Location\n",
       "0        1     1     Scott Wietecha  02:25:42  2016  Nashville\n",
       "1        2     3      Brian Shelton  02:34:43  2016  Nashville\n",
       "2        3  1047  Christopher Capps  02:38:43  2016  Nashville\n",
       "3        4  1052       Jason Grimes  02:45:06  2016  Nashville\n",
       "4        5  1046        David Adams  02:47:28  2016  Nashville"
      ]
     },
     "execution_count": 15,
     "metadata": {},
     "output_type": "execute_result"
    }
   ],
   "source": [
    "all_marathons.head()"
   ]
  },
  {
   "cell_type": "code",
   "execution_count": 16,
   "metadata": {
    "scrolled": true
   },
   "outputs": [
    {
     "name": "stdout",
     "output_type": "stream",
     "text": [
      "<class 'pandas.core.frame.DataFrame'>\n",
      "RangeIndex: 44507 entries, 0 to 44506\n",
      "Data columns (total 6 columns):\n",
      "Overall     44507 non-null int64\n",
      "Bib         44507 non-null int64\n",
      "Name        44507 non-null object\n",
      "Time        44507 non-null object\n",
      "Year        44507 non-null int64\n",
      "Location    44507 non-null category\n",
      "dtypes: category(1), int64(3), object(2)\n",
      "memory usage: 1.7+ MB\n"
     ]
    }
   ],
   "source": [
    "all_marathons.info()"
   ]
  },
  {
   "cell_type": "code",
   "execution_count": 17,
   "metadata": {},
   "outputs": [],
   "source": [
    "all_marathons = all_marathons[all_marathons.Time != '00:00:00']"
   ]
  },
  {
   "cell_type": "code",
   "execution_count": 18,
   "metadata": {},
   "outputs": [
    {
     "data": {
      "text/plain": [
       "(34896, 6)"
      ]
     },
     "execution_count": 18,
     "metadata": {},
     "output_type": "execute_result"
    }
   ],
   "source": [
    "all_marathons.shape"
   ]
  },
  {
   "cell_type": "code",
   "execution_count": 19,
   "metadata": {},
   "outputs": [],
   "source": [
    "all_marathons['DateTime'] = pd.to_datetime(all_marathons.Time)"
   ]
  },
  {
   "cell_type": "code",
   "execution_count": 20,
   "metadata": {},
   "outputs": [
    {
     "data": {
      "text/html": [
       "<div>\n",
       "<style scoped>\n",
       "    .dataframe tbody tr th:only-of-type {\n",
       "        vertical-align: middle;\n",
       "    }\n",
       "\n",
       "    .dataframe tbody tr th {\n",
       "        vertical-align: top;\n",
       "    }\n",
       "\n",
       "    .dataframe thead th {\n",
       "        text-align: right;\n",
       "    }\n",
       "</style>\n",
       "<table border=\"1\" class=\"dataframe\">\n",
       "  <thead>\n",
       "    <tr style=\"text-align: right;\">\n",
       "      <th></th>\n",
       "      <th>Overall</th>\n",
       "      <th>Bib</th>\n",
       "      <th>Name</th>\n",
       "      <th>Time</th>\n",
       "      <th>Year</th>\n",
       "      <th>Location</th>\n",
       "      <th>DateTime</th>\n",
       "    </tr>\n",
       "  </thead>\n",
       "  <tbody>\n",
       "    <tr>\n",
       "      <th>0</th>\n",
       "      <td>1</td>\n",
       "      <td>1</td>\n",
       "      <td>Scott Wietecha</td>\n",
       "      <td>02:25:42</td>\n",
       "      <td>2016</td>\n",
       "      <td>Nashville</td>\n",
       "      <td>2019-09-28 02:25:42</td>\n",
       "    </tr>\n",
       "    <tr>\n",
       "      <th>1</th>\n",
       "      <td>2</td>\n",
       "      <td>3</td>\n",
       "      <td>Brian Shelton</td>\n",
       "      <td>02:34:43</td>\n",
       "      <td>2016</td>\n",
       "      <td>Nashville</td>\n",
       "      <td>2019-09-28 02:34:43</td>\n",
       "    </tr>\n",
       "    <tr>\n",
       "      <th>2</th>\n",
       "      <td>3</td>\n",
       "      <td>1047</td>\n",
       "      <td>Christopher Capps</td>\n",
       "      <td>02:38:43</td>\n",
       "      <td>2016</td>\n",
       "      <td>Nashville</td>\n",
       "      <td>2019-09-28 02:38:43</td>\n",
       "    </tr>\n",
       "    <tr>\n",
       "      <th>3</th>\n",
       "      <td>4</td>\n",
       "      <td>1052</td>\n",
       "      <td>Jason Grimes</td>\n",
       "      <td>02:45:06</td>\n",
       "      <td>2016</td>\n",
       "      <td>Nashville</td>\n",
       "      <td>2019-09-28 02:45:06</td>\n",
       "    </tr>\n",
       "    <tr>\n",
       "      <th>4</th>\n",
       "      <td>5</td>\n",
       "      <td>1046</td>\n",
       "      <td>David Adams</td>\n",
       "      <td>02:47:28</td>\n",
       "      <td>2016</td>\n",
       "      <td>Nashville</td>\n",
       "      <td>2019-09-28 02:47:28</td>\n",
       "    </tr>\n",
       "  </tbody>\n",
       "</table>\n",
       "</div>"
      ],
      "text/plain": [
       "   Overall   Bib               Name      Time  Year   Location  \\\n",
       "0        1     1     Scott Wietecha  02:25:42  2016  Nashville   \n",
       "1        2     3      Brian Shelton  02:34:43  2016  Nashville   \n",
       "2        3  1047  Christopher Capps  02:38:43  2016  Nashville   \n",
       "3        4  1052       Jason Grimes  02:45:06  2016  Nashville   \n",
       "4        5  1046        David Adams  02:47:28  2016  Nashville   \n",
       "\n",
       "             DateTime  \n",
       "0 2019-09-28 02:25:42  \n",
       "1 2019-09-28 02:34:43  \n",
       "2 2019-09-28 02:38:43  \n",
       "3 2019-09-28 02:45:06  \n",
       "4 2019-09-28 02:47:28  "
      ]
     },
     "execution_count": 20,
     "metadata": {},
     "output_type": "execute_result"
    }
   ],
   "source": [
    "all_marathons.head()"
   ]
  },
  {
   "cell_type": "code",
   "execution_count": 21,
   "metadata": {},
   "outputs": [
    {
     "name": "stdout",
     "output_type": "stream",
     "text": [
      "<class 'pandas.core.frame.DataFrame'>\n",
      "Int64Index: 34896 entries, 0 to 43767\n",
      "Data columns (total 7 columns):\n",
      "Overall     34896 non-null int64\n",
      "Bib         34896 non-null int64\n",
      "Name        34896 non-null object\n",
      "Time        34896 non-null object\n",
      "Year        34896 non-null int64\n",
      "Location    34896 non-null category\n",
      "DateTime    34896 non-null datetime64[ns]\n",
      "dtypes: category(1), datetime64[ns](1), int64(3), object(2)\n",
      "memory usage: 1.9+ MB\n"
     ]
    }
   ],
   "source": [
    "all_marathons.info()"
   ]
  },
  {
   "cell_type": "code",
   "execution_count": 22,
   "metadata": {},
   "outputs": [],
   "source": [
    "all_marathons[\"Total_Sec\"] = pd.to_timedelta(all_marathons.Time).dt.total_seconds()"
   ]
  },
  {
   "cell_type": "code",
   "execution_count": 23,
   "metadata": {},
   "outputs": [
    {
     "data": {
      "text/html": [
       "<div>\n",
       "<style scoped>\n",
       "    .dataframe tbody tr th:only-of-type {\n",
       "        vertical-align: middle;\n",
       "    }\n",
       "\n",
       "    .dataframe tbody tr th {\n",
       "        vertical-align: top;\n",
       "    }\n",
       "\n",
       "    .dataframe thead th {\n",
       "        text-align: right;\n",
       "    }\n",
       "</style>\n",
       "<table border=\"1\" class=\"dataframe\">\n",
       "  <thead>\n",
       "    <tr style=\"text-align: right;\">\n",
       "      <th></th>\n",
       "      <th>Overall</th>\n",
       "      <th>Bib</th>\n",
       "      <th>Name</th>\n",
       "      <th>Time</th>\n",
       "      <th>Year</th>\n",
       "      <th>Location</th>\n",
       "      <th>DateTime</th>\n",
       "      <th>Total_Sec</th>\n",
       "    </tr>\n",
       "  </thead>\n",
       "  <tbody>\n",
       "    <tr>\n",
       "      <th>0</th>\n",
       "      <td>1</td>\n",
       "      <td>1</td>\n",
       "      <td>Scott Wietecha</td>\n",
       "      <td>02:25:42</td>\n",
       "      <td>2016</td>\n",
       "      <td>Nashville</td>\n",
       "      <td>2019-09-28 02:25:42</td>\n",
       "      <td>8742.0</td>\n",
       "    </tr>\n",
       "    <tr>\n",
       "      <th>1</th>\n",
       "      <td>2</td>\n",
       "      <td>3</td>\n",
       "      <td>Brian Shelton</td>\n",
       "      <td>02:34:43</td>\n",
       "      <td>2016</td>\n",
       "      <td>Nashville</td>\n",
       "      <td>2019-09-28 02:34:43</td>\n",
       "      <td>9283.0</td>\n",
       "    </tr>\n",
       "    <tr>\n",
       "      <th>2</th>\n",
       "      <td>3</td>\n",
       "      <td>1047</td>\n",
       "      <td>Christopher Capps</td>\n",
       "      <td>02:38:43</td>\n",
       "      <td>2016</td>\n",
       "      <td>Nashville</td>\n",
       "      <td>2019-09-28 02:38:43</td>\n",
       "      <td>9523.0</td>\n",
       "    </tr>\n",
       "    <tr>\n",
       "      <th>3</th>\n",
       "      <td>4</td>\n",
       "      <td>1052</td>\n",
       "      <td>Jason Grimes</td>\n",
       "      <td>02:45:06</td>\n",
       "      <td>2016</td>\n",
       "      <td>Nashville</td>\n",
       "      <td>2019-09-28 02:45:06</td>\n",
       "      <td>9906.0</td>\n",
       "    </tr>\n",
       "    <tr>\n",
       "      <th>4</th>\n",
       "      <td>5</td>\n",
       "      <td>1046</td>\n",
       "      <td>David Adams</td>\n",
       "      <td>02:47:28</td>\n",
       "      <td>2016</td>\n",
       "      <td>Nashville</td>\n",
       "      <td>2019-09-28 02:47:28</td>\n",
       "      <td>10048.0</td>\n",
       "    </tr>\n",
       "  </tbody>\n",
       "</table>\n",
       "</div>"
      ],
      "text/plain": [
       "   Overall   Bib               Name      Time  Year   Location  \\\n",
       "0        1     1     Scott Wietecha  02:25:42  2016  Nashville   \n",
       "1        2     3      Brian Shelton  02:34:43  2016  Nashville   \n",
       "2        3  1047  Christopher Capps  02:38:43  2016  Nashville   \n",
       "3        4  1052       Jason Grimes  02:45:06  2016  Nashville   \n",
       "4        5  1046        David Adams  02:47:28  2016  Nashville   \n",
       "\n",
       "             DateTime  Total_Sec  \n",
       "0 2019-09-28 02:25:42     8742.0  \n",
       "1 2019-09-28 02:34:43     9283.0  \n",
       "2 2019-09-28 02:38:43     9523.0  \n",
       "3 2019-09-28 02:45:06     9906.0  \n",
       "4 2019-09-28 02:47:28    10048.0  "
      ]
     },
     "execution_count": 23,
     "metadata": {},
     "output_type": "execute_result"
    }
   ],
   "source": [
    "all_marathons.head()"
   ]
  },
  {
   "cell_type": "code",
   "execution_count": 24,
   "metadata": {},
   "outputs": [],
   "source": [
    "all_marathons.to_csv('data/marathons_with_time_as_seconds.csv')"
   ]
  },
  {
   "cell_type": "markdown",
   "metadata": {},
   "source": [
    "**There are 3600 seconds per hour**"
   ]
  },
  {
   "cell_type": "code",
   "execution_count": 25,
   "metadata": {},
   "outputs": [
    {
     "data": {
      "text/plain": [
       "16547.59973599296"
      ]
     },
     "execution_count": 25,
     "metadata": {},
     "output_type": "execute_result"
    }
   ],
   "source": [
    "all_marathons[all_marathons.Year == 2019].Total_Sec.mean()"
   ]
  },
  {
   "cell_type": "code",
   "execution_count": 26,
   "metadata": {},
   "outputs": [],
   "source": [
    "all_marathons.Total_Sec = all_marathons.Total_Sec.astype(int)"
   ]
  },
  {
   "cell_type": "code",
   "execution_count": 27,
   "metadata": {
    "scrolled": true
   },
   "outputs": [
    {
     "data": {
      "text/html": [
       "<div>\n",
       "<style scoped>\n",
       "    .dataframe tbody tr th:only-of-type {\n",
       "        vertical-align: middle;\n",
       "    }\n",
       "\n",
       "    .dataframe tbody tr th {\n",
       "        vertical-align: top;\n",
       "    }\n",
       "\n",
       "    .dataframe thead th {\n",
       "        text-align: right;\n",
       "    }\n",
       "</style>\n",
       "<table border=\"1\" class=\"dataframe\">\n",
       "  <thead>\n",
       "    <tr style=\"text-align: right;\">\n",
       "      <th></th>\n",
       "      <th>Overall</th>\n",
       "      <th>Bib</th>\n",
       "      <th>Name</th>\n",
       "      <th>Time</th>\n",
       "      <th>Year</th>\n",
       "      <th>Location</th>\n",
       "      <th>DateTime</th>\n",
       "      <th>Total_Sec</th>\n",
       "    </tr>\n",
       "  </thead>\n",
       "  <tbody>\n",
       "    <tr>\n",
       "      <th>0</th>\n",
       "      <td>1</td>\n",
       "      <td>1</td>\n",
       "      <td>Scott Wietecha</td>\n",
       "      <td>02:25:42</td>\n",
       "      <td>2016</td>\n",
       "      <td>Nashville</td>\n",
       "      <td>2019-09-28 02:25:42</td>\n",
       "      <td>8742</td>\n",
       "    </tr>\n",
       "    <tr>\n",
       "      <th>1</th>\n",
       "      <td>2</td>\n",
       "      <td>3</td>\n",
       "      <td>Brian Shelton</td>\n",
       "      <td>02:34:43</td>\n",
       "      <td>2016</td>\n",
       "      <td>Nashville</td>\n",
       "      <td>2019-09-28 02:34:43</td>\n",
       "      <td>9283</td>\n",
       "    </tr>\n",
       "    <tr>\n",
       "      <th>2</th>\n",
       "      <td>3</td>\n",
       "      <td>1047</td>\n",
       "      <td>Christopher Capps</td>\n",
       "      <td>02:38:43</td>\n",
       "      <td>2016</td>\n",
       "      <td>Nashville</td>\n",
       "      <td>2019-09-28 02:38:43</td>\n",
       "      <td>9523</td>\n",
       "    </tr>\n",
       "    <tr>\n",
       "      <th>3</th>\n",
       "      <td>4</td>\n",
       "      <td>1052</td>\n",
       "      <td>Jason Grimes</td>\n",
       "      <td>02:45:06</td>\n",
       "      <td>2016</td>\n",
       "      <td>Nashville</td>\n",
       "      <td>2019-09-28 02:45:06</td>\n",
       "      <td>9906</td>\n",
       "    </tr>\n",
       "    <tr>\n",
       "      <th>4</th>\n",
       "      <td>5</td>\n",
       "      <td>1046</td>\n",
       "      <td>David Adams</td>\n",
       "      <td>02:47:28</td>\n",
       "      <td>2016</td>\n",
       "      <td>Nashville</td>\n",
       "      <td>2019-09-28 02:47:28</td>\n",
       "      <td>10048</td>\n",
       "    </tr>\n",
       "  </tbody>\n",
       "</table>\n",
       "</div>"
      ],
      "text/plain": [
       "   Overall   Bib               Name      Time  Year   Location  \\\n",
       "0        1     1     Scott Wietecha  02:25:42  2016  Nashville   \n",
       "1        2     3      Brian Shelton  02:34:43  2016  Nashville   \n",
       "2        3  1047  Christopher Capps  02:38:43  2016  Nashville   \n",
       "3        4  1052       Jason Grimes  02:45:06  2016  Nashville   \n",
       "4        5  1046        David Adams  02:47:28  2016  Nashville   \n",
       "\n",
       "             DateTime  Total_Sec  \n",
       "0 2019-09-28 02:25:42       8742  \n",
       "1 2019-09-28 02:34:43       9283  \n",
       "2 2019-09-28 02:38:43       9523  \n",
       "3 2019-09-28 02:45:06       9906  \n",
       "4 2019-09-28 02:47:28      10048  "
      ]
     },
     "execution_count": 27,
     "metadata": {},
     "output_type": "execute_result"
    }
   ],
   "source": [
    "all_marathons.head()"
   ]
  },
  {
   "cell_type": "code",
   "execution_count": 28,
   "metadata": {},
   "outputs": [],
   "source": [
    "avg_2016 = (all_marathons[all_marathons.Year == 2016].Total_Sec.mean() / 3600)\n",
    "avg_2017 = (all_marathons[all_marathons.Year == 2017].Total_Sec.mean() / 3600)\n",
    "avg_2018 = (all_marathons[all_marathons.Year == 2018].Total_Sec.mean() / 3600)\n",
    "avg_2019 = (all_marathons[all_marathons.Year == 2019].Total_Sec.mean() / 3600)"
   ]
  },
  {
   "cell_type": "code",
   "execution_count": 29,
   "metadata": {},
   "outputs": [],
   "source": [
    "year = [2016, 2017, 2018, 2019]\n",
    "averages = [avg_2016, avg_2017, avg_2018, avg_2019]"
   ]
  },
  {
   "cell_type": "code",
   "execution_count": 30,
   "metadata": {},
   "outputs": [
    {
     "data": {
      "image/png": "[encoded data removed]",
      "text/plain": [
       "<Figure size 720x360 with 1 Axes>"
      ]
     },
     "metadata": {
      "needs_background": "light"
     },
     "output_type": "display_data"
    }
   ],
   "source": [
    "fig = plt.figure(figsize=(10,5))\n",
    "plt.plot(year, averages, color = 'orangered', linewidth=4, marker='o', markersize=12, fillstyle = 'full')\n",
    "plt.xlabel('Years')\n",
    "plt.xticks(year)\n",
    "plt.ylabel('Average Finish Times')\n",
    "plt.ylim(4.58, 4.7)\n",
    "plt.show()"
   ]
  },
  {
   "cell_type": "code",
   "execution_count": 31,
   "metadata": {},
   "outputs": [],
   "source": [
    "elite_runners = all_marathons[all_marathons.Total_Sec <= 9000]"
   ]
  },
  {
   "cell_type": "code",
   "execution_count": 32,
   "metadata": {},
   "outputs": [],
   "source": [
    "elite_runners = elite_runners.reset_index(drop = True)"
   ]
  },
  {
   "cell_type": "code",
   "execution_count": 33,
   "metadata": {},
   "outputs": [
    {
     "data": {
      "text/html": [
       "<div>\n",
       "<style scoped>\n",
       "    .dataframe tbody tr th:only-of-type {\n",
       "        vertical-align: middle;\n",
       "    }\n",
       "\n",
       "    .dataframe tbody tr th {\n",
       "        vertical-align: top;\n",
       "    }\n",
       "\n",
       "    .dataframe thead th {\n",
       "        text-align: right;\n",
       "    }\n",
       "</style>\n",
       "<table border=\"1\" class=\"dataframe\">\n",
       "  <thead>\n",
       "    <tr style=\"text-align: right;\">\n",
       "      <th></th>\n",
       "      <th>Overall</th>\n",
       "      <th>Bib</th>\n",
       "      <th>Name</th>\n",
       "      <th>Time</th>\n",
       "      <th>Year</th>\n",
       "      <th>Location</th>\n",
       "      <th>DateTime</th>\n",
       "      <th>Total_Sec</th>\n",
       "    </tr>\n",
       "  </thead>\n",
       "  <tbody>\n",
       "    <tr>\n",
       "      <th>31</th>\n",
       "      <td>1</td>\n",
       "      <td>1</td>\n",
       "      <td>Tyler Andrews</td>\n",
       "      <td>02:20:45</td>\n",
       "      <td>2018</td>\n",
       "      <td>DC</td>\n",
       "      <td>2019-09-28 02:20:45</td>\n",
       "      <td>8445</td>\n",
       "    </tr>\n",
       "    <tr>\n",
       "      <th>32</th>\n",
       "      <td>2</td>\n",
       "      <td>2</td>\n",
       "      <td>Yezid Alexander Orjuela Soche</td>\n",
       "      <td>02:25:42</td>\n",
       "      <td>2018</td>\n",
       "      <td>DC</td>\n",
       "      <td>2019-09-28 02:25:42</td>\n",
       "      <td>8742</td>\n",
       "    </tr>\n",
       "    <tr>\n",
       "      <th>33</th>\n",
       "      <td>1882</td>\n",
       "      <td>22652</td>\n",
       "      <td>Firas Shoorbajee</td>\n",
       "      <td>02:04:00</td>\n",
       "      <td>2018</td>\n",
       "      <td>DC</td>\n",
       "      <td>2019-09-28 02:04:00</td>\n",
       "      <td>7440</td>\n",
       "    </tr>\n",
       "    <tr>\n",
       "      <th>34</th>\n",
       "      <td>1</td>\n",
       "      <td>71</td>\n",
       "      <td>Tyler Andrews</td>\n",
       "      <td>02:24:13</td>\n",
       "      <td>2019</td>\n",
       "      <td>DC</td>\n",
       "      <td>2019-09-28 02:24:13</td>\n",
       "      <td>8653</td>\n",
       "    </tr>\n",
       "    <tr>\n",
       "      <th>35</th>\n",
       "      <td>2</td>\n",
       "      <td>30013</td>\n",
       "      <td>Aaron Kremer</td>\n",
       "      <td>02:29:34</td>\n",
       "      <td>2019</td>\n",
       "      <td>DC</td>\n",
       "      <td>2019-09-28 02:29:34</td>\n",
       "      <td>8974</td>\n",
       "    </tr>\n",
       "  </tbody>\n",
       "</table>\n",
       "</div>"
      ],
      "text/plain": [
       "    Overall    Bib                           Name      Time  Year Location  \\\n",
       "31        1      1                  Tyler Andrews  02:20:45  2018       DC   \n",
       "32        2      2  Yezid Alexander Orjuela Soche  02:25:42  2018       DC   \n",
       "33     1882  22652               Firas Shoorbajee  02:04:00  2018       DC   \n",
       "34        1     71                  Tyler Andrews  02:24:13  2019       DC   \n",
       "35        2  30013                   Aaron Kremer  02:29:34  2019       DC   \n",
       "\n",
       "              DateTime  Total_Sec  \n",
       "31 2019-09-28 02:20:45       8445  \n",
       "32 2019-09-28 02:25:42       8742  \n",
       "33 2019-09-28 02:04:00       7440  \n",
       "34 2019-09-28 02:24:13       8653  \n",
       "35 2019-09-28 02:29:34       8974  "
      ]
     },
     "execution_count": 33,
     "metadata": {},
     "output_type": "execute_result"
    }
   ],
   "source": [
    "elite_runners.tail()"
   ]
  },
  {
   "cell_type": "code",
   "execution_count": 34,
   "metadata": {},
   "outputs": [
    {
     "data": {
      "text/plain": [
       "(36, 8)"
      ]
     },
     "execution_count": 34,
     "metadata": {},
     "output_type": "execute_result"
    }
   ],
   "source": [
    "elite_runners.shape"
   ]
  },
  {
   "cell_type": "code",
   "execution_count": 35,
   "metadata": {},
   "outputs": [
    {
     "data": {
      "text/plain": [
       "Nashville    9705\n",
       "DC           8647\n",
       "Seattle      8509\n",
       "Arizona      8035\n",
       "Name: Location, dtype: int64"
      ]
     },
     "execution_count": 35,
     "metadata": {},
     "output_type": "execute_result"
    }
   ],
   "source": [
    "all_marathons.Location.value_counts()"
   ]
  },
  {
   "cell_type": "code",
   "execution_count": 36,
   "metadata": {},
   "outputs": [],
   "source": [
    "elite_runners = elite_runners[elite_runners.Overall <= 500]\n",
    "elite_runners = elite_runners.reset_index(drop = True)"
   ]
  },
  {
   "cell_type": "code",
   "execution_count": 37,
   "metadata": {},
   "outputs": [
    {
     "data": {
      "text/html": [
       "<div>\n",
       "<style scoped>\n",
       "    .dataframe tbody tr th:only-of-type {\n",
       "        vertical-align: middle;\n",
       "    }\n",
       "\n",
       "    .dataframe tbody tr th {\n",
       "        vertical-align: top;\n",
       "    }\n",
       "\n",
       "    .dataframe thead th {\n",
       "        text-align: right;\n",
       "    }\n",
       "</style>\n",
       "<table border=\"1\" class=\"dataframe\">\n",
       "  <thead>\n",
       "    <tr style=\"text-align: right;\">\n",
       "      <th></th>\n",
       "      <th>Overall</th>\n",
       "      <th>Bib</th>\n",
       "      <th>Name</th>\n",
       "      <th>Time</th>\n",
       "      <th>Year</th>\n",
       "      <th>Location</th>\n",
       "      <th>DateTime</th>\n",
       "      <th>Total_Sec</th>\n",
       "    </tr>\n",
       "  </thead>\n",
       "  <tbody>\n",
       "    <tr>\n",
       "      <th>0</th>\n",
       "      <td>1</td>\n",
       "      <td>1</td>\n",
       "      <td>Scott Wietecha</td>\n",
       "      <td>02:25:42</td>\n",
       "      <td>2016</td>\n",
       "      <td>Nashville</td>\n",
       "      <td>2019-09-28 02:25:42</td>\n",
       "      <td>8742</td>\n",
       "    </tr>\n",
       "    <tr>\n",
       "      <th>1</th>\n",
       "      <td>1</td>\n",
       "      <td>1</td>\n",
       "      <td>Scott Wietecha</td>\n",
       "      <td>02:28:16</td>\n",
       "      <td>2018</td>\n",
       "      <td>Nashville</td>\n",
       "      <td>2019-09-28 02:28:16</td>\n",
       "      <td>8896</td>\n",
       "    </tr>\n",
       "    <tr>\n",
       "      <th>2</th>\n",
       "      <td>2</td>\n",
       "      <td>3</td>\n",
       "      <td>Garang Madut</td>\n",
       "      <td>02:29:52</td>\n",
       "      <td>2018</td>\n",
       "      <td>Nashville</td>\n",
       "      <td>2019-09-28 02:29:52</td>\n",
       "      <td>8992</td>\n",
       "    </tr>\n",
       "    <tr>\n",
       "      <th>3</th>\n",
       "      <td>1</td>\n",
       "      <td>30001</td>\n",
       "      <td>Travis Peruski</td>\n",
       "      <td>01:37:54</td>\n",
       "      <td>2019</td>\n",
       "      <td>Nashville</td>\n",
       "      <td>2019-09-28 01:37:54</td>\n",
       "      <td>5874</td>\n",
       "    </tr>\n",
       "    <tr>\n",
       "      <th>4</th>\n",
       "      <td>1</td>\n",
       "      <td>2</td>\n",
       "      <td>Samuel Golitom Hadgu</td>\n",
       "      <td>02:26:01</td>\n",
       "      <td>2016</td>\n",
       "      <td>Seattle</td>\n",
       "      <td>2019-09-28 02:26:01</td>\n",
       "      <td>8761</td>\n",
       "    </tr>\n",
       "    <tr>\n",
       "      <th>5</th>\n",
       "      <td>1</td>\n",
       "      <td>57037</td>\n",
       "      <td>Gerald Blanchard</td>\n",
       "      <td>00:35:50</td>\n",
       "      <td>2016</td>\n",
       "      <td>Arizona</td>\n",
       "      <td>2019-09-28 00:35:50</td>\n",
       "      <td>2150</td>\n",
       "    </tr>\n",
       "    <tr>\n",
       "      <th>6</th>\n",
       "      <td>1</td>\n",
       "      <td>51409</td>\n",
       "      <td>Corey Petersen</td>\n",
       "      <td>02:27:18</td>\n",
       "      <td>2016</td>\n",
       "      <td>Arizona</td>\n",
       "      <td>2019-09-28 02:27:18</td>\n",
       "      <td>8838</td>\n",
       "    </tr>\n",
       "    <tr>\n",
       "      <th>7</th>\n",
       "      <td>2</td>\n",
       "      <td>52042</td>\n",
       "      <td>Johnny Camacho</td>\n",
       "      <td>00:54:28</td>\n",
       "      <td>2016</td>\n",
       "      <td>Arizona</td>\n",
       "      <td>2019-09-28 00:54:28</td>\n",
       "      <td>3268</td>\n",
       "    </tr>\n",
       "    <tr>\n",
       "      <th>8</th>\n",
       "      <td>3</td>\n",
       "      <td>56074</td>\n",
       "      <td>Dan Iwanaga</td>\n",
       "      <td>00:52:34</td>\n",
       "      <td>2016</td>\n",
       "      <td>Arizona</td>\n",
       "      <td>2019-09-28 00:52:34</td>\n",
       "      <td>3154</td>\n",
       "    </tr>\n",
       "    <tr>\n",
       "      <th>9</th>\n",
       "      <td>4</td>\n",
       "      <td>8</td>\n",
       "      <td>Tommy Rivers Puzey</td>\n",
       "      <td>02:25:22</td>\n",
       "      <td>2016</td>\n",
       "      <td>Arizona</td>\n",
       "      <td>2019-09-28 02:25:22</td>\n",
       "      <td>8722</td>\n",
       "    </tr>\n",
       "    <tr>\n",
       "      <th>10</th>\n",
       "      <td>5</td>\n",
       "      <td>1</td>\n",
       "      <td>Roosevelt Cook</td>\n",
       "      <td>02:27:45</td>\n",
       "      <td>2016</td>\n",
       "      <td>Arizona</td>\n",
       "      <td>2019-09-28 02:27:45</td>\n",
       "      <td>8865</td>\n",
       "    </tr>\n",
       "    <tr>\n",
       "      <th>11</th>\n",
       "      <td>1</td>\n",
       "      <td>1</td>\n",
       "      <td>Thomas Puzey</td>\n",
       "      <td>02:19:57</td>\n",
       "      <td>2017</td>\n",
       "      <td>Arizona</td>\n",
       "      <td>2019-09-28 02:19:57</td>\n",
       "      <td>8397</td>\n",
       "    </tr>\n",
       "    <tr>\n",
       "      <th>12</th>\n",
       "      <td>2</td>\n",
       "      <td>5</td>\n",
       "      <td>Roosevelt Cook</td>\n",
       "      <td>02:23:47</td>\n",
       "      <td>2017</td>\n",
       "      <td>Arizona</td>\n",
       "      <td>2019-09-28 02:23:47</td>\n",
       "      <td>8627</td>\n",
       "    </tr>\n",
       "    <tr>\n",
       "      <th>13</th>\n",
       "      <td>3</td>\n",
       "      <td>2</td>\n",
       "      <td>Naamn Weldeyohans</td>\n",
       "      <td>02:24:11</td>\n",
       "      <td>2017</td>\n",
       "      <td>Arizona</td>\n",
       "      <td>2019-09-28 02:24:11</td>\n",
       "      <td>8651</td>\n",
       "    </tr>\n",
       "    <tr>\n",
       "      <th>14</th>\n",
       "      <td>1</td>\n",
       "      <td>56324</td>\n",
       "      <td>Charlene Smith</td>\n",
       "      <td>02:18:20</td>\n",
       "      <td>2018</td>\n",
       "      <td>Arizona</td>\n",
       "      <td>2019-09-28 02:18:20</td>\n",
       "      <td>8300</td>\n",
       "    </tr>\n",
       "    <tr>\n",
       "      <th>15</th>\n",
       "      <td>1</td>\n",
       "      <td>72</td>\n",
       "      <td>Chris Mocko</td>\n",
       "      <td>02:21:00</td>\n",
       "      <td>2019</td>\n",
       "      <td>Arizona</td>\n",
       "      <td>2019-09-28 02:21:00</td>\n",
       "      <td>8460</td>\n",
       "    </tr>\n",
       "    <tr>\n",
       "      <th>16</th>\n",
       "      <td>2</td>\n",
       "      <td>70</td>\n",
       "      <td>Roosevelt Cook</td>\n",
       "      <td>02:25:26</td>\n",
       "      <td>2019</td>\n",
       "      <td>Arizona</td>\n",
       "      <td>2019-09-28 02:25:26</td>\n",
       "      <td>8726</td>\n",
       "    </tr>\n",
       "    <tr>\n",
       "      <th>17</th>\n",
       "      <td>3</td>\n",
       "      <td>71</td>\n",
       "      <td>Kevin Horchler</td>\n",
       "      <td>02:25:35</td>\n",
       "      <td>2019</td>\n",
       "      <td>Arizona</td>\n",
       "      <td>2019-09-28 02:25:35</td>\n",
       "      <td>8735</td>\n",
       "    </tr>\n",
       "    <tr>\n",
       "      <th>18</th>\n",
       "      <td>1</td>\n",
       "      <td>31616</td>\n",
       "      <td>Samuel Doud</td>\n",
       "      <td>02:26:57</td>\n",
       "      <td>2017</td>\n",
       "      <td>DC</td>\n",
       "      <td>2019-09-28 02:26:57</td>\n",
       "      <td>8817</td>\n",
       "    </tr>\n",
       "    <tr>\n",
       "      <th>19</th>\n",
       "      <td>2</td>\n",
       "      <td>2</td>\n",
       "      <td>Girma Bedada</td>\n",
       "      <td>02:29:57</td>\n",
       "      <td>2017</td>\n",
       "      <td>DC</td>\n",
       "      <td>2019-09-28 02:29:57</td>\n",
       "      <td>8997</td>\n",
       "    </tr>\n",
       "    <tr>\n",
       "      <th>20</th>\n",
       "      <td>1</td>\n",
       "      <td>1</td>\n",
       "      <td>Tyler Andrews</td>\n",
       "      <td>02:20:45</td>\n",
       "      <td>2018</td>\n",
       "      <td>DC</td>\n",
       "      <td>2019-09-28 02:20:45</td>\n",
       "      <td>8445</td>\n",
       "    </tr>\n",
       "    <tr>\n",
       "      <th>21</th>\n",
       "      <td>2</td>\n",
       "      <td>2</td>\n",
       "      <td>Yezid Alexander Orjuela Soche</td>\n",
       "      <td>02:25:42</td>\n",
       "      <td>2018</td>\n",
       "      <td>DC</td>\n",
       "      <td>2019-09-28 02:25:42</td>\n",
       "      <td>8742</td>\n",
       "    </tr>\n",
       "    <tr>\n",
       "      <th>22</th>\n",
       "      <td>1</td>\n",
       "      <td>71</td>\n",
       "      <td>Tyler Andrews</td>\n",
       "      <td>02:24:13</td>\n",
       "      <td>2019</td>\n",
       "      <td>DC</td>\n",
       "      <td>2019-09-28 02:24:13</td>\n",
       "      <td>8653</td>\n",
       "    </tr>\n",
       "    <tr>\n",
       "      <th>23</th>\n",
       "      <td>2</td>\n",
       "      <td>30013</td>\n",
       "      <td>Aaron Kremer</td>\n",
       "      <td>02:29:34</td>\n",
       "      <td>2019</td>\n",
       "      <td>DC</td>\n",
       "      <td>2019-09-28 02:29:34</td>\n",
       "      <td>8974</td>\n",
       "    </tr>\n",
       "  </tbody>\n",
       "</table>\n",
       "</div>"
      ],
      "text/plain": [
       "    Overall    Bib                           Name      Time  Year   Location  \\\n",
       "0         1      1                 Scott Wietecha  02:25:42  2016  Nashville   \n",
       "1         1      1                 Scott Wietecha  02:28:16  2018  Nashville   \n",
       "2         2      3                   Garang Madut  02:29:52  2018  Nashville   \n",
       "3         1  30001                 Travis Peruski  01:37:54  2019  Nashville   \n",
       "4         1      2           Samuel Golitom Hadgu  02:26:01  2016    Seattle   \n",
       "5         1  57037               Gerald Blanchard  00:35:50  2016    Arizona   \n",
       "6         1  51409                 Corey Petersen  02:27:18  2016    Arizona   \n",
       "7         2  52042                 Johnny Camacho  00:54:28  2016    Arizona   \n",
       "8         3  56074                    Dan Iwanaga  00:52:34  2016    Arizona   \n",
       "9         4      8             Tommy Rivers Puzey  02:25:22  2016    Arizona   \n",
       "10        5      1                 Roosevelt Cook  02:27:45  2016    Arizona   \n",
       "11        1      1                   Thomas Puzey  02:19:57  2017    Arizona   \n",
       "12        2      5                 Roosevelt Cook  02:23:47  2017    Arizona   \n",
       "13        3      2              Naamn Weldeyohans  02:24:11  2017    Arizona   \n",
       "14        1  56324                 Charlene Smith  02:18:20  2018    Arizona   \n",
       "15        1     72                    Chris Mocko  02:21:00  2019    Arizona   \n",
       "16        2     70                 Roosevelt Cook  02:25:26  2019    Arizona   \n",
       "17        3     71                 Kevin Horchler  02:25:35  2019    Arizona   \n",
       "18        1  31616                    Samuel Doud  02:26:57  2017         DC   \n",
       "19        2      2                   Girma Bedada  02:29:57  2017         DC   \n",
       "20        1      1                  Tyler Andrews  02:20:45  2018         DC   \n",
       "21        2      2  Yezid Alexander Orjuela Soche  02:25:42  2018         DC   \n",
       "22        1     71                  Tyler Andrews  02:24:13  2019         DC   \n",
       "23        2  30013                   Aaron Kremer  02:29:34  2019         DC   \n",
       "\n",
       "              DateTime  Total_Sec  \n",
       "0  2019-09-28 02:25:42       8742  \n",
       "1  2019-09-28 02:28:16       8896  \n",
       "2  2019-09-28 02:29:52       8992  \n",
       "3  2019-09-28 01:37:54       5874  \n",
       "4  2019-09-28 02:26:01       8761  \n",
       "5  2019-09-28 00:35:50       2150  \n",
       "6  2019-09-28 02:27:18       8838  \n",
       "7  2019-09-28 00:54:28       3268  \n",
       "8  2019-09-28 00:52:34       3154  \n",
       "9  2019-09-28 02:25:22       8722  \n",
       "10 2019-09-28 02:27:45       8865  \n",
       "11 2019-09-28 02:19:57       8397  \n",
       "12 2019-09-28 02:23:47       8627  \n",
       "13 2019-09-28 02:24:11       8651  \n",
       "14 2019-09-28 02:18:20       8300  \n",
       "15 2019-09-28 02:21:00       8460  \n",
       "16 2019-09-28 02:25:26       8726  \n",
       "17 2019-09-28 02:25:35       8735  \n",
       "18 2019-09-28 02:26:57       8817  \n",
       "19 2019-09-28 02:29:57       8997  \n",
       "20 2019-09-28 02:20:45       8445  \n",
       "21 2019-09-28 02:25:42       8742  \n",
       "22 2019-09-28 02:24:13       8653  \n",
       "23 2019-09-28 02:29:34       8974  "
      ]
     },
     "execution_count": 37,
     "metadata": {},
     "output_type": "execute_result"
    }
   ],
   "source": [
    "elite_runners"
   ]
  },
  {
   "cell_type": "code",
   "execution_count": 38,
   "metadata": {},
   "outputs": [],
   "source": [
    "elite_runners = elite_runners.drop([3, 5, 7, 8])"
   ]
  },
  {
   "cell_type": "code",
   "execution_count": 39,
   "metadata": {},
   "outputs": [
    {
     "data": {
      "text/html": [
       "<div>\n",
       "<style scoped>\n",
       "    .dataframe tbody tr th:only-of-type {\n",
       "        vertical-align: middle;\n",
       "    }\n",
       "\n",
       "    .dataframe tbody tr th {\n",
       "        vertical-align: top;\n",
       "    }\n",
       "\n",
       "    .dataframe thead th {\n",
       "        text-align: right;\n",
       "    }\n",
       "</style>\n",
       "<table border=\"1\" class=\"dataframe\">\n",
       "  <thead>\n",
       "    <tr style=\"text-align: right;\">\n",
       "      <th></th>\n",
       "      <th>Overall</th>\n",
       "      <th>Bib</th>\n",
       "      <th>Name</th>\n",
       "      <th>Time</th>\n",
       "      <th>Year</th>\n",
       "      <th>Location</th>\n",
       "      <th>DateTime</th>\n",
       "      <th>Total_Sec</th>\n",
       "    </tr>\n",
       "  </thead>\n",
       "  <tbody>\n",
       "    <tr>\n",
       "      <th>0</th>\n",
       "      <td>1</td>\n",
       "      <td>1</td>\n",
       "      <td>Scott Wietecha</td>\n",
       "      <td>02:25:42</td>\n",
       "      <td>2016</td>\n",
       "      <td>Nashville</td>\n",
       "      <td>2019-09-28 02:25:42</td>\n",
       "      <td>8742</td>\n",
       "    </tr>\n",
       "    <tr>\n",
       "      <th>1</th>\n",
       "      <td>1</td>\n",
       "      <td>1</td>\n",
       "      <td>Scott Wietecha</td>\n",
       "      <td>02:28:16</td>\n",
       "      <td>2018</td>\n",
       "      <td>Nashville</td>\n",
       "      <td>2019-09-28 02:28:16</td>\n",
       "      <td>8896</td>\n",
       "    </tr>\n",
       "    <tr>\n",
       "      <th>2</th>\n",
       "      <td>2</td>\n",
       "      <td>3</td>\n",
       "      <td>Garang Madut</td>\n",
       "      <td>02:29:52</td>\n",
       "      <td>2018</td>\n",
       "      <td>Nashville</td>\n",
       "      <td>2019-09-28 02:29:52</td>\n",
       "      <td>8992</td>\n",
       "    </tr>\n",
       "    <tr>\n",
       "      <th>3</th>\n",
       "      <td>1</td>\n",
       "      <td>2</td>\n",
       "      <td>Samuel Golitom Hadgu</td>\n",
       "      <td>02:26:01</td>\n",
       "      <td>2016</td>\n",
       "      <td>Seattle</td>\n",
       "      <td>2019-09-28 02:26:01</td>\n",
       "      <td>8761</td>\n",
       "    </tr>\n",
       "    <tr>\n",
       "      <th>4</th>\n",
       "      <td>1</td>\n",
       "      <td>51409</td>\n",
       "      <td>Corey Petersen</td>\n",
       "      <td>02:27:18</td>\n",
       "      <td>2016</td>\n",
       "      <td>Arizona</td>\n",
       "      <td>2019-09-28 02:27:18</td>\n",
       "      <td>8838</td>\n",
       "    </tr>\n",
       "    <tr>\n",
       "      <th>5</th>\n",
       "      <td>4</td>\n",
       "      <td>8</td>\n",
       "      <td>Tommy Rivers Puzey</td>\n",
       "      <td>02:25:22</td>\n",
       "      <td>2016</td>\n",
       "      <td>Arizona</td>\n",
       "      <td>2019-09-28 02:25:22</td>\n",
       "      <td>8722</td>\n",
       "    </tr>\n",
       "    <tr>\n",
       "      <th>6</th>\n",
       "      <td>5</td>\n",
       "      <td>1</td>\n",
       "      <td>Roosevelt Cook</td>\n",
       "      <td>02:27:45</td>\n",
       "      <td>2016</td>\n",
       "      <td>Arizona</td>\n",
       "      <td>2019-09-28 02:27:45</td>\n",
       "      <td>8865</td>\n",
       "    </tr>\n",
       "    <tr>\n",
       "      <th>7</th>\n",
       "      <td>1</td>\n",
       "      <td>1</td>\n",
       "      <td>Thomas Puzey</td>\n",
       "      <td>02:19:57</td>\n",
       "      <td>2017</td>\n",
       "      <td>Arizona</td>\n",
       "      <td>2019-09-28 02:19:57</td>\n",
       "      <td>8397</td>\n",
       "    </tr>\n",
       "    <tr>\n",
       "      <th>8</th>\n",
       "      <td>2</td>\n",
       "      <td>5</td>\n",
       "      <td>Roosevelt Cook</td>\n",
       "      <td>02:23:47</td>\n",
       "      <td>2017</td>\n",
       "      <td>Arizona</td>\n",
       "      <td>2019-09-28 02:23:47</td>\n",
       "      <td>8627</td>\n",
       "    </tr>\n",
       "    <tr>\n",
       "      <th>9</th>\n",
       "      <td>3</td>\n",
       "      <td>2</td>\n",
       "      <td>Naamn Weldeyohans</td>\n",
       "      <td>02:24:11</td>\n",
       "      <td>2017</td>\n",
       "      <td>Arizona</td>\n",
       "      <td>2019-09-28 02:24:11</td>\n",
       "      <td>8651</td>\n",
       "    </tr>\n",
       "    <tr>\n",
       "      <th>10</th>\n",
       "      <td>1</td>\n",
       "      <td>56324</td>\n",
       "      <td>Charlene Smith</td>\n",
       "      <td>02:18:20</td>\n",
       "      <td>2018</td>\n",
       "      <td>Arizona</td>\n",
       "      <td>2019-09-28 02:18:20</td>\n",
       "      <td>8300</td>\n",
       "    </tr>\n",
       "    <tr>\n",
       "      <th>11</th>\n",
       "      <td>1</td>\n",
       "      <td>72</td>\n",
       "      <td>Chris Mocko</td>\n",
       "      <td>02:21:00</td>\n",
       "      <td>2019</td>\n",
       "      <td>Arizona</td>\n",
       "      <td>2019-09-28 02:21:00</td>\n",
       "      <td>8460</td>\n",
       "    </tr>\n",
       "    <tr>\n",
       "      <th>12</th>\n",
       "      <td>2</td>\n",
       "      <td>70</td>\n",
       "      <td>Roosevelt Cook</td>\n",
       "      <td>02:25:26</td>\n",
       "      <td>2019</td>\n",
       "      <td>Arizona</td>\n",
       "      <td>2019-09-28 02:25:26</td>\n",
       "      <td>8726</td>\n",
       "    </tr>\n",
       "    <tr>\n",
       "      <th>13</th>\n",
       "      <td>3</td>\n",
       "      <td>71</td>\n",
       "      <td>Kevin Horchler</td>\n",
       "      <td>02:25:35</td>\n",
       "      <td>2019</td>\n",
       "      <td>Arizona</td>\n",
       "      <td>2019-09-28 02:25:35</td>\n",
       "      <td>8735</td>\n",
       "    </tr>\n",
       "    <tr>\n",
       "      <th>14</th>\n",
       "      <td>1</td>\n",
       "      <td>31616</td>\n",
       "      <td>Samuel Doud</td>\n",
       "      <td>02:26:57</td>\n",
       "      <td>2017</td>\n",
       "      <td>DC</td>\n",
       "      <td>2019-09-28 02:26:57</td>\n",
       "      <td>8817</td>\n",
       "    </tr>\n",
       "    <tr>\n",
       "      <th>15</th>\n",
       "      <td>2</td>\n",
       "      <td>2</td>\n",
       "      <td>Girma Bedada</td>\n",
       "      <td>02:29:57</td>\n",
       "      <td>2017</td>\n",
       "      <td>DC</td>\n",
       "      <td>2019-09-28 02:29:57</td>\n",
       "      <td>8997</td>\n",
       "    </tr>\n",
       "    <tr>\n",
       "      <th>16</th>\n",
       "      <td>1</td>\n",
       "      <td>1</td>\n",
       "      <td>Tyler Andrews</td>\n",
       "      <td>02:20:45</td>\n",
       "      <td>2018</td>\n",
       "      <td>DC</td>\n",
       "      <td>2019-09-28 02:20:45</td>\n",
       "      <td>8445</td>\n",
       "    </tr>\n",
       "    <tr>\n",
       "      <th>17</th>\n",
       "      <td>2</td>\n",
       "      <td>2</td>\n",
       "      <td>Yezid Alexander Orjuela Soche</td>\n",
       "      <td>02:25:42</td>\n",
       "      <td>2018</td>\n",
       "      <td>DC</td>\n",
       "      <td>2019-09-28 02:25:42</td>\n",
       "      <td>8742</td>\n",
       "    </tr>\n",
       "    <tr>\n",
       "      <th>18</th>\n",
       "      <td>1</td>\n",
       "      <td>71</td>\n",
       "      <td>Tyler Andrews</td>\n",
       "      <td>02:24:13</td>\n",
       "      <td>2019</td>\n",
       "      <td>DC</td>\n",
       "      <td>2019-09-28 02:24:13</td>\n",
       "      <td>8653</td>\n",
       "    </tr>\n",
       "    <tr>\n",
       "      <th>19</th>\n",
       "      <td>2</td>\n",
       "      <td>30013</td>\n",
       "      <td>Aaron Kremer</td>\n",
       "      <td>02:29:34</td>\n",
       "      <td>2019</td>\n",
       "      <td>DC</td>\n",
       "      <td>2019-09-28 02:29:34</td>\n",
       "      <td>8974</td>\n",
       "    </tr>\n",
       "  </tbody>\n",
       "</table>\n",
       "</div>"
      ],
      "text/plain": [
       "    Overall    Bib                           Name      Time  Year   Location  \\\n",
       "0         1      1                 Scott Wietecha  02:25:42  2016  Nashville   \n",
       "1         1      1                 Scott Wietecha  02:28:16  2018  Nashville   \n",
       "2         2      3                   Garang Madut  02:29:52  2018  Nashville   \n",
       "3         1      2           Samuel Golitom Hadgu  02:26:01  2016    Seattle   \n",
       "4         1  51409                 Corey Petersen  02:27:18  2016    Arizona   \n",
       "5         4      8             Tommy Rivers Puzey  02:25:22  2016    Arizona   \n",
       "6         5      1                 Roosevelt Cook  02:27:45  2016    Arizona   \n",
       "7         1      1                   Thomas Puzey  02:19:57  2017    Arizona   \n",
       "8         2      5                 Roosevelt Cook  02:23:47  2017    Arizona   \n",
       "9         3      2              Naamn Weldeyohans  02:24:11  2017    Arizona   \n",
       "10        1  56324                 Charlene Smith  02:18:20  2018    Arizona   \n",
       "11        1     72                    Chris Mocko  02:21:00  2019    Arizona   \n",
       "12        2     70                 Roosevelt Cook  02:25:26  2019    Arizona   \n",
       "13        3     71                 Kevin Horchler  02:25:35  2019    Arizona   \n",
       "14        1  31616                    Samuel Doud  02:26:57  2017         DC   \n",
       "15        2      2                   Girma Bedada  02:29:57  2017         DC   \n",
       "16        1      1                  Tyler Andrews  02:20:45  2018         DC   \n",
       "17        2      2  Yezid Alexander Orjuela Soche  02:25:42  2018         DC   \n",
       "18        1     71                  Tyler Andrews  02:24:13  2019         DC   \n",
       "19        2  30013                   Aaron Kremer  02:29:34  2019         DC   \n",
       "\n",
       "              DateTime  Total_Sec  \n",
       "0  2019-09-28 02:25:42       8742  \n",
       "1  2019-09-28 02:28:16       8896  \n",
       "2  2019-09-28 02:29:52       8992  \n",
       "3  2019-09-28 02:26:01       8761  \n",
       "4  2019-09-28 02:27:18       8838  \n",
       "5  2019-09-28 02:25:22       8722  \n",
       "6  2019-09-28 02:27:45       8865  \n",
       "7  2019-09-28 02:19:57       8397  \n",
       "8  2019-09-28 02:23:47       8627  \n",
       "9  2019-09-28 02:24:11       8651  \n",
       "10 2019-09-28 02:18:20       8300  \n",
       "11 2019-09-28 02:21:00       8460  \n",
       "12 2019-09-28 02:25:26       8726  \n",
       "13 2019-09-28 02:25:35       8735  \n",
       "14 2019-09-28 02:26:57       8817  \n",
       "15 2019-09-28 02:29:57       8997  \n",
       "16 2019-09-28 02:20:45       8445  \n",
       "17 2019-09-28 02:25:42       8742  \n",
       "18 2019-09-28 02:24:13       8653  \n",
       "19 2019-09-28 02:29:34       8974  "
      ]
     },
     "execution_count": 39,
     "metadata": {},
     "output_type": "execute_result"
    }
   ],
   "source": [
    "elite_runners = elite_runners.reset_index(drop = True)\n",
    "elite_runners"
   ]
  },
  {
   "cell_type": "code",
   "execution_count": 40,
   "metadata": {
    "scrolled": false
   },
   "outputs": [
    {
     "data": {
      "image/png": "[encoded data removed]",
      "text/plain": [
       "<Figure size 1152x576 with 1 Axes>"
      ]
     },
     "metadata": {
      "needs_background": "light"
     },
     "output_type": "display_data"
    }
   ],
   "source": [
    "fig = plt.figure(figsize=(16,8))\n",
    "elite_runners.Location.value_counts().plot(kind = 'bar', color = 'blue', ec = 'black', alpha = .85)\n",
    "plt.xticks(fontsize = 12, rotation = 0)\n",
    "plt.yticks(fontsize = 12)\n",
    "# plt.grid(axis='y', alpha=0.2)\n",
    "plt.ylabel('Total Runners', fontsize = 14)\n",
    "plt.title('Elite Runners by Location', fontsize = 18, fontweight = 'bold')\n",
    "plt.tight_layout()\n",
    "plt.savefig('data/elite_runners.png')\n",
    "plt.show()"
   ]
  },
  {
   "cell_type": "code",
   "execution_count": 41,
   "metadata": {},
   "outputs": [],
   "source": [
    "seattle = all_marathons[all_marathons.Location == 'Seattle']\n",
    "arizona = all_marathons[all_marathons.Location == 'Arizona']\n",
    "nashville = all_marathons[all_marathons.Location == 'Nashville']\n",
    "dc = all_marathons[all_marathons.Location == 'DC']"
   ]
  },
  {
   "cell_type": "code",
   "execution_count": 42,
   "metadata": {},
   "outputs": [],
   "source": [
    "seattle_avgs_2016 = (seattle[seattle.Year == 2016].Total_Sec.mean() / 3600)\n",
    "seattle_avgs_2017 = (seattle[seattle.Year == 2017].Total_Sec.mean() / 3600)\n",
    "seattle_avgs_2018 = (seattle[seattle.Year == 2018].Total_Sec.mean() / 3600)\n",
    "seattle_avgs_2019 = (seattle[seattle.Year == 2019].Total_Sec.mean() / 3600)\n",
    "seattle_avg = [seattle_avgs_2016, seattle_avgs_2017, seattle_avgs_2018, seattle_avgs_2019]\n",
    "arizona_avgs_2016 = (arizona[arizona.Year == 2016].Total_Sec.mean() / 3600)\n",
    "arizona_avgs_2017 = (arizona[arizona.Year == 2017].Total_Sec.mean() / 3600)\n",
    "arizona_avgs_2018 = (arizona[arizona.Year == 2018].Total_Sec.mean() / 3600)\n",
    "arizona_avgs_2019 = (arizona[arizona.Year == 2019].Total_Sec.mean() / 3600)\n",
    "arizona_avg = [arizona_avgs_2016, arizona_avgs_2017, arizona_avgs_2018, arizona_avgs_2019]\n",
    "dc_avgs_2016 = (dc[dc.Year == 2016].Total_Sec.mean() / 3600)\n",
    "dc_avgs_2017 = (dc[dc.Year == 2017].Total_Sec.mean() / 3600)\n",
    "dc_avgs_2018 = (dc[dc.Year == 2018].Total_Sec.mean() / 3600)\n",
    "dc_avgs_2019 = (dc[dc.Year == 2019].Total_Sec.mean() / 3600)\n",
    "dc_avg = [dc_avgs_2016, dc_avgs_2017, dc_avgs_2018, dc_avgs_2019]\n",
    "nashville_avgs_2016 = (nashville[nashville.Year == 2016].Total_Sec.mean() / 3600)\n",
    "nashville_avgs_2017 = (nashville[nashville.Year == 2017].Total_Sec.mean() / 3600)\n",
    "nashville_avgs_2018 = (nashville[nashville.Year == 2018].Total_Sec.mean() / 3600)\n",
    "nashville_avgs_2019 = (nashville[nashville.Year == 2019].Total_Sec.mean() / 3600)\n",
    "nashville_avg = [nashville_avgs_2016, nashville_avgs_2017, nashville_avgs_2018, nashville_avgs_2019]"
   ]
  },
  {
   "cell_type": "code",
   "execution_count": 43,
   "metadata": {},
   "outputs": [
    {
     "data": {
      "image/png": "[encoded data removed]",
      "text/plain": [
       "<Figure size 1152x576 with 1 Axes>"
      ]
     },
     "metadata": {
      "needs_background": "light"
     },
     "output_type": "display_data"
    }
   ],
   "source": [
    "fig = plt.figure(figsize=(16,8))\n",
    "plt.plot(year, seattle_avg, color = 'blue', linewidth=3, marker='o', markersize=6, label = 'Seattle')\n",
    "plt.plot(year, dc_avg, color = 'purple', linewidth=3, marker='o', markersize=6, label = 'Washington DC')\n",
    "plt.plot(year, arizona_avg, color = 'magenta', linewidth=3, marker='o', markersize=6, label = 'Arizona')\n",
    "plt.plot(year, nashville_avg, color = 'red', linewidth=3, marker='o', markersize=6, label = 'Nashville');\n",
    "plt.title('Average Finish Times by Location', fontsize = 18, fontweight = 'bold')\n",
    "plt.xlabel('Years', fontsize = 14)\n",
    "plt.xticks(year, fontsize = 12)\n",
    "plt.ylabel('Average Finish Times (In Hours)', fontsize = 14)\n",
    "plt.ylim(4.2, 5)\n",
    "plt.grid(alpha = .2)\n",
    "plt.legend(fontsize = 16)\n",
    "plt.tight_layout()\n",
    "plt.savefig('data/average_times_loc.png')\n",
    "plt.show()"
   ]
  },
  {
   "cell_type": "code",
   "execution_count": 44,
   "metadata": {},
   "outputs": [
    {
     "data": {
      "text/plain": [
       "[4.6750035265904915, 4.658286446523054, 4.831402830245247, 4.708831515564644]"
      ]
     },
     "execution_count": 44,
     "metadata": {},
     "output_type": "execute_result"
    }
   ],
   "source": [
    "arizona_avg"
   ]
  },
  {
   "cell_type": "code",
   "execution_count": 45,
   "metadata": {},
   "outputs": [
    {
     "data": {
      "text/plain": [
       "[4.626779309233063, 4.696848795617133, 4.579680323674278, 4.681675919994305]"
      ]
     },
     "execution_count": 45,
     "metadata": {},
     "output_type": "execute_result"
    }
   ],
   "source": [
    "seattle_avg"
   ]
  },
  {
   "cell_type": "code",
   "execution_count": 46,
   "metadata": {},
   "outputs": [
    {
     "data": {
      "text/plain": [
       "[4.798470729796283, 4.896558766859345, 4.812997943363392, 4.701212208504801]"
      ]
     },
     "execution_count": 46,
     "metadata": {},
     "output_type": "execute_result"
    }
   ],
   "source": [
    "nashville_avg"
   ]
  },
  {
   "cell_type": "code",
   "execution_count": 47,
   "metadata": {},
   "outputs": [
    {
     "data": {
      "text/plain": [
       "[4.432224625333158, 4.466941956207021, 4.379673098483508, 4.307880232924142]"
      ]
     },
     "execution_count": 47,
     "metadata": {},
     "output_type": "execute_result"
    }
   ],
   "source": [
    "dc_avg"
   ]
  },
  {
   "cell_type": "code",
   "execution_count": 48,
   "metadata": {},
   "outputs": [
    {
     "name": "stderr",
     "output_type": "stream",
     "text": [
      "C:\\Users\\1saml\\Anaconda3\\lib\\site-packages\\ipykernel_launcher.py:1: SettingWithCopyWarning: \n",
      "A value is trying to be set on a copy of a slice from a DataFrame.\n",
      "Try using .loc[row_indexer,col_indexer] = value instead\n",
      "\n",
      "See the caveats in the documentation: http://pandas.pydata.org/pandas-docs/stable/indexing.html#indexing-view-versus-copy\n",
      "  \"\"\"Entry point for launching an IPython kernel.\n",
      "C:\\Users\\1saml\\Anaconda3\\lib\\site-packages\\ipykernel_launcher.py:2: SettingWithCopyWarning: \n",
      "A value is trying to be set on a copy of a slice from a DataFrame.\n",
      "Try using .loc[row_indexer,col_indexer] = value instead\n",
      "\n",
      "See the caveats in the documentation: http://pandas.pydata.org/pandas-docs/stable/indexing.html#indexing-view-versus-copy\n",
      "  \n",
      "C:\\Users\\1saml\\Anaconda3\\lib\\site-packages\\ipykernel_launcher.py:3: SettingWithCopyWarning: \n",
      "A value is trying to be set on a copy of a slice from a DataFrame.\n",
      "Try using .loc[row_indexer,col_indexer] = value instead\n",
      "\n",
      "See the caveats in the documentation: http://pandas.pydata.org/pandas-docs/stable/indexing.html#indexing-view-versus-copy\n",
      "  This is separate from the ipykernel package so we can avoid doing imports until\n",
      "C:\\Users\\1saml\\Anaconda3\\lib\\site-packages\\ipykernel_launcher.py:4: SettingWithCopyWarning: \n",
      "A value is trying to be set on a copy of a slice from a DataFrame.\n",
      "Try using .loc[row_indexer,col_indexer] = value instead\n",
      "\n",
      "See the caveats in the documentation: http://pandas.pydata.org/pandas-docs/stable/indexing.html#indexing-view-versus-copy\n",
      "  after removing the cwd from sys.path.\n"
     ]
    },
    {
     "data": {
      "text/html": [
       "<div>\n",
       "<style scoped>\n",
       "    .dataframe tbody tr th:only-of-type {\n",
       "        vertical-align: middle;\n",
       "    }\n",
       "\n",
       "    .dataframe tbody tr th {\n",
       "        vertical-align: top;\n",
       "    }\n",
       "\n",
       "    .dataframe thead th {\n",
       "        text-align: right;\n",
       "    }\n",
       "</style>\n",
       "<table border=\"1\" class=\"dataframe\">\n",
       "  <thead>\n",
       "    <tr style=\"text-align: right;\">\n",
       "      <th></th>\n",
       "      <th>Overall</th>\n",
       "      <th>Bib</th>\n",
       "      <th>Name</th>\n",
       "      <th>Time</th>\n",
       "      <th>Year</th>\n",
       "      <th>Location</th>\n",
       "      <th>DateTime</th>\n",
       "      <th>Total_Sec</th>\n",
       "      <th>Hours</th>\n",
       "    </tr>\n",
       "  </thead>\n",
       "  <tbody>\n",
       "    <tr>\n",
       "      <th>12419</th>\n",
       "      <td>1</td>\n",
       "      <td>2</td>\n",
       "      <td>Samuel Golitom Hadgu</td>\n",
       "      <td>02:26:01</td>\n",
       "      <td>2016</td>\n",
       "      <td>Seattle</td>\n",
       "      <td>2019-09-28 02:26:01</td>\n",
       "      <td>8761</td>\n",
       "      <td>2.433611</td>\n",
       "    </tr>\n",
       "    <tr>\n",
       "      <th>12420</th>\n",
       "      <td>2</td>\n",
       "      <td>1015</td>\n",
       "      <td>Jeff Stein</td>\n",
       "      <td>02:31:05</td>\n",
       "      <td>2016</td>\n",
       "      <td>Seattle</td>\n",
       "      <td>2019-09-28 02:31:05</td>\n",
       "      <td>9065</td>\n",
       "      <td>2.518056</td>\n",
       "    </tr>\n",
       "    <tr>\n",
       "      <th>12421</th>\n",
       "      <td>3</td>\n",
       "      <td>1046</td>\n",
       "      <td>Andrew Ivanov</td>\n",
       "      <td>02:32:49</td>\n",
       "      <td>2016</td>\n",
       "      <td>Seattle</td>\n",
       "      <td>2019-09-28 02:32:49</td>\n",
       "      <td>9169</td>\n",
       "      <td>2.546944</td>\n",
       "    </tr>\n",
       "    <tr>\n",
       "      <th>12422</th>\n",
       "      <td>4</td>\n",
       "      <td>1030</td>\n",
       "      <td>Steve Vesbach</td>\n",
       "      <td>02:42:38</td>\n",
       "      <td>2016</td>\n",
       "      <td>Seattle</td>\n",
       "      <td>2019-09-28 02:42:38</td>\n",
       "      <td>9758</td>\n",
       "      <td>2.710556</td>\n",
       "    </tr>\n",
       "    <tr>\n",
       "      <th>12423</th>\n",
       "      <td>5</td>\n",
       "      <td>1158</td>\n",
       "      <td>Alexander Rockhill</td>\n",
       "      <td>02:42:48</td>\n",
       "      <td>2016</td>\n",
       "      <td>Seattle</td>\n",
       "      <td>2019-09-28 02:42:48</td>\n",
       "      <td>9768</td>\n",
       "      <td>2.713333</td>\n",
       "    </tr>\n",
       "  </tbody>\n",
       "</table>\n",
       "</div>"
      ],
      "text/plain": [
       "       Overall   Bib                  Name      Time  Year Location  \\\n",
       "12419        1     2  Samuel Golitom Hadgu  02:26:01  2016  Seattle   \n",
       "12420        2  1015            Jeff Stein  02:31:05  2016  Seattle   \n",
       "12421        3  1046         Andrew Ivanov  02:32:49  2016  Seattle   \n",
       "12422        4  1030         Steve Vesbach  02:42:38  2016  Seattle   \n",
       "12423        5  1158    Alexander Rockhill  02:42:48  2016  Seattle   \n",
       "\n",
       "                 DateTime  Total_Sec     Hours  \n",
       "12419 2019-09-28 02:26:01       8761  2.433611  \n",
       "12420 2019-09-28 02:31:05       9065  2.518056  \n",
       "12421 2019-09-28 02:32:49       9169  2.546944  \n",
       "12422 2019-09-28 02:42:38       9758  2.710556  \n",
       "12423 2019-09-28 02:42:48       9768  2.713333  "
      ]
     },
     "execution_count": 48,
     "metadata": {},
     "output_type": "execute_result"
    }
   ],
   "source": [
    "arizona['Hours'] = all_marathons.Total_Sec / 3600\n",
    "seattle['Hours'] = all_marathons.Total_Sec / 3600\n",
    "dc['Hours'] = all_marathons.Total_Sec / 3600\n",
    "nashville['Hours'] = all_marathons.Total_Sec / 3600\n",
    "seattle.head()"
   ]
  },
  {
   "cell_type": "code",
   "execution_count": 49,
   "metadata": {
    "scrolled": true
   },
   "outputs": [
    {
     "data": {
      "text/html": [
       "<div>\n",
       "<style scoped>\n",
       "    .dataframe tbody tr th:only-of-type {\n",
       "        vertical-align: middle;\n",
       "    }\n",
       "\n",
       "    .dataframe tbody tr th {\n",
       "        vertical-align: top;\n",
       "    }\n",
       "\n",
       "    .dataframe thead th {\n",
       "        text-align: right;\n",
       "    }\n",
       "</style>\n",
       "<table border=\"1\" class=\"dataframe\">\n",
       "  <thead>\n",
       "    <tr style=\"text-align: right;\">\n",
       "      <th></th>\n",
       "      <th>Overall</th>\n",
       "      <th>Bib</th>\n",
       "      <th>Name</th>\n",
       "      <th>Time</th>\n",
       "      <th>Year</th>\n",
       "      <th>Location</th>\n",
       "      <th>DateTime</th>\n",
       "      <th>Total_Sec</th>\n",
       "      <th>Hours</th>\n",
       "    </tr>\n",
       "  </thead>\n",
       "  <tbody>\n",
       "    <tr>\n",
       "      <th>0</th>\n",
       "      <td>1</td>\n",
       "      <td>1</td>\n",
       "      <td>Scott Wietecha</td>\n",
       "      <td>02:25:42</td>\n",
       "      <td>2016</td>\n",
       "      <td>Nashville</td>\n",
       "      <td>2019-09-28 02:25:42</td>\n",
       "      <td>8742</td>\n",
       "      <td>2.428333</td>\n",
       "    </tr>\n",
       "    <tr>\n",
       "      <th>1</th>\n",
       "      <td>2</td>\n",
       "      <td>3</td>\n",
       "      <td>Brian Shelton</td>\n",
       "      <td>02:34:43</td>\n",
       "      <td>2016</td>\n",
       "      <td>Nashville</td>\n",
       "      <td>2019-09-28 02:34:43</td>\n",
       "      <td>9283</td>\n",
       "      <td>2.578611</td>\n",
       "    </tr>\n",
       "    <tr>\n",
       "      <th>2</th>\n",
       "      <td>3</td>\n",
       "      <td>1047</td>\n",
       "      <td>Christopher Capps</td>\n",
       "      <td>02:38:43</td>\n",
       "      <td>2016</td>\n",
       "      <td>Nashville</td>\n",
       "      <td>2019-09-28 02:38:43</td>\n",
       "      <td>9523</td>\n",
       "      <td>2.645278</td>\n",
       "    </tr>\n",
       "    <tr>\n",
       "      <th>3</th>\n",
       "      <td>4</td>\n",
       "      <td>1052</td>\n",
       "      <td>Jason Grimes</td>\n",
       "      <td>02:45:06</td>\n",
       "      <td>2016</td>\n",
       "      <td>Nashville</td>\n",
       "      <td>2019-09-28 02:45:06</td>\n",
       "      <td>9906</td>\n",
       "      <td>2.751667</td>\n",
       "    </tr>\n",
       "    <tr>\n",
       "      <th>4</th>\n",
       "      <td>5</td>\n",
       "      <td>1046</td>\n",
       "      <td>David Adams</td>\n",
       "      <td>02:47:28</td>\n",
       "      <td>2016</td>\n",
       "      <td>Nashville</td>\n",
       "      <td>2019-09-28 02:47:28</td>\n",
       "      <td>10048</td>\n",
       "      <td>2.791111</td>\n",
       "    </tr>\n",
       "  </tbody>\n",
       "</table>\n",
       "</div>"
      ],
      "text/plain": [
       "   Overall   Bib               Name      Time  Year   Location  \\\n",
       "0        1     1     Scott Wietecha  02:25:42  2016  Nashville   \n",
       "1        2     3      Brian Shelton  02:34:43  2016  Nashville   \n",
       "2        3  1047  Christopher Capps  02:38:43  2016  Nashville   \n",
       "3        4  1052       Jason Grimes  02:45:06  2016  Nashville   \n",
       "4        5  1046        David Adams  02:47:28  2016  Nashville   \n",
       "\n",
       "             DateTime  Total_Sec     Hours  \n",
       "0 2019-09-28 02:25:42       8742  2.428333  \n",
       "1 2019-09-28 02:34:43       9283  2.578611  \n",
       "2 2019-09-28 02:38:43       9523  2.645278  \n",
       "3 2019-09-28 02:45:06       9906  2.751667  \n",
       "4 2019-09-28 02:47:28      10048  2.791111  "
      ]
     },
     "execution_count": 49,
     "metadata": {},
     "output_type": "execute_result"
    }
   ],
   "source": [
    "all_marathons['Hours'] = all_marathons.Total_Sec / 3600\n",
    "all_marathons.head()"
   ]
  },
  {
   "cell_type": "code",
   "execution_count": 50,
   "metadata": {},
   "outputs": [],
   "source": [
    "nashville = nashville.drop(columns = 'DateTime')\n",
    "seattle = seattle.drop(columns = 'DateTime')\n",
    "dc = dc.drop(columns = 'DateTime')\n",
    "arizona = arizona.drop(columns = 'DateTime')"
   ]
  },
  {
   "cell_type": "code",
   "execution_count": 51,
   "metadata": {
    "scrolled": true
   },
   "outputs": [
    {
     "data": {
      "text/html": [
       "<div>\n",
       "<style scoped>\n",
       "    .dataframe tbody tr th:only-of-type {\n",
       "        vertical-align: middle;\n",
       "    }\n",
       "\n",
       "    .dataframe tbody tr th {\n",
       "        vertical-align: top;\n",
       "    }\n",
       "\n",
       "    .dataframe thead th {\n",
       "        text-align: right;\n",
       "    }\n",
       "</style>\n",
       "<table border=\"1\" class=\"dataframe\">\n",
       "  <thead>\n",
       "    <tr style=\"text-align: right;\">\n",
       "      <th></th>\n",
       "      <th>Overall</th>\n",
       "      <th>Bib</th>\n",
       "      <th>Name</th>\n",
       "      <th>Time</th>\n",
       "      <th>Year</th>\n",
       "      <th>Location</th>\n",
       "      <th>Total_Sec</th>\n",
       "      <th>Hours</th>\n",
       "    </tr>\n",
       "  </thead>\n",
       "  <tbody>\n",
       "    <tr>\n",
       "      <th>43763</th>\n",
       "      <td>1760</td>\n",
       "      <td>31557</td>\n",
       "      <td>Sara Kenigsberg</td>\n",
       "      <td>05:50:29</td>\n",
       "      <td>2019</td>\n",
       "      <td>DC</td>\n",
       "      <td>21029</td>\n",
       "      <td>5.841389</td>\n",
       "    </tr>\n",
       "    <tr>\n",
       "      <th>43764</th>\n",
       "      <td>1761</td>\n",
       "      <td>32714</td>\n",
       "      <td>Francesca Gibson</td>\n",
       "      <td>05:50:29</td>\n",
       "      <td>2019</td>\n",
       "      <td>DC</td>\n",
       "      <td>21029</td>\n",
       "      <td>5.841389</td>\n",
       "    </tr>\n",
       "    <tr>\n",
       "      <th>43765</th>\n",
       "      <td>1762</td>\n",
       "      <td>30909</td>\n",
       "      <td>Sajan Moktan</td>\n",
       "      <td>05:51:42</td>\n",
       "      <td>2019</td>\n",
       "      <td>DC</td>\n",
       "      <td>21102</td>\n",
       "      <td>5.861667</td>\n",
       "    </tr>\n",
       "    <tr>\n",
       "      <th>43766</th>\n",
       "      <td>1763</td>\n",
       "      <td>30461</td>\n",
       "      <td>Jonathan Cho</td>\n",
       "      <td>05:52:27</td>\n",
       "      <td>2019</td>\n",
       "      <td>DC</td>\n",
       "      <td>21147</td>\n",
       "      <td>5.874167</td>\n",
       "    </tr>\n",
       "    <tr>\n",
       "      <th>43767</th>\n",
       "      <td>1764</td>\n",
       "      <td>32437</td>\n",
       "      <td>Chinna Mulaparti</td>\n",
       "      <td>05:54:11</td>\n",
       "      <td>2019</td>\n",
       "      <td>DC</td>\n",
       "      <td>21251</td>\n",
       "      <td>5.903056</td>\n",
       "    </tr>\n",
       "  </tbody>\n",
       "</table>\n",
       "</div>"
      ],
      "text/plain": [
       "       Overall    Bib              Name      Time  Year Location  Total_Sec  \\\n",
       "43763     1760  31557   Sara Kenigsberg  05:50:29  2019       DC      21029   \n",
       "43764     1761  32714  Francesca Gibson  05:50:29  2019       DC      21029   \n",
       "43765     1762  30909      Sajan Moktan  05:51:42  2019       DC      21102   \n",
       "43766     1763  30461      Jonathan Cho  05:52:27  2019       DC      21147   \n",
       "43767     1764  32437  Chinna Mulaparti  05:54:11  2019       DC      21251   \n",
       "\n",
       "          Hours  \n",
       "43763  5.841389  \n",
       "43764  5.841389  \n",
       "43765  5.861667  \n",
       "43766  5.874167  \n",
       "43767  5.903056  "
      ]
     },
     "execution_count": 51,
     "metadata": {},
     "output_type": "execute_result"
    }
   ],
   "source": [
    "all_marathons = all_marathons.drop(columns = 'DateTime')\n",
    "all_marathons.tail()"
   ]
  },
  {
   "cell_type": "code",
   "execution_count": 52,
   "metadata": {},
   "outputs": [
    {
     "data": {
      "text/plain": [
       "4.712354490769565"
      ]
     },
     "execution_count": 52,
     "metadata": {},
     "output_type": "execute_result"
    }
   ],
   "source": [
    "arizona.Hours.mean()"
   ]
  },
  {
   "cell_type": "code",
   "execution_count": 53,
   "metadata": {},
   "outputs": [
    {
     "data": {
      "text/plain": [
       "4.405260751962785"
      ]
     },
     "execution_count": 53,
     "metadata": {},
     "output_type": "execute_result"
    }
   ],
   "source": [
    "dc.Hours.mean()"
   ]
  },
  {
   "cell_type": "code",
   "execution_count": 54,
   "metadata": {},
   "outputs": [
    {
     "data": {
      "text/plain": [
       "4.807558703989919"
      ]
     },
     "execution_count": 54,
     "metadata": {},
     "output_type": "execute_result"
    }
   ],
   "source": [
    "nashville.Hours.mean()"
   ]
  },
  {
   "cell_type": "code",
   "execution_count": 55,
   "metadata": {},
   "outputs": [
    {
     "data": {
      "text/plain": [
       "4.64744368707643"
      ]
     },
     "execution_count": 55,
     "metadata": {},
     "output_type": "execute_result"
    }
   ],
   "source": [
    "seattle.Hours.mean()"
   ]
  },
  {
   "cell_type": "code",
   "execution_count": 56,
   "metadata": {},
   "outputs": [],
   "source": [
    "all_marathons = all_marathons[all_marathons.Hours >= 2]"
   ]
  },
  {
   "cell_type": "code",
   "execution_count": 57,
   "metadata": {},
   "outputs": [
    {
     "data": {
      "image/png": "[encoded data removed]",
      "text/plain": [
       "<Figure size 1152x576 with 1 Axes>"
      ]
     },
     "metadata": {
      "needs_background": "light"
     },
     "output_type": "display_data"
    }
   ],
   "source": [
    "fig = plt.figure(figsize=(16,8))\n",
    "current_palette = sns.color_palette(\"RdBu\")\n",
    "sns.set_palette(current_palette)\n",
    "sns.violinplot(x=\"Location\", y=\"Hours\", data=all_marathons)\n",
    "plt.title('Distribution of Finish Times by Location', fontsize = 18, fontweight = 'bold')\n",
    "plt.xlabel('',fontsize = 14)\n",
    "plt.xticks(fontsize=14)\n",
    "plt.ylabel('Hours', fontsize = 14)\n",
    "plt.yticks(fontsize=12)\n",
    "plt.grid(axis ='y', alpha = .2)\n",
    "plt.tight_layout()\n",
    "plt.savefig('data/seaborn_location_violin.png')\n",
    "plt.show()\n",
    "# ax = sns.stripplot(x=\"Location\", y=\"Hours\", data=all_marathons, jitter=True)"
   ]
  },
  {
   "cell_type": "code",
   "execution_count": 58,
   "metadata": {},
   "outputs": [],
   "source": [
    "multiple_marathoners = all_marathons[all_marathons.Name.duplicated()]"
   ]
  },
  {
   "cell_type": "code",
   "execution_count": 59,
   "metadata": {},
   "outputs": [
    {
     "data": {
      "text/plain": [
       "(5677, 8)"
      ]
     },
     "execution_count": 59,
     "metadata": {},
     "output_type": "execute_result"
    }
   ],
   "source": [
    "multiple_marathoners.shape"
   ]
  },
  {
   "cell_type": "code",
   "execution_count": 60,
   "metadata": {},
   "outputs": [
    {
     "data": {
      "text/plain": [
       "4.5846426124909625"
      ]
     },
     "execution_count": 60,
     "metadata": {},
     "output_type": "execute_result"
    }
   ],
   "source": [
    "multiple_marathoners.Hours.mean()"
   ]
  },
  {
   "cell_type": "code",
   "execution_count": 61,
   "metadata": {},
   "outputs": [],
   "source": [
    "mult_2016 = (multiple_marathoners[multiple_marathoners.Year == 2016].Total_Sec.mean() / 3600)\n",
    "mult_2017 = (multiple_marathoners[multiple_marathoners.Year == 2017].Total_Sec.mean() / 3600)\n",
    "mult_2018 = (multiple_marathoners[multiple_marathoners.Year == 2018].Total_Sec.mean() / 3600)\n",
    "mult_2019 = (multiple_marathoners[multiple_marathoners.Year == 2019].Total_Sec.mean() / 3600)"
   ]
  },
  {
   "cell_type": "code",
   "execution_count": 62,
   "metadata": {},
   "outputs": [
    {
     "data": {
      "image/png": "[encoded data removed]",
      "text/plain": [
       "<Figure size 1152x576 with 1 Axes>"
      ]
     },
     "metadata": {
      "needs_background": "light"
     },
     "output_type": "display_data"
    }
   ],
   "source": [
    "fig = plt.figure(figsize=(16,8))\n",
    "current_palette = sns.color_palette(\"RdBu\")\n",
    "sns.set_palette(current_palette)\n",
    "sns.boxplot(x=\"Year\", y=\"Hours\", data=multiple_marathoners)\n",
    "plt.title('Multiple Marathoners: Finish Times by Year', fontsize = 18, fontweight = 'bold')\n",
    "plt.xlabel('',fontsize = 14)\n",
    "plt.xticks(fontsize=14)\n",
    "plt.ylabel('Hours', fontsize = 14)\n",
    "plt.yticks(fontsize=12)\n",
    "plt.grid(axis ='y', alpha = .2)\n",
    "plt.tight_layout()\n",
    "#plt.savefig('data/seaborn_location_violin.png')\n",
    "plt.show()"
   ]
  },
  {
   "cell_type": "code",
   "execution_count": 63,
   "metadata": {},
   "outputs": [
    {
     "data": {
      "image/png": "[encoded data removed]",
      "text/plain": [
       "<Figure size 1152x576 with 1 Axes>"
      ]
     },
     "metadata": {
      "needs_background": "light"
     },
     "output_type": "display_data"
    }
   ],
   "source": [
    "fig = plt.figure(figsize=(16,8))\n",
    "multiple_marathoners.Hours.quantile([.25, .50, .75]).plot(kind = 'bar', color = 'red', ec = 'black', alpha = .85)\n",
    "plt.xticks(fontsize = 12, rotation = 0)\n",
    "plt.yticks(fontsize = 12)\n",
    "plt.grid(axis='y', alpha=0.2)\n",
    "plt.ylabel('Hours', fontsize = 14)\n",
    "plt.title('Multiple Marathners: Finish Times by Quartile', fontsize = 18, fontweight = 'bold')\n",
    "plt.tight_layout()\n",
    "plt.savefig('data/multiple_marathoners_quartile.png')\n",
    "plt.show()"
   ]
  },
  {
   "cell_type": "code",
   "execution_count": 64,
   "metadata": {},
   "outputs": [
    {
     "data": {
      "text/plain": [
       "0.25    3.919167\n",
       "0.50    4.518333\n",
       "0.75    5.166667\n",
       "Name: Hours, dtype: float64"
      ]
     },
     "execution_count": 64,
     "metadata": {},
     "output_type": "execute_result"
    }
   ],
   "source": [
    "multiple_marathoners.Hours.quantile([.25, .5, .75])"
   ]
  },
  {
   "cell_type": "code",
   "execution_count": null,
   "metadata": {},
   "outputs": [],
   "source": []
  }
 ],
 "metadata": {
  "kernelspec": {
   "display_name": "Python 3",
   "language": "python",
   "name": "python3"
  },
  "language_info": {
   "codemirror_mode": {
    "name": "ipython",
    "version": 3
   },
   "file_extension": ".py",
   "mimetype": "text/x-python",
   "name": "python",
   "nbconvert_exporter": "python",
   "pygments_lexer": "ipython3",
   "version": "3.7.3"
  }
 },
 "nbformat": 4,
 "nbformat_minor": 2
}
