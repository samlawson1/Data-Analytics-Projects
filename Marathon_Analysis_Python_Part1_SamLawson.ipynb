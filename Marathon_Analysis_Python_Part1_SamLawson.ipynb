{
 "cells": [
  {
   "cell_type": "code",
   "execution_count": 1,
   "metadata": {},
   "outputs": [],
   "source": [
    "import pandas as pd\n",
    "import numpy as np\n",
    "import matplotlib.pyplot as plt\n",
    "import seaborn as sns\n",
    "from matplotlib.dates import DateFormatter"
   ]
  },
  {
   "cell_type": "code",
   "execution_count": 2,
   "metadata": {},
   "outputs": [
    {
     "data": {
      "text/html": [
       "<div>\n",
       "<style scoped>\n",
       "    .dataframe tbody tr th:only-of-type {\n",
       "        vertical-align: middle;\n",
       "    }\n",
       "\n",
       "    .dataframe tbody tr th {\n",
       "        vertical-align: top;\n",
       "    }\n",
       "\n",
       "    .dataframe thead th {\n",
       "        text-align: right;\n",
       "    }\n",
       "</style>\n",
       "<table border=\"1\" class=\"dataframe\">\n",
       "  <thead>\n",
       "    <tr style=\"text-align: right;\">\n",
       "      <th></th>\n",
       "      <th>Unnamed: 0</th>\n",
       "      <th>Overall</th>\n",
       "      <th>Bib</th>\n",
       "      <th>Name</th>\n",
       "      <th>Time</th>\n",
       "      <th>Year</th>\n",
       "      <th>Mar_Type</th>\n",
       "    </tr>\n",
       "  </thead>\n",
       "  <tbody>\n",
       "    <tr>\n",
       "      <th>0</th>\n",
       "      <td>0</td>\n",
       "      <td>1</td>\n",
       "      <td>1</td>\n",
       "      <td>Scott Wietecha</td>\n",
       "      <td>02:25:42</td>\n",
       "      <td>2016</td>\n",
       "      <td>Full</td>\n",
       "    </tr>\n",
       "    <tr>\n",
       "      <th>1</th>\n",
       "      <td>1</td>\n",
       "      <td>2</td>\n",
       "      <td>3</td>\n",
       "      <td>Brian Shelton</td>\n",
       "      <td>02:34:43</td>\n",
       "      <td>2016</td>\n",
       "      <td>Full</td>\n",
       "    </tr>\n",
       "    <tr>\n",
       "      <th>2</th>\n",
       "      <td>2</td>\n",
       "      <td>3</td>\n",
       "      <td>1047</td>\n",
       "      <td>Christopher Capps</td>\n",
       "      <td>02:38:43</td>\n",
       "      <td>2016</td>\n",
       "      <td>Full</td>\n",
       "    </tr>\n",
       "    <tr>\n",
       "      <th>3</th>\n",
       "      <td>3</td>\n",
       "      <td>4</td>\n",
       "      <td>1052</td>\n",
       "      <td>Jason Grimes</td>\n",
       "      <td>02:45:06</td>\n",
       "      <td>2016</td>\n",
       "      <td>Full</td>\n",
       "    </tr>\n",
       "    <tr>\n",
       "      <th>4</th>\n",
       "      <td>4</td>\n",
       "      <td>5</td>\n",
       "      <td>1046</td>\n",
       "      <td>David Adams</td>\n",
       "      <td>02:47:28</td>\n",
       "      <td>2016</td>\n",
       "      <td>Full</td>\n",
       "    </tr>\n",
       "  </tbody>\n",
       "</table>\n",
       "</div>"
      ],
      "text/plain": [
       "   Unnamed: 0  Overall   Bib               Name      Time  Year Mar_Type\n",
       "0           0        1     1     Scott Wietecha  02:25:42  2016     Full\n",
       "1           1        2     3      Brian Shelton  02:34:43  2016     Full\n",
       "2           2        3  1047  Christopher Capps  02:38:43  2016     Full\n",
       "3           3        4  1052       Jason Grimes  02:45:06  2016     Full\n",
       "4           4        5  1046        David Adams  02:47:28  2016     Full"
      ]
     },
     "execution_count": 2,
     "metadata": {},
     "output_type": "execute_result"
    }
   ],
   "source": [
    "marathons = pd.read_csv('data/all_marathons.csv')\n",
    "marathons.head()"
   ]
  },
  {
   "cell_type": "code",
   "execution_count": 3,
   "metadata": {},
   "outputs": [
    {
     "data": {
      "text/html": [
       "<div>\n",
       "<style scoped>\n",
       "    .dataframe tbody tr th:only-of-type {\n",
       "        vertical-align: middle;\n",
       "    }\n",
       "\n",
       "    .dataframe tbody tr th {\n",
       "        vertical-align: top;\n",
       "    }\n",
       "\n",
       "    .dataframe thead th {\n",
       "        text-align: right;\n",
       "    }\n",
       "</style>\n",
       "<table border=\"1\" class=\"dataframe\">\n",
       "  <thead>\n",
       "    <tr style=\"text-align: right;\">\n",
       "      <th></th>\n",
       "      <th>Unnamed: 0</th>\n",
       "      <th>Overall</th>\n",
       "      <th>Bib</th>\n",
       "      <th>Name</th>\n",
       "      <th>Time</th>\n",
       "      <th>Year</th>\n",
       "      <th>Mar_Type</th>\n",
       "    </tr>\n",
       "  </thead>\n",
       "  <tbody>\n",
       "    <tr>\n",
       "      <th>89311</th>\n",
       "      <td>89311</td>\n",
       "      <td>99999</td>\n",
       "      <td>6940</td>\n",
       "      <td>Katie Jeffers</td>\n",
       "      <td>00:00:00</td>\n",
       "      <td>2019</td>\n",
       "      <td>Half</td>\n",
       "    </tr>\n",
       "    <tr>\n",
       "      <th>89312</th>\n",
       "      <td>89312</td>\n",
       "      <td>99999</td>\n",
       "      <td>12755</td>\n",
       "      <td>Anna Phillips</td>\n",
       "      <td>00:00:00</td>\n",
       "      <td>2019</td>\n",
       "      <td>Half</td>\n",
       "    </tr>\n",
       "    <tr>\n",
       "      <th>89313</th>\n",
       "      <td>89313</td>\n",
       "      <td>99999</td>\n",
       "      <td>8804</td>\n",
       "      <td>Brocknie Bray</td>\n",
       "      <td>00:00:00</td>\n",
       "      <td>2019</td>\n",
       "      <td>Half</td>\n",
       "    </tr>\n",
       "    <tr>\n",
       "      <th>89314</th>\n",
       "      <td>89314</td>\n",
       "      <td>99999</td>\n",
       "      <td>8691</td>\n",
       "      <td>Tyler King</td>\n",
       "      <td>00:00:00</td>\n",
       "      <td>2019</td>\n",
       "      <td>Half</td>\n",
       "    </tr>\n",
       "    <tr>\n",
       "      <th>89315</th>\n",
       "      <td>89315</td>\n",
       "      <td>99999</td>\n",
       "      <td>12830</td>\n",
       "      <td>Shannon Schnable</td>\n",
       "      <td>00:00:00</td>\n",
       "      <td>2019</td>\n",
       "      <td>Half</td>\n",
       "    </tr>\n",
       "  </tbody>\n",
       "</table>\n",
       "</div>"
      ],
      "text/plain": [
       "       Unnamed: 0  Overall    Bib              Name      Time  Year Mar_Type\n",
       "89311       89311    99999   6940     Katie Jeffers  00:00:00  2019     Half\n",
       "89312       89312    99999  12755     Anna Phillips  00:00:00  2019     Half\n",
       "89313       89313    99999   8804     Brocknie Bray  00:00:00  2019     Half\n",
       "89314       89314    99999   8691        Tyler King  00:00:00  2019     Half\n",
       "89315       89315    99999  12830  Shannon Schnable  00:00:00  2019     Half"
      ]
     },
     "execution_count": 3,
     "metadata": {},
     "output_type": "execute_result"
    }
   ],
   "source": [
    "marathons.tail()"
   ]
  },
  {
   "cell_type": "code",
   "execution_count": 4,
   "metadata": {},
   "outputs": [
    {
     "data": {
      "text/html": [
       "<div>\n",
       "<style scoped>\n",
       "    .dataframe tbody tr th:only-of-type {\n",
       "        vertical-align: middle;\n",
       "    }\n",
       "\n",
       "    .dataframe tbody tr th {\n",
       "        vertical-align: top;\n",
       "    }\n",
       "\n",
       "    .dataframe thead th {\n",
       "        text-align: right;\n",
       "    }\n",
       "</style>\n",
       "<table border=\"1\" class=\"dataframe\">\n",
       "  <thead>\n",
       "    <tr style=\"text-align: right;\">\n",
       "      <th></th>\n",
       "      <th>Overall</th>\n",
       "      <th>Bib</th>\n",
       "      <th>Name</th>\n",
       "      <th>Time</th>\n",
       "      <th>Year</th>\n",
       "      <th>Mar_Type</th>\n",
       "    </tr>\n",
       "  </thead>\n",
       "  <tbody>\n",
       "    <tr>\n",
       "      <th>0</th>\n",
       "      <td>1</td>\n",
       "      <td>1</td>\n",
       "      <td>Scott Wietecha</td>\n",
       "      <td>02:25:42</td>\n",
       "      <td>2016</td>\n",
       "      <td>Full</td>\n",
       "    </tr>\n",
       "    <tr>\n",
       "      <th>1</th>\n",
       "      <td>2</td>\n",
       "      <td>3</td>\n",
       "      <td>Brian Shelton</td>\n",
       "      <td>02:34:43</td>\n",
       "      <td>2016</td>\n",
       "      <td>Full</td>\n",
       "    </tr>\n",
       "    <tr>\n",
       "      <th>2</th>\n",
       "      <td>3</td>\n",
       "      <td>1047</td>\n",
       "      <td>Christopher Capps</td>\n",
       "      <td>02:38:43</td>\n",
       "      <td>2016</td>\n",
       "      <td>Full</td>\n",
       "    </tr>\n",
       "    <tr>\n",
       "      <th>3</th>\n",
       "      <td>4</td>\n",
       "      <td>1052</td>\n",
       "      <td>Jason Grimes</td>\n",
       "      <td>02:45:06</td>\n",
       "      <td>2016</td>\n",
       "      <td>Full</td>\n",
       "    </tr>\n",
       "    <tr>\n",
       "      <th>4</th>\n",
       "      <td>5</td>\n",
       "      <td>1046</td>\n",
       "      <td>David Adams</td>\n",
       "      <td>02:47:28</td>\n",
       "      <td>2016</td>\n",
       "      <td>Full</td>\n",
       "    </tr>\n",
       "  </tbody>\n",
       "</table>\n",
       "</div>"
      ],
      "text/plain": [
       "   Overall   Bib               Name      Time  Year Mar_Type\n",
       "0        1     1     Scott Wietecha  02:25:42  2016     Full\n",
       "1        2     3      Brian Shelton  02:34:43  2016     Full\n",
       "2        3  1047  Christopher Capps  02:38:43  2016     Full\n",
       "3        4  1052       Jason Grimes  02:45:06  2016     Full\n",
       "4        5  1046        David Adams  02:47:28  2016     Full"
      ]
     },
     "execution_count": 4,
     "metadata": {},
     "output_type": "execute_result"
    }
   ],
   "source": [
    "marathons = marathons.drop(columns = 'Unnamed: 0')\n",
    "marathons.head()"
   ]
  },
  {
   "cell_type": "code",
   "execution_count": 5,
   "metadata": {},
   "outputs": [
    {
     "data": {
      "text/plain": [
       "00:00:00    15333\n",
       "02:16:32       27\n",
       "02:18:04       26\n",
       "02:21:21       26\n",
       "02:35:40       26\n",
       "02:17:56       26\n",
       "02:13:12       25\n",
       "02:24:16       25\n",
       "02:05:31       24\n",
       "02:19:52       24\n",
       "Name: Time, dtype: int64"
      ]
     },
     "execution_count": 5,
     "metadata": {},
     "output_type": "execute_result"
    }
   ],
   "source": [
    "marathons.Time.value_counts().nlargest(10)"
   ]
  },
  {
   "cell_type": "code",
   "execution_count": 6,
   "metadata": {
    "scrolled": true
   },
   "outputs": [
    {
     "data": {
      "text/plain": [
       "Overall      int64\n",
       "Bib          int64\n",
       "Name        object\n",
       "Time        object\n",
       "Year         int64\n",
       "Mar_Type    object\n",
       "dtype: object"
      ]
     },
     "execution_count": 6,
     "metadata": {},
     "output_type": "execute_result"
    }
   ],
   "source": [
    "marathons.dtypes"
   ]
  },
  {
   "cell_type": "code",
   "execution_count": 7,
   "metadata": {},
   "outputs": [],
   "source": [
    "marathons_with_dnrs = marathons"
   ]
  },
  {
   "cell_type": "code",
   "execution_count": 8,
   "metadata": {},
   "outputs": [],
   "source": [
    "marathons = marathons[marathons.Time != '00:00:00']"
   ]
  },
  {
   "cell_type": "code",
   "execution_count": 9,
   "metadata": {},
   "outputs": [
    {
     "data": {
      "text/plain": [
       "02:16:32    27\n",
       "02:18:04    26\n",
       "02:21:21    26\n",
       "02:35:40    26\n",
       "02:17:56    26\n",
       "02:13:12    25\n",
       "02:24:16    25\n",
       "02:23:59    24\n",
       "02:12:46    24\n",
       "02:19:52    24\n",
       "Name: Time, dtype: int64"
      ]
     },
     "execution_count": 9,
     "metadata": {},
     "output_type": "execute_result"
    }
   ],
   "source": [
    "marathons.Time.value_counts().nlargest(10)"
   ]
  },
  {
   "cell_type": "code",
   "execution_count": 10,
   "metadata": {},
   "outputs": [
    {
     "data": {
      "text/plain": [
       "(73983, 6)"
      ]
     },
     "execution_count": 10,
     "metadata": {},
     "output_type": "execute_result"
    }
   ],
   "source": [
    "marathons.shape"
   ]
  },
  {
   "cell_type": "code",
   "execution_count": 11,
   "metadata": {},
   "outputs": [
    {
     "data": {
      "text/html": [
       "<div>\n",
       "<style scoped>\n",
       "    .dataframe tbody tr th:only-of-type {\n",
       "        vertical-align: middle;\n",
       "    }\n",
       "\n",
       "    .dataframe tbody tr th {\n",
       "        vertical-align: top;\n",
       "    }\n",
       "\n",
       "    .dataframe thead th {\n",
       "        text-align: right;\n",
       "    }\n",
       "</style>\n",
       "<table border=\"1\" class=\"dataframe\">\n",
       "  <thead>\n",
       "    <tr style=\"text-align: right;\">\n",
       "      <th></th>\n",
       "      <th>Overall</th>\n",
       "      <th>Bib</th>\n",
       "      <th>Name</th>\n",
       "      <th>Time</th>\n",
       "      <th>Year</th>\n",
       "      <th>Mar_Type</th>\n",
       "    </tr>\n",
       "  </thead>\n",
       "  <tbody>\n",
       "    <tr>\n",
       "      <th>18925</th>\n",
       "      <td>6592</td>\n",
       "      <td>32338</td>\n",
       "      <td>Sarah Hamilton</td>\n",
       "      <td>02:16:32</td>\n",
       "      <td>2016</td>\n",
       "      <td>Half</td>\n",
       "    </tr>\n",
       "    <tr>\n",
       "      <th>18926</th>\n",
       "      <td>6593</td>\n",
       "      <td>10432</td>\n",
       "      <td>Danna Decker</td>\n",
       "      <td>02:16:32</td>\n",
       "      <td>2016</td>\n",
       "      <td>Half</td>\n",
       "    </tr>\n",
       "    <tr>\n",
       "      <th>18927</th>\n",
       "      <td>6594</td>\n",
       "      <td>18380</td>\n",
       "      <td>Kelsey Hinshaw</td>\n",
       "      <td>02:16:32</td>\n",
       "      <td>2016</td>\n",
       "      <td>Half</td>\n",
       "    </tr>\n",
       "    <tr>\n",
       "      <th>18928</th>\n",
       "      <td>6595</td>\n",
       "      <td>8622</td>\n",
       "      <td>Brian Ehrig</td>\n",
       "      <td>02:16:32</td>\n",
       "      <td>2016</td>\n",
       "      <td>Half</td>\n",
       "    </tr>\n",
       "    <tr>\n",
       "      <th>18929</th>\n",
       "      <td>6596</td>\n",
       "      <td>8621</td>\n",
       "      <td>Sheetal Ehrig</td>\n",
       "      <td>02:16:32</td>\n",
       "      <td>2016</td>\n",
       "      <td>Half</td>\n",
       "    </tr>\n",
       "    <tr>\n",
       "      <th>18930</th>\n",
       "      <td>6597</td>\n",
       "      <td>16675</td>\n",
       "      <td>Steve Kilburn</td>\n",
       "      <td>02:16:32</td>\n",
       "      <td>2016</td>\n",
       "      <td>Half</td>\n",
       "    </tr>\n",
       "    <tr>\n",
       "      <th>18931</th>\n",
       "      <td>6598</td>\n",
       "      <td>16569</td>\n",
       "      <td>Benjamin Kendall</td>\n",
       "      <td>02:16:32</td>\n",
       "      <td>2016</td>\n",
       "      <td>Half</td>\n",
       "    </tr>\n",
       "    <tr>\n",
       "      <th>38929</th>\n",
       "      <td>4128</td>\n",
       "      <td>4355</td>\n",
       "      <td>Janna Weathers</td>\n",
       "      <td>02:16:32</td>\n",
       "      <td>2017</td>\n",
       "      <td>Half</td>\n",
       "    </tr>\n",
       "    <tr>\n",
       "      <th>38930</th>\n",
       "      <td>4129</td>\n",
       "      <td>10674</td>\n",
       "      <td>Ryan Dahlhauser</td>\n",
       "      <td>02:16:32</td>\n",
       "      <td>2017</td>\n",
       "      <td>Half</td>\n",
       "    </tr>\n",
       "    <tr>\n",
       "      <th>38931</th>\n",
       "      <td>4130</td>\n",
       "      <td>10454</td>\n",
       "      <td>Patrick Lewis</td>\n",
       "      <td>02:16:32</td>\n",
       "      <td>2017</td>\n",
       "      <td>Half</td>\n",
       "    </tr>\n",
       "    <tr>\n",
       "      <th>38932</th>\n",
       "      <td>4131</td>\n",
       "      <td>16263</td>\n",
       "      <td>Kelly Rippin</td>\n",
       "      <td>02:16:32</td>\n",
       "      <td>2017</td>\n",
       "      <td>Half</td>\n",
       "    </tr>\n",
       "    <tr>\n",
       "      <th>38933</th>\n",
       "      <td>4132</td>\n",
       "      <td>10308</td>\n",
       "      <td>Muna Wagner</td>\n",
       "      <td>02:16:32</td>\n",
       "      <td>2017</td>\n",
       "      <td>Half</td>\n",
       "    </tr>\n",
       "    <tr>\n",
       "      <th>38934</th>\n",
       "      <td>4133</td>\n",
       "      <td>14199</td>\n",
       "      <td>Jennifer Werthman</td>\n",
       "      <td>02:16:32</td>\n",
       "      <td>2017</td>\n",
       "      <td>Half</td>\n",
       "    </tr>\n",
       "    <tr>\n",
       "      <th>38935</th>\n",
       "      <td>4134</td>\n",
       "      <td>14532</td>\n",
       "      <td>Chad Wiseman</td>\n",
       "      <td>02:16:32</td>\n",
       "      <td>2017</td>\n",
       "      <td>Half</td>\n",
       "    </tr>\n",
       "    <tr>\n",
       "      <th>38936</th>\n",
       "      <td>4135</td>\n",
       "      <td>32297</td>\n",
       "      <td>Amand Burke</td>\n",
       "      <td>02:16:32</td>\n",
       "      <td>2017</td>\n",
       "      <td>Half</td>\n",
       "    </tr>\n",
       "    <tr>\n",
       "      <th>62770</th>\n",
       "      <td>5631</td>\n",
       "      <td>8186</td>\n",
       "      <td>Jessica Mink</td>\n",
       "      <td>02:16:32</td>\n",
       "      <td>2018</td>\n",
       "      <td>Half</td>\n",
       "    </tr>\n",
       "    <tr>\n",
       "      <th>62771</th>\n",
       "      <td>5631</td>\n",
       "      <td>8180</td>\n",
       "      <td>Lydia Rivera</td>\n",
       "      <td>02:16:32</td>\n",
       "      <td>2018</td>\n",
       "      <td>Half</td>\n",
       "    </tr>\n",
       "    <tr>\n",
       "      <th>62772</th>\n",
       "      <td>5631</td>\n",
       "      <td>1257</td>\n",
       "      <td>Melissa Hubauer</td>\n",
       "      <td>02:16:32</td>\n",
       "      <td>2018</td>\n",
       "      <td>Half</td>\n",
       "    </tr>\n",
       "    <tr>\n",
       "      <th>62773</th>\n",
       "      <td>5631</td>\n",
       "      <td>9509</td>\n",
       "      <td>Olivia Pfeifer</td>\n",
       "      <td>02:16:32</td>\n",
       "      <td>2018</td>\n",
       "      <td>Half</td>\n",
       "    </tr>\n",
       "    <tr>\n",
       "      <th>62774</th>\n",
       "      <td>5631</td>\n",
       "      <td>10427</td>\n",
       "      <td>Marla Hendrix</td>\n",
       "      <td>02:16:32</td>\n",
       "      <td>2018</td>\n",
       "      <td>Half</td>\n",
       "    </tr>\n",
       "    <tr>\n",
       "      <th>62775</th>\n",
       "      <td>5631</td>\n",
       "      <td>18209</td>\n",
       "      <td>Jennifer Crowell</td>\n",
       "      <td>02:16:32</td>\n",
       "      <td>2018</td>\n",
       "      <td>Half</td>\n",
       "    </tr>\n",
       "    <tr>\n",
       "      <th>62776</th>\n",
       "      <td>5631</td>\n",
       "      <td>16060</td>\n",
       "      <td>Bailey Chavez</td>\n",
       "      <td>02:16:32</td>\n",
       "      <td>2018</td>\n",
       "      <td>Half</td>\n",
       "    </tr>\n",
       "    <tr>\n",
       "      <th>62777</th>\n",
       "      <td>5631</td>\n",
       "      <td>10433</td>\n",
       "      <td>Emily Hoskinds</td>\n",
       "      <td>02:16:32</td>\n",
       "      <td>2018</td>\n",
       "      <td>Half</td>\n",
       "    </tr>\n",
       "    <tr>\n",
       "      <th>62778</th>\n",
       "      <td>5631</td>\n",
       "      <td>2410</td>\n",
       "      <td>Amy Wilson</td>\n",
       "      <td>02:16:32</td>\n",
       "      <td>2018</td>\n",
       "      <td>Half</td>\n",
       "    </tr>\n",
       "    <tr>\n",
       "      <th>62779</th>\n",
       "      <td>5631</td>\n",
       "      <td>3903</td>\n",
       "      <td>Michelle Hanock</td>\n",
       "      <td>02:16:32</td>\n",
       "      <td>2018</td>\n",
       "      <td>Half</td>\n",
       "    </tr>\n",
       "    <tr>\n",
       "      <th>77191</th>\n",
       "      <td>5112</td>\n",
       "      <td>5423</td>\n",
       "      <td>Jonathan Pollack</td>\n",
       "      <td>02:16:32</td>\n",
       "      <td>2019</td>\n",
       "      <td>Half</td>\n",
       "    </tr>\n",
       "    <tr>\n",
       "      <th>77192</th>\n",
       "      <td>5113</td>\n",
       "      <td>2881</td>\n",
       "      <td>Steve Mcmichael</td>\n",
       "      <td>02:16:32</td>\n",
       "      <td>2019</td>\n",
       "      <td>Half</td>\n",
       "    </tr>\n",
       "  </tbody>\n",
       "</table>\n",
       "</div>"
      ],
      "text/plain": [
       "       Overall    Bib               Name      Time  Year Mar_Type\n",
       "18925     6592  32338     Sarah Hamilton  02:16:32  2016     Half\n",
       "18926     6593  10432       Danna Decker  02:16:32  2016     Half\n",
       "18927     6594  18380     Kelsey Hinshaw  02:16:32  2016     Half\n",
       "18928     6595   8622        Brian Ehrig  02:16:32  2016     Half\n",
       "18929     6596   8621      Sheetal Ehrig  02:16:32  2016     Half\n",
       "18930     6597  16675      Steve Kilburn  02:16:32  2016     Half\n",
       "18931     6598  16569   Benjamin Kendall  02:16:32  2016     Half\n",
       "38929     4128   4355     Janna Weathers  02:16:32  2017     Half\n",
       "38930     4129  10674    Ryan Dahlhauser  02:16:32  2017     Half\n",
       "38931     4130  10454      Patrick Lewis  02:16:32  2017     Half\n",
       "38932     4131  16263       Kelly Rippin  02:16:32  2017     Half\n",
       "38933     4132  10308        Muna Wagner  02:16:32  2017     Half\n",
       "38934     4133  14199  Jennifer Werthman  02:16:32  2017     Half\n",
       "38935     4134  14532       Chad Wiseman  02:16:32  2017     Half\n",
       "38936     4135  32297        Amand Burke  02:16:32  2017     Half\n",
       "62770     5631   8186       Jessica Mink  02:16:32  2018     Half\n",
       "62771     5631   8180       Lydia Rivera  02:16:32  2018     Half\n",
       "62772     5631   1257    Melissa Hubauer  02:16:32  2018     Half\n",
       "62773     5631   9509     Olivia Pfeifer  02:16:32  2018     Half\n",
       "62774     5631  10427      Marla Hendrix  02:16:32  2018     Half\n",
       "62775     5631  18209   Jennifer Crowell  02:16:32  2018     Half\n",
       "62776     5631  16060      Bailey Chavez  02:16:32  2018     Half\n",
       "62777     5631  10433     Emily Hoskinds  02:16:32  2018     Half\n",
       "62778     5631   2410         Amy Wilson  02:16:32  2018     Half\n",
       "62779     5631   3903    Michelle Hanock  02:16:32  2018     Half\n",
       "77191     5112   5423   Jonathan Pollack  02:16:32  2019     Half\n",
       "77192     5113   2881    Steve Mcmichael  02:16:32  2019     Half"
      ]
     },
     "execution_count": 11,
     "metadata": {},
     "output_type": "execute_result"
    }
   ],
   "source": [
    "marathons[marathons.Time == '02:16:32']"
   ]
  },
  {
   "cell_type": "code",
   "execution_count": 12,
   "metadata": {},
   "outputs": [
    {
     "data": {
      "text/html": [
       "<div>\n",
       "<style scoped>\n",
       "    .dataframe tbody tr th:only-of-type {\n",
       "        vertical-align: middle;\n",
       "    }\n",
       "\n",
       "    .dataframe tbody tr th {\n",
       "        vertical-align: top;\n",
       "    }\n",
       "\n",
       "    .dataframe thead th {\n",
       "        text-align: right;\n",
       "    }\n",
       "</style>\n",
       "<table border=\"1\" class=\"dataframe\">\n",
       "  <thead>\n",
       "    <tr style=\"text-align: right;\">\n",
       "      <th></th>\n",
       "      <th>Overall</th>\n",
       "      <th>Bib</th>\n",
       "      <th>Name</th>\n",
       "      <th>Time</th>\n",
       "      <th>Year</th>\n",
       "      <th>Mar_Type</th>\n",
       "    </tr>\n",
       "  </thead>\n",
       "  <tbody>\n",
       "    <tr>\n",
       "      <th>0</th>\n",
       "      <td>1</td>\n",
       "      <td>1</td>\n",
       "      <td>Scott Wietecha</td>\n",
       "      <td>02:25:42</td>\n",
       "      <td>2016</td>\n",
       "      <td>Full</td>\n",
       "    </tr>\n",
       "    <tr>\n",
       "      <th>3842</th>\n",
       "      <td>1</td>\n",
       "      <td>1</td>\n",
       "      <td>Scott Wietecha</td>\n",
       "      <td>02:40:25</td>\n",
       "      <td>2017</td>\n",
       "      <td>Full</td>\n",
       "    </tr>\n",
       "    <tr>\n",
       "      <th>7493</th>\n",
       "      <td>1</td>\n",
       "      <td>1</td>\n",
       "      <td>Scott Wietecha</td>\n",
       "      <td>02:28:16</td>\n",
       "      <td>2018</td>\n",
       "      <td>Full</td>\n",
       "    </tr>\n",
       "    <tr>\n",
       "      <th>9609</th>\n",
       "      <td>2</td>\n",
       "      <td>1</td>\n",
       "      <td>Scott Wietecha</td>\n",
       "      <td>02:34:59</td>\n",
       "      <td>2019</td>\n",
       "      <td>Full</td>\n",
       "    </tr>\n",
       "  </tbody>\n",
       "</table>\n",
       "</div>"
      ],
      "text/plain": [
       "      Overall  Bib            Name      Time  Year Mar_Type\n",
       "0           1    1  Scott Wietecha  02:25:42  2016     Full\n",
       "3842        1    1  Scott Wietecha  02:40:25  2017     Full\n",
       "7493        1    1  Scott Wietecha  02:28:16  2018     Full\n",
       "9609        2    1  Scott Wietecha  02:34:59  2019     Full"
      ]
     },
     "execution_count": 12,
     "metadata": {},
     "output_type": "execute_result"
    }
   ],
   "source": [
    "marathons[marathons.Name =='Scott Wietecha']"
   ]
  },
  {
   "cell_type": "code",
   "execution_count": 13,
   "metadata": {},
   "outputs": [
    {
     "data": {
      "text/plain": [
       "'01:09:25'"
      ]
     },
     "execution_count": 13,
     "metadata": {},
     "output_type": "execute_result"
    }
   ],
   "source": [
    "marathons.Time.min()"
   ]
  },
  {
   "cell_type": "code",
   "execution_count": 14,
   "metadata": {},
   "outputs": [
    {
     "data": {
      "text/html": [
       "<div>\n",
       "<style scoped>\n",
       "    .dataframe tbody tr th:only-of-type {\n",
       "        vertical-align: middle;\n",
       "    }\n",
       "\n",
       "    .dataframe tbody tr th {\n",
       "        vertical-align: top;\n",
       "    }\n",
       "\n",
       "    .dataframe thead th {\n",
       "        text-align: right;\n",
       "    }\n",
       "</style>\n",
       "<table border=\"1\" class=\"dataframe\">\n",
       "  <thead>\n",
       "    <tr style=\"text-align: right;\">\n",
       "      <th></th>\n",
       "      <th>Overall</th>\n",
       "      <th>Bib</th>\n",
       "      <th>Name</th>\n",
       "      <th>Time</th>\n",
       "      <th>Year</th>\n",
       "      <th>Mar_Type</th>\n",
       "    </tr>\n",
       "  </thead>\n",
       "  <tbody>\n",
       "    <tr>\n",
       "      <th>57140</th>\n",
       "      <td>1</td>\n",
       "      <td>103</td>\n",
       "      <td>Roosevelt Cook</td>\n",
       "      <td>01:09:25</td>\n",
       "      <td>2018</td>\n",
       "      <td>Half</td>\n",
       "    </tr>\n",
       "  </tbody>\n",
       "</table>\n",
       "</div>"
      ],
      "text/plain": [
       "       Overall  Bib            Name      Time  Year Mar_Type\n",
       "57140        1  103  Roosevelt Cook  01:09:25  2018     Half"
      ]
     },
     "execution_count": 14,
     "metadata": {},
     "output_type": "execute_result"
    }
   ],
   "source": [
    "marathons.loc[marathons.Time == '01:09:25']"
   ]
  },
  {
   "cell_type": "code",
   "execution_count": 15,
   "metadata": {},
   "outputs": [
    {
     "data": {
      "text/html": [
       "<div>\n",
       "<style scoped>\n",
       "    .dataframe tbody tr th:only-of-type {\n",
       "        vertical-align: middle;\n",
       "    }\n",
       "\n",
       "    .dataframe tbody tr th {\n",
       "        vertical-align: top;\n",
       "    }\n",
       "\n",
       "    .dataframe thead th {\n",
       "        text-align: right;\n",
       "    }\n",
       "</style>\n",
       "<table border=\"1\" class=\"dataframe\">\n",
       "  <thead>\n",
       "    <tr style=\"text-align: right;\">\n",
       "      <th></th>\n",
       "      <th>Overall</th>\n",
       "      <th>Bib</th>\n",
       "      <th>Name</th>\n",
       "      <th>Time</th>\n",
       "      <th>Year</th>\n",
       "      <th>Mar_Type</th>\n",
       "    </tr>\n",
       "  </thead>\n",
       "  <tbody>\n",
       "    <tr>\n",
       "      <th>0</th>\n",
       "      <td>1</td>\n",
       "      <td>1</td>\n",
       "      <td>Scott Wietecha</td>\n",
       "      <td>02:25:42</td>\n",
       "      <td>2016</td>\n",
       "      <td>Full</td>\n",
       "    </tr>\n",
       "    <tr>\n",
       "      <th>3842</th>\n",
       "      <td>1</td>\n",
       "      <td>1</td>\n",
       "      <td>Scott Wietecha</td>\n",
       "      <td>02:40:25</td>\n",
       "      <td>2017</td>\n",
       "      <td>Full</td>\n",
       "    </tr>\n",
       "    <tr>\n",
       "      <th>7493</th>\n",
       "      <td>1</td>\n",
       "      <td>1</td>\n",
       "      <td>Scott Wietecha</td>\n",
       "      <td>02:28:16</td>\n",
       "      <td>2018</td>\n",
       "      <td>Full</td>\n",
       "    </tr>\n",
       "    <tr>\n",
       "      <th>9608</th>\n",
       "      <td>1</td>\n",
       "      <td>30001</td>\n",
       "      <td>Travis Peruski</td>\n",
       "      <td>01:37:54</td>\n",
       "      <td>2019</td>\n",
       "      <td>Full</td>\n",
       "    </tr>\n",
       "    <tr>\n",
       "      <th>12419</th>\n",
       "      <td>1</td>\n",
       "      <td>201</td>\n",
       "      <td>Roosevelt Cook</td>\n",
       "      <td>01:11:15</td>\n",
       "      <td>2016</td>\n",
       "      <td>Half</td>\n",
       "    </tr>\n",
       "    <tr>\n",
       "      <th>34848</th>\n",
       "      <td>1</td>\n",
       "      <td>202</td>\n",
       "      <td>Tyler Andrews</td>\n",
       "      <td>01:10:58</td>\n",
       "      <td>2017</td>\n",
       "      <td>Half</td>\n",
       "    </tr>\n",
       "    <tr>\n",
       "      <th>57140</th>\n",
       "      <td>1</td>\n",
       "      <td>103</td>\n",
       "      <td>Roosevelt Cook</td>\n",
       "      <td>01:09:25</td>\n",
       "      <td>2018</td>\n",
       "      <td>Half</td>\n",
       "    </tr>\n",
       "    <tr>\n",
       "      <th>72080</th>\n",
       "      <td>1</td>\n",
       "      <td>31</td>\n",
       "      <td>Nick French</td>\n",
       "      <td>01:10:03</td>\n",
       "      <td>2019</td>\n",
       "      <td>Half</td>\n",
       "    </tr>\n",
       "  </tbody>\n",
       "</table>\n",
       "</div>"
      ],
      "text/plain": [
       "       Overall    Bib            Name      Time  Year Mar_Type\n",
       "0            1      1  Scott Wietecha  02:25:42  2016     Full\n",
       "3842         1      1  Scott Wietecha  02:40:25  2017     Full\n",
       "7493         1      1  Scott Wietecha  02:28:16  2018     Full\n",
       "9608         1  30001  Travis Peruski  01:37:54  2019     Full\n",
       "12419        1    201  Roosevelt Cook  01:11:15  2016     Half\n",
       "34848        1    202   Tyler Andrews  01:10:58  2017     Half\n",
       "57140        1    103  Roosevelt Cook  01:09:25  2018     Half\n",
       "72080        1     31     Nick French  01:10:03  2019     Half"
      ]
     },
     "execution_count": 15,
     "metadata": {},
     "output_type": "execute_result"
    }
   ],
   "source": [
    "marathons.loc[marathons.Overall == 1]"
   ]
  },
  {
   "cell_type": "code",
   "execution_count": 16,
   "metadata": {},
   "outputs": [
    {
     "data": {
      "text/html": [
       "<div>\n",
       "<style scoped>\n",
       "    .dataframe tbody tr th:only-of-type {\n",
       "        vertical-align: middle;\n",
       "    }\n",
       "\n",
       "    .dataframe tbody tr th {\n",
       "        vertical-align: top;\n",
       "    }\n",
       "\n",
       "    .dataframe thead th {\n",
       "        text-align: right;\n",
       "    }\n",
       "</style>\n",
       "<table border=\"1\" class=\"dataframe\">\n",
       "  <thead>\n",
       "    <tr style=\"text-align: right;\">\n",
       "      <th></th>\n",
       "      <th>Overall</th>\n",
       "      <th>Bib</th>\n",
       "      <th>Name</th>\n",
       "      <th>Time</th>\n",
       "      <th>Year</th>\n",
       "      <th>Mar_Type</th>\n",
       "    </tr>\n",
       "  </thead>\n",
       "  <tbody>\n",
       "    <tr>\n",
       "      <th>1</th>\n",
       "      <td>2</td>\n",
       "      <td>3</td>\n",
       "      <td>Brian Shelton</td>\n",
       "      <td>02:34:43</td>\n",
       "      <td>2016</td>\n",
       "      <td>Full</td>\n",
       "    </tr>\n",
       "    <tr>\n",
       "      <th>3843</th>\n",
       "      <td>2</td>\n",
       "      <td>1145</td>\n",
       "      <td>Ryan Regnier</td>\n",
       "      <td>02:56:28</td>\n",
       "      <td>2017</td>\n",
       "      <td>Full</td>\n",
       "    </tr>\n",
       "    <tr>\n",
       "      <th>7494</th>\n",
       "      <td>2</td>\n",
       "      <td>3</td>\n",
       "      <td>Garang Madut</td>\n",
       "      <td>02:29:52</td>\n",
       "      <td>2018</td>\n",
       "      <td>Full</td>\n",
       "    </tr>\n",
       "    <tr>\n",
       "      <th>9609</th>\n",
       "      <td>2</td>\n",
       "      <td>1</td>\n",
       "      <td>Scott Wietecha</td>\n",
       "      <td>02:34:59</td>\n",
       "      <td>2019</td>\n",
       "      <td>Full</td>\n",
       "    </tr>\n",
       "    <tr>\n",
       "      <th>12420</th>\n",
       "      <td>2</td>\n",
       "      <td>204</td>\n",
       "      <td>Bill Martin</td>\n",
       "      <td>01:11:50</td>\n",
       "      <td>2016</td>\n",
       "      <td>Half</td>\n",
       "    </tr>\n",
       "    <tr>\n",
       "      <th>34849</th>\n",
       "      <td>2</td>\n",
       "      <td>204</td>\n",
       "      <td>Bill Martin</td>\n",
       "      <td>01:11:25</td>\n",
       "      <td>2017</td>\n",
       "      <td>Half</td>\n",
       "    </tr>\n",
       "    <tr>\n",
       "      <th>57141</th>\n",
       "      <td>2</td>\n",
       "      <td>107</td>\n",
       "      <td>Lucas Cotter</td>\n",
       "      <td>01:09:51</td>\n",
       "      <td>2018</td>\n",
       "      <td>Half</td>\n",
       "    </tr>\n",
       "    <tr>\n",
       "      <th>72081</th>\n",
       "      <td>2</td>\n",
       "      <td>33</td>\n",
       "      <td>Ian Bordelon</td>\n",
       "      <td>01:12:15</td>\n",
       "      <td>2019</td>\n",
       "      <td>Half</td>\n",
       "    </tr>\n",
       "  </tbody>\n",
       "</table>\n",
       "</div>"
      ],
      "text/plain": [
       "       Overall   Bib            Name      Time  Year Mar_Type\n",
       "1            2     3   Brian Shelton  02:34:43  2016     Full\n",
       "3843         2  1145    Ryan Regnier  02:56:28  2017     Full\n",
       "7494         2     3    Garang Madut  02:29:52  2018     Full\n",
       "9609         2     1  Scott Wietecha  02:34:59  2019     Full\n",
       "12420        2   204     Bill Martin  01:11:50  2016     Half\n",
       "34849        2   204     Bill Martin  01:11:25  2017     Half\n",
       "57141        2   107    Lucas Cotter  01:09:51  2018     Half\n",
       "72081        2    33    Ian Bordelon  01:12:15  2019     Half"
      ]
     },
     "execution_count": 16,
     "metadata": {},
     "output_type": "execute_result"
    }
   ],
   "source": [
    "marathons.loc[marathons.Overall == 2]"
   ]
  },
  {
   "cell_type": "code",
   "execution_count": 17,
   "metadata": {
    "scrolled": true
   },
   "outputs": [
    {
     "data": {
      "text/html": [
       "<div>\n",
       "<style scoped>\n",
       "    .dataframe tbody tr th:only-of-type {\n",
       "        vertical-align: middle;\n",
       "    }\n",
       "\n",
       "    .dataframe tbody tr th {\n",
       "        vertical-align: top;\n",
       "    }\n",
       "\n",
       "    .dataframe thead th {\n",
       "        text-align: right;\n",
       "    }\n",
       "</style>\n",
       "<table border=\"1\" class=\"dataframe\">\n",
       "  <thead>\n",
       "    <tr style=\"text-align: right;\">\n",
       "      <th></th>\n",
       "      <th>Overall</th>\n",
       "      <th>Bib</th>\n",
       "      <th>Name</th>\n",
       "      <th>Time</th>\n",
       "      <th>Year</th>\n",
       "      <th>Mar_Type</th>\n",
       "    </tr>\n",
       "  </thead>\n",
       "  <tbody>\n",
       "    <tr>\n",
       "      <th>0</th>\n",
       "      <td>1</td>\n",
       "      <td>1</td>\n",
       "      <td>Scott Wietecha</td>\n",
       "      <td>02:25:42</td>\n",
       "      <td>2016</td>\n",
       "      <td>Full</td>\n",
       "    </tr>\n",
       "    <tr>\n",
       "      <th>3842</th>\n",
       "      <td>1</td>\n",
       "      <td>1</td>\n",
       "      <td>Scott Wietecha</td>\n",
       "      <td>02:40:25</td>\n",
       "      <td>2017</td>\n",
       "      <td>Full</td>\n",
       "    </tr>\n",
       "    <tr>\n",
       "      <th>7493</th>\n",
       "      <td>1</td>\n",
       "      <td>1</td>\n",
       "      <td>Scott Wietecha</td>\n",
       "      <td>02:28:16</td>\n",
       "      <td>2018</td>\n",
       "      <td>Full</td>\n",
       "    </tr>\n",
       "    <tr>\n",
       "      <th>12419</th>\n",
       "      <td>1</td>\n",
       "      <td>201</td>\n",
       "      <td>Roosevelt Cook</td>\n",
       "      <td>01:11:15</td>\n",
       "      <td>2016</td>\n",
       "      <td>Half</td>\n",
       "    </tr>\n",
       "    <tr>\n",
       "      <th>34848</th>\n",
       "      <td>1</td>\n",
       "      <td>202</td>\n",
       "      <td>Tyler Andrews</td>\n",
       "      <td>01:10:58</td>\n",
       "      <td>2017</td>\n",
       "      <td>Half</td>\n",
       "    </tr>\n",
       "    <tr>\n",
       "      <th>57140</th>\n",
       "      <td>1</td>\n",
       "      <td>103</td>\n",
       "      <td>Roosevelt Cook</td>\n",
       "      <td>01:09:25</td>\n",
       "      <td>2018</td>\n",
       "      <td>Half</td>\n",
       "    </tr>\n",
       "    <tr>\n",
       "      <th>72080</th>\n",
       "      <td>1</td>\n",
       "      <td>31</td>\n",
       "      <td>Nick French</td>\n",
       "      <td>01:10:03</td>\n",
       "      <td>2019</td>\n",
       "      <td>Half</td>\n",
       "    </tr>\n",
       "  </tbody>\n",
       "</table>\n",
       "</div>"
      ],
      "text/plain": [
       "       Overall  Bib            Name      Time  Year Mar_Type\n",
       "0            1    1  Scott Wietecha  02:25:42  2016     Full\n",
       "3842         1    1  Scott Wietecha  02:40:25  2017     Full\n",
       "7493         1    1  Scott Wietecha  02:28:16  2018     Full\n",
       "12419        1  201  Roosevelt Cook  01:11:15  2016     Half\n",
       "34848        1  202   Tyler Andrews  01:10:58  2017     Half\n",
       "57140        1  103  Roosevelt Cook  01:09:25  2018     Half\n",
       "72080        1   31     Nick French  01:10:03  2019     Half"
      ]
     },
     "execution_count": 17,
     "metadata": {},
     "output_type": "execute_result"
    }
   ],
   "source": [
    "marathons = marathons.drop(9608)\n",
    "marathons.loc[marathons.Overall == 1]"
   ]
  },
  {
   "cell_type": "code",
   "execution_count": 18,
   "metadata": {},
   "outputs": [
    {
     "data": {
      "text/plain": [
       "Contact Sportstats    14\n",
       "Brian Johnson         14\n",
       "Michael Williams      11\n",
       "Jennifer Johnson      11\n",
       "Jennifer Smith         9\n",
       "Jennifer Miller        9\n",
       "John Wilson            9\n",
       "Dan Johnson            8\n",
       "Jason Davis            8\n",
       "Heather Smith          8\n",
       "Name: Name, dtype: int64"
      ]
     },
     "execution_count": 18,
     "metadata": {},
     "output_type": "execute_result"
    }
   ],
   "source": [
    "marathons.Name.value_counts().nlargest(10)"
   ]
  },
  {
   "cell_type": "code",
   "execution_count": 19,
   "metadata": {},
   "outputs": [
    {
     "data": {
      "text/html": [
       "<div>\n",
       "<style scoped>\n",
       "    .dataframe tbody tr th:only-of-type {\n",
       "        vertical-align: middle;\n",
       "    }\n",
       "\n",
       "    .dataframe tbody tr th {\n",
       "        vertical-align: top;\n",
       "    }\n",
       "\n",
       "    .dataframe thead th {\n",
       "        text-align: right;\n",
       "    }\n",
       "</style>\n",
       "<table border=\"1\" class=\"dataframe\">\n",
       "  <thead>\n",
       "    <tr style=\"text-align: right;\">\n",
       "      <th></th>\n",
       "      <th>Overall</th>\n",
       "      <th>Bib</th>\n",
       "      <th>Name</th>\n",
       "      <th>Time</th>\n",
       "      <th>Year</th>\n",
       "      <th>Mar_Type</th>\n",
       "    </tr>\n",
       "  </thead>\n",
       "  <tbody>\n",
       "    <tr>\n",
       "      <th>9597</th>\n",
       "      <td>2105</td>\n",
       "      <td>60042</td>\n",
       "      <td>Contact Sportstats</td>\n",
       "      <td>06:51:55</td>\n",
       "      <td>2018</td>\n",
       "      <td>Full</td>\n",
       "    </tr>\n",
       "    <tr>\n",
       "      <th>59856</th>\n",
       "      <td>2716</td>\n",
       "      <td>17805</td>\n",
       "      <td>Contact Sportstats</td>\n",
       "      <td>02:01:30</td>\n",
       "      <td>2018</td>\n",
       "      <td>Half</td>\n",
       "    </tr>\n",
       "    <tr>\n",
       "      <th>64243</th>\n",
       "      <td>7103</td>\n",
       "      <td>60025</td>\n",
       "      <td>Contact Sportstats</td>\n",
       "      <td>02:23:44</td>\n",
       "      <td>2018</td>\n",
       "      <td>Half</td>\n",
       "    </tr>\n",
       "    <tr>\n",
       "      <th>64250</th>\n",
       "      <td>7109</td>\n",
       "      <td>60026</td>\n",
       "      <td>Contact Sportstats</td>\n",
       "      <td>02:23:45</td>\n",
       "      <td>2018</td>\n",
       "      <td>Half</td>\n",
       "    </tr>\n",
       "    <tr>\n",
       "      <th>64256</th>\n",
       "      <td>7117</td>\n",
       "      <td>60024</td>\n",
       "      <td>Contact Sportstats</td>\n",
       "      <td>02:23:46</td>\n",
       "      <td>2018</td>\n",
       "      <td>Half</td>\n",
       "    </tr>\n",
       "    <tr>\n",
       "      <th>64257</th>\n",
       "      <td>7117</td>\n",
       "      <td>60029</td>\n",
       "      <td>Contact Sportstats</td>\n",
       "      <td>02:23:46</td>\n",
       "      <td>2018</td>\n",
       "      <td>Half</td>\n",
       "    </tr>\n",
       "    <tr>\n",
       "      <th>67102</th>\n",
       "      <td>9962</td>\n",
       "      <td>60032</td>\n",
       "      <td>Contact Sportstats</td>\n",
       "      <td>02:41:29</td>\n",
       "      <td>2018</td>\n",
       "      <td>Half</td>\n",
       "    </tr>\n",
       "    <tr>\n",
       "      <th>67103</th>\n",
       "      <td>9962</td>\n",
       "      <td>60030</td>\n",
       "      <td>Contact Sportstats</td>\n",
       "      <td>02:41:29</td>\n",
       "      <td>2018</td>\n",
       "      <td>Half</td>\n",
       "    </tr>\n",
       "    <tr>\n",
       "      <th>67130</th>\n",
       "      <td>9991</td>\n",
       "      <td>60037</td>\n",
       "      <td>Contact Sportstats</td>\n",
       "      <td>02:41:39</td>\n",
       "      <td>2018</td>\n",
       "      <td>Half</td>\n",
       "    </tr>\n",
       "    <tr>\n",
       "      <th>69585</th>\n",
       "      <td>12445</td>\n",
       "      <td>60038</td>\n",
       "      <td>Contact Sportstats</td>\n",
       "      <td>03:04:06</td>\n",
       "      <td>2018</td>\n",
       "      <td>Half</td>\n",
       "    </tr>\n",
       "    <tr>\n",
       "      <th>69718</th>\n",
       "      <td>12578</td>\n",
       "      <td>60034</td>\n",
       "      <td>Contact Sportstats</td>\n",
       "      <td>03:06:00</td>\n",
       "      <td>2018</td>\n",
       "      <td>Half</td>\n",
       "    </tr>\n",
       "    <tr>\n",
       "      <th>69722</th>\n",
       "      <td>12581</td>\n",
       "      <td>60033</td>\n",
       "      <td>Contact Sportstats</td>\n",
       "      <td>03:06:02</td>\n",
       "      <td>2018</td>\n",
       "      <td>Half</td>\n",
       "    </tr>\n",
       "    <tr>\n",
       "      <th>71556</th>\n",
       "      <td>14417</td>\n",
       "      <td>18939</td>\n",
       "      <td>Contact Sportstats</td>\n",
       "      <td>03:46:17</td>\n",
       "      <td>2018</td>\n",
       "      <td>Half</td>\n",
       "    </tr>\n",
       "    <tr>\n",
       "      <th>71861</th>\n",
       "      <td>14722</td>\n",
       "      <td>60027</td>\n",
       "      <td>Contact Sportstats</td>\n",
       "      <td>04:03:05</td>\n",
       "      <td>2018</td>\n",
       "      <td>Half</td>\n",
       "    </tr>\n",
       "  </tbody>\n",
       "</table>\n",
       "</div>"
      ],
      "text/plain": [
       "       Overall    Bib                Name      Time  Year Mar_Type\n",
       "9597      2105  60042  Contact Sportstats  06:51:55  2018     Full\n",
       "59856     2716  17805  Contact Sportstats  02:01:30  2018     Half\n",
       "64243     7103  60025  Contact Sportstats  02:23:44  2018     Half\n",
       "64250     7109  60026  Contact Sportstats  02:23:45  2018     Half\n",
       "64256     7117  60024  Contact Sportstats  02:23:46  2018     Half\n",
       "64257     7117  60029  Contact Sportstats  02:23:46  2018     Half\n",
       "67102     9962  60032  Contact Sportstats  02:41:29  2018     Half\n",
       "67103     9962  60030  Contact Sportstats  02:41:29  2018     Half\n",
       "67130     9991  60037  Contact Sportstats  02:41:39  2018     Half\n",
       "69585    12445  60038  Contact Sportstats  03:04:06  2018     Half\n",
       "69718    12578  60034  Contact Sportstats  03:06:00  2018     Half\n",
       "69722    12581  60033  Contact Sportstats  03:06:02  2018     Half\n",
       "71556    14417  18939  Contact Sportstats  03:46:17  2018     Half\n",
       "71861    14722  60027  Contact Sportstats  04:03:05  2018     Half"
      ]
     },
     "execution_count": 19,
     "metadata": {},
     "output_type": "execute_result"
    }
   ],
   "source": [
    "marathons[marathons.Name == 'Contact Sportstats']"
   ]
  },
  {
   "cell_type": "code",
   "execution_count": 20,
   "metadata": {},
   "outputs": [],
   "source": [
    "full_marathons = marathons[marathons.Mar_Type == 'Full']\n",
    "half_marathons = marathons[marathons.Mar_Type == 'Half']"
   ]
  },
  {
   "cell_type": "code",
   "execution_count": 21,
   "metadata": {},
   "outputs": [
    {
     "data": {
      "text/plain": [
       "(9704, 6)"
      ]
     },
     "execution_count": 21,
     "metadata": {},
     "output_type": "execute_result"
    }
   ],
   "source": [
    "full_marathons.shape"
   ]
  },
  {
   "cell_type": "code",
   "execution_count": 22,
   "metadata": {},
   "outputs": [
    {
     "data": {
      "text/html": [
       "<div>\n",
       "<style scoped>\n",
       "    .dataframe tbody tr th:only-of-type {\n",
       "        vertical-align: middle;\n",
       "    }\n",
       "\n",
       "    .dataframe tbody tr th {\n",
       "        vertical-align: top;\n",
       "    }\n",
       "\n",
       "    .dataframe thead th {\n",
       "        text-align: right;\n",
       "    }\n",
       "</style>\n",
       "<table border=\"1\" class=\"dataframe\">\n",
       "  <thead>\n",
       "    <tr style=\"text-align: right;\">\n",
       "      <th></th>\n",
       "      <th>Overall</th>\n",
       "      <th>Bib</th>\n",
       "      <th>Name</th>\n",
       "      <th>Time</th>\n",
       "      <th>Year</th>\n",
       "      <th>Mar_Type</th>\n",
       "    </tr>\n",
       "  </thead>\n",
       "  <tbody>\n",
       "    <tr>\n",
       "      <th>0</th>\n",
       "      <td>1</td>\n",
       "      <td>1</td>\n",
       "      <td>Scott Wietecha</td>\n",
       "      <td>02:25:42</td>\n",
       "      <td>2016</td>\n",
       "      <td>Full</td>\n",
       "    </tr>\n",
       "    <tr>\n",
       "      <th>1</th>\n",
       "      <td>2</td>\n",
       "      <td>3</td>\n",
       "      <td>Brian Shelton</td>\n",
       "      <td>02:34:43</td>\n",
       "      <td>2016</td>\n",
       "      <td>Full</td>\n",
       "    </tr>\n",
       "    <tr>\n",
       "      <th>2</th>\n",
       "      <td>3</td>\n",
       "      <td>1047</td>\n",
       "      <td>Christopher Capps</td>\n",
       "      <td>02:38:43</td>\n",
       "      <td>2016</td>\n",
       "      <td>Full</td>\n",
       "    </tr>\n",
       "    <tr>\n",
       "      <th>3</th>\n",
       "      <td>4</td>\n",
       "      <td>1052</td>\n",
       "      <td>Jason Grimes</td>\n",
       "      <td>02:45:06</td>\n",
       "      <td>2016</td>\n",
       "      <td>Full</td>\n",
       "    </tr>\n",
       "    <tr>\n",
       "      <th>4</th>\n",
       "      <td>5</td>\n",
       "      <td>1046</td>\n",
       "      <td>David Adams</td>\n",
       "      <td>02:47:28</td>\n",
       "      <td>2016</td>\n",
       "      <td>Full</td>\n",
       "    </tr>\n",
       "  </tbody>\n",
       "</table>\n",
       "</div>"
      ],
      "text/plain": [
       "   Overall   Bib               Name      Time  Year Mar_Type\n",
       "0        1     1     Scott Wietecha  02:25:42  2016     Full\n",
       "1        2     3      Brian Shelton  02:34:43  2016     Full\n",
       "2        3  1047  Christopher Capps  02:38:43  2016     Full\n",
       "3        4  1052       Jason Grimes  02:45:06  2016     Full\n",
       "4        5  1046        David Adams  02:47:28  2016     Full"
      ]
     },
     "execution_count": 22,
     "metadata": {},
     "output_type": "execute_result"
    }
   ],
   "source": [
    "full_marathons.head()"
   ]
  },
  {
   "cell_type": "code",
   "execution_count": 23,
   "metadata": {},
   "outputs": [
    {
     "data": {
      "text/html": [
       "<div>\n",
       "<style scoped>\n",
       "    .dataframe tbody tr th:only-of-type {\n",
       "        vertical-align: middle;\n",
       "    }\n",
       "\n",
       "    .dataframe tbody tr th {\n",
       "        vertical-align: top;\n",
       "    }\n",
       "\n",
       "    .dataframe thead th {\n",
       "        text-align: right;\n",
       "    }\n",
       "</style>\n",
       "<table border=\"1\" class=\"dataframe\">\n",
       "  <thead>\n",
       "    <tr style=\"text-align: right;\">\n",
       "      <th></th>\n",
       "      <th>Overall</th>\n",
       "      <th>Bib</th>\n",
       "      <th>Name</th>\n",
       "      <th>Time</th>\n",
       "      <th>Year</th>\n",
       "      <th>Mar_Type</th>\n",
       "    </tr>\n",
       "  </thead>\n",
       "  <tbody>\n",
       "    <tr>\n",
       "      <th>11628</th>\n",
       "      <td>2021</td>\n",
       "      <td>32032</td>\n",
       "      <td>Casey Thomaston</td>\n",
       "      <td>06:29:57</td>\n",
       "      <td>2019</td>\n",
       "      <td>Full</td>\n",
       "    </tr>\n",
       "    <tr>\n",
       "      <th>11629</th>\n",
       "      <td>2022</td>\n",
       "      <td>33147</td>\n",
       "      <td>Deanna Alexander</td>\n",
       "      <td>06:30:17</td>\n",
       "      <td>2019</td>\n",
       "      <td>Full</td>\n",
       "    </tr>\n",
       "    <tr>\n",
       "      <th>11630</th>\n",
       "      <td>2023</td>\n",
       "      <td>32980</td>\n",
       "      <td>Daniel Albert</td>\n",
       "      <td>06:35:52</td>\n",
       "      <td>2019</td>\n",
       "      <td>Full</td>\n",
       "    </tr>\n",
       "    <tr>\n",
       "      <th>11631</th>\n",
       "      <td>2024</td>\n",
       "      <td>30113</td>\n",
       "      <td>Jacqueline Spires</td>\n",
       "      <td>06:36:58</td>\n",
       "      <td>2019</td>\n",
       "      <td>Full</td>\n",
       "    </tr>\n",
       "    <tr>\n",
       "      <th>11632</th>\n",
       "      <td>2025</td>\n",
       "      <td>30026</td>\n",
       "      <td>Alex Easley</td>\n",
       "      <td>06:43:55</td>\n",
       "      <td>2019</td>\n",
       "      <td>Full</td>\n",
       "    </tr>\n",
       "  </tbody>\n",
       "</table>\n",
       "</div>"
      ],
      "text/plain": [
       "       Overall    Bib               Name      Time  Year Mar_Type\n",
       "11628     2021  32032    Casey Thomaston  06:29:57  2019     Full\n",
       "11629     2022  33147   Deanna Alexander  06:30:17  2019     Full\n",
       "11630     2023  32980      Daniel Albert  06:35:52  2019     Full\n",
       "11631     2024  30113  Jacqueline Spires  06:36:58  2019     Full\n",
       "11632     2025  30026        Alex Easley  06:43:55  2019     Full"
      ]
     },
     "execution_count": 23,
     "metadata": {},
     "output_type": "execute_result"
    }
   ],
   "source": [
    "full_marathons.tail()"
   ]
  },
  {
   "cell_type": "code",
   "execution_count": 24,
   "metadata": {},
   "outputs": [
    {
     "data": {
      "text/plain": [
       "(64278, 6)"
      ]
     },
     "execution_count": 24,
     "metadata": {},
     "output_type": "execute_result"
    }
   ],
   "source": [
    "half_marathons.shape"
   ]
  },
  {
   "cell_type": "code",
   "execution_count": 25,
   "metadata": {},
   "outputs": [
    {
     "data": {
      "text/html": [
       "<div>\n",
       "<style scoped>\n",
       "    .dataframe tbody tr th:only-of-type {\n",
       "        vertical-align: middle;\n",
       "    }\n",
       "\n",
       "    .dataframe tbody tr th {\n",
       "        vertical-align: top;\n",
       "    }\n",
       "\n",
       "    .dataframe thead th {\n",
       "        text-align: right;\n",
       "    }\n",
       "</style>\n",
       "<table border=\"1\" class=\"dataframe\">\n",
       "  <thead>\n",
       "    <tr style=\"text-align: right;\">\n",
       "      <th></th>\n",
       "      <th>Overall</th>\n",
       "      <th>Bib</th>\n",
       "      <th>Name</th>\n",
       "      <th>Time</th>\n",
       "      <th>Year</th>\n",
       "      <th>Mar_Type</th>\n",
       "    </tr>\n",
       "  </thead>\n",
       "  <tbody>\n",
       "    <tr>\n",
       "      <th>12419</th>\n",
       "      <td>1</td>\n",
       "      <td>201</td>\n",
       "      <td>Roosevelt Cook</td>\n",
       "      <td>01:11:15</td>\n",
       "      <td>2016</td>\n",
       "      <td>Half</td>\n",
       "    </tr>\n",
       "    <tr>\n",
       "      <th>12420</th>\n",
       "      <td>2</td>\n",
       "      <td>204</td>\n",
       "      <td>Bill Martin</td>\n",
       "      <td>01:11:50</td>\n",
       "      <td>2016</td>\n",
       "      <td>Half</td>\n",
       "    </tr>\n",
       "    <tr>\n",
       "      <th>12421</th>\n",
       "      <td>3</td>\n",
       "      <td>1623</td>\n",
       "      <td>Cody Hodgins</td>\n",
       "      <td>01:13:43</td>\n",
       "      <td>2016</td>\n",
       "      <td>Half</td>\n",
       "    </tr>\n",
       "    <tr>\n",
       "      <th>12422</th>\n",
       "      <td>4</td>\n",
       "      <td>1222</td>\n",
       "      <td>Andrew Archer</td>\n",
       "      <td>01:15:04</td>\n",
       "      <td>2016</td>\n",
       "      <td>Half</td>\n",
       "    </tr>\n",
       "    <tr>\n",
       "      <th>12423</th>\n",
       "      <td>5</td>\n",
       "      <td>1224</td>\n",
       "      <td>Brian Syring</td>\n",
       "      <td>01:15:30</td>\n",
       "      <td>2016</td>\n",
       "      <td>Half</td>\n",
       "    </tr>\n",
       "  </tbody>\n",
       "</table>\n",
       "</div>"
      ],
      "text/plain": [
       "       Overall   Bib            Name      Time  Year Mar_Type\n",
       "12419        1   201  Roosevelt Cook  01:11:15  2016     Half\n",
       "12420        2   204     Bill Martin  01:11:50  2016     Half\n",
       "12421        3  1623    Cody Hodgins  01:13:43  2016     Half\n",
       "12422        4  1222   Andrew Archer  01:15:04  2016     Half\n",
       "12423        5  1224    Brian Syring  01:15:30  2016     Half"
      ]
     },
     "execution_count": 25,
     "metadata": {},
     "output_type": "execute_result"
    }
   ],
   "source": [
    "half_marathons.head()"
   ]
  },
  {
   "cell_type": "code",
   "execution_count": 26,
   "metadata": {},
   "outputs": [
    {
     "data": {
      "text/html": [
       "<div>\n",
       "<style scoped>\n",
       "    .dataframe tbody tr th:only-of-type {\n",
       "        vertical-align: middle;\n",
       "    }\n",
       "\n",
       "    .dataframe tbody tr th {\n",
       "        vertical-align: top;\n",
       "    }\n",
       "\n",
       "    .dataframe thead th {\n",
       "        text-align: right;\n",
       "    }\n",
       "</style>\n",
       "<table border=\"1\" class=\"dataframe\">\n",
       "  <thead>\n",
       "    <tr style=\"text-align: right;\">\n",
       "      <th></th>\n",
       "      <th>Overall</th>\n",
       "      <th>Bib</th>\n",
       "      <th>Name</th>\n",
       "      <th>Time</th>\n",
       "      <th>Year</th>\n",
       "      <th>Mar_Type</th>\n",
       "    </tr>\n",
       "  </thead>\n",
       "  <tbody>\n",
       "    <tr>\n",
       "      <th>85781</th>\n",
       "      <td>13702</td>\n",
       "      <td>10899</td>\n",
       "      <td>Matthew Mcmullin</td>\n",
       "      <td>04:48:27</td>\n",
       "      <td>2019</td>\n",
       "      <td>Half</td>\n",
       "    </tr>\n",
       "    <tr>\n",
       "      <th>85782</th>\n",
       "      <td>13703</td>\n",
       "      <td>17926</td>\n",
       "      <td>Destinie Bean</td>\n",
       "      <td>04:57:21</td>\n",
       "      <td>2019</td>\n",
       "      <td>Half</td>\n",
       "    </tr>\n",
       "    <tr>\n",
       "      <th>85783</th>\n",
       "      <td>13704</td>\n",
       "      <td>1164</td>\n",
       "      <td>Katie Dillard</td>\n",
       "      <td>04:57:21</td>\n",
       "      <td>2019</td>\n",
       "      <td>Half</td>\n",
       "    </tr>\n",
       "    <tr>\n",
       "      <th>85784</th>\n",
       "      <td>13705</td>\n",
       "      <td>13216</td>\n",
       "      <td>Porsche Baileybrown</td>\n",
       "      <td>05:03:35</td>\n",
       "      <td>2019</td>\n",
       "      <td>Half</td>\n",
       "    </tr>\n",
       "    <tr>\n",
       "      <th>85785</th>\n",
       "      <td>13706</td>\n",
       "      <td>32779</td>\n",
       "      <td>Katy Martinez</td>\n",
       "      <td>05:52:56</td>\n",
       "      <td>2019</td>\n",
       "      <td>Half</td>\n",
       "    </tr>\n",
       "  </tbody>\n",
       "</table>\n",
       "</div>"
      ],
      "text/plain": [
       "       Overall    Bib                 Name      Time  Year Mar_Type\n",
       "85781    13702  10899     Matthew Mcmullin  04:48:27  2019     Half\n",
       "85782    13703  17926        Destinie Bean  04:57:21  2019     Half\n",
       "85783    13704   1164        Katie Dillard  04:57:21  2019     Half\n",
       "85784    13705  13216  Porsche Baileybrown  05:03:35  2019     Half\n",
       "85785    13706  32779        Katy Martinez  05:52:56  2019     Half"
      ]
     },
     "execution_count": 26,
     "metadata": {},
     "output_type": "execute_result"
    }
   ],
   "source": [
    "half_marathons.tail()"
   ]
  },
  {
   "cell_type": "code",
   "execution_count": 27,
   "metadata": {},
   "outputs": [],
   "source": [
    "full_marathons = full_marathons.drop(columns = 'Mar_Type')\n",
    "half_marathons = half_marathons.drop(columns = 'Mar_Type')"
   ]
  },
  {
   "cell_type": "code",
   "execution_count": 28,
   "metadata": {},
   "outputs": [
    {
     "data": {
      "text/html": [
       "<div>\n",
       "<style scoped>\n",
       "    .dataframe tbody tr th:only-of-type {\n",
       "        vertical-align: middle;\n",
       "    }\n",
       "\n",
       "    .dataframe tbody tr th {\n",
       "        vertical-align: top;\n",
       "    }\n",
       "\n",
       "    .dataframe thead th {\n",
       "        text-align: right;\n",
       "    }\n",
       "</style>\n",
       "<table border=\"1\" class=\"dataframe\">\n",
       "  <thead>\n",
       "    <tr style=\"text-align: right;\">\n",
       "      <th></th>\n",
       "      <th>Overall</th>\n",
       "      <th>Bib</th>\n",
       "      <th>Name</th>\n",
       "      <th>Time</th>\n",
       "      <th>Year</th>\n",
       "    </tr>\n",
       "  </thead>\n",
       "  <tbody>\n",
       "    <tr>\n",
       "      <th>0</th>\n",
       "      <td>1</td>\n",
       "      <td>1</td>\n",
       "      <td>Scott Wietecha</td>\n",
       "      <td>02:25:42</td>\n",
       "      <td>2016</td>\n",
       "    </tr>\n",
       "    <tr>\n",
       "      <th>1</th>\n",
       "      <td>2</td>\n",
       "      <td>3</td>\n",
       "      <td>Brian Shelton</td>\n",
       "      <td>02:34:43</td>\n",
       "      <td>2016</td>\n",
       "    </tr>\n",
       "    <tr>\n",
       "      <th>2</th>\n",
       "      <td>3</td>\n",
       "      <td>1047</td>\n",
       "      <td>Christopher Capps</td>\n",
       "      <td>02:38:43</td>\n",
       "      <td>2016</td>\n",
       "    </tr>\n",
       "    <tr>\n",
       "      <th>3</th>\n",
       "      <td>4</td>\n",
       "      <td>1052</td>\n",
       "      <td>Jason Grimes</td>\n",
       "      <td>02:45:06</td>\n",
       "      <td>2016</td>\n",
       "    </tr>\n",
       "    <tr>\n",
       "      <th>4</th>\n",
       "      <td>5</td>\n",
       "      <td>1046</td>\n",
       "      <td>David Adams</td>\n",
       "      <td>02:47:28</td>\n",
       "      <td>2016</td>\n",
       "    </tr>\n",
       "  </tbody>\n",
       "</table>\n",
       "</div>"
      ],
      "text/plain": [
       "   Overall   Bib               Name      Time  Year\n",
       "0        1     1     Scott Wietecha  02:25:42  2016\n",
       "1        2     3      Brian Shelton  02:34:43  2016\n",
       "2        3  1047  Christopher Capps  02:38:43  2016\n",
       "3        4  1052       Jason Grimes  02:45:06  2016\n",
       "4        5  1046        David Adams  02:47:28  2016"
      ]
     },
     "execution_count": 28,
     "metadata": {},
     "output_type": "execute_result"
    }
   ],
   "source": [
    "full_marathons.head()"
   ]
  },
  {
   "cell_type": "code",
   "execution_count": 29,
   "metadata": {},
   "outputs": [
    {
     "data": {
      "text/html": [
       "<div>\n",
       "<style scoped>\n",
       "    .dataframe tbody tr th:only-of-type {\n",
       "        vertical-align: middle;\n",
       "    }\n",
       "\n",
       "    .dataframe tbody tr th {\n",
       "        vertical-align: top;\n",
       "    }\n",
       "\n",
       "    .dataframe thead th {\n",
       "        text-align: right;\n",
       "    }\n",
       "</style>\n",
       "<table border=\"1\" class=\"dataframe\">\n",
       "  <thead>\n",
       "    <tr style=\"text-align: right;\">\n",
       "      <th></th>\n",
       "      <th>Overall</th>\n",
       "      <th>Bib</th>\n",
       "      <th>Name</th>\n",
       "      <th>Time</th>\n",
       "      <th>Year</th>\n",
       "    </tr>\n",
       "  </thead>\n",
       "  <tbody>\n",
       "    <tr>\n",
       "      <th>85781</th>\n",
       "      <td>13702</td>\n",
       "      <td>10899</td>\n",
       "      <td>Matthew Mcmullin</td>\n",
       "      <td>04:48:27</td>\n",
       "      <td>2019</td>\n",
       "    </tr>\n",
       "    <tr>\n",
       "      <th>85782</th>\n",
       "      <td>13703</td>\n",
       "      <td>17926</td>\n",
       "      <td>Destinie Bean</td>\n",
       "      <td>04:57:21</td>\n",
       "      <td>2019</td>\n",
       "    </tr>\n",
       "    <tr>\n",
       "      <th>85783</th>\n",
       "      <td>13704</td>\n",
       "      <td>1164</td>\n",
       "      <td>Katie Dillard</td>\n",
       "      <td>04:57:21</td>\n",
       "      <td>2019</td>\n",
       "    </tr>\n",
       "    <tr>\n",
       "      <th>85784</th>\n",
       "      <td>13705</td>\n",
       "      <td>13216</td>\n",
       "      <td>Porsche Baileybrown</td>\n",
       "      <td>05:03:35</td>\n",
       "      <td>2019</td>\n",
       "    </tr>\n",
       "    <tr>\n",
       "      <th>85785</th>\n",
       "      <td>13706</td>\n",
       "      <td>32779</td>\n",
       "      <td>Katy Martinez</td>\n",
       "      <td>05:52:56</td>\n",
       "      <td>2019</td>\n",
       "    </tr>\n",
       "  </tbody>\n",
       "</table>\n",
       "</div>"
      ],
      "text/plain": [
       "       Overall    Bib                 Name      Time  Year\n",
       "85781    13702  10899     Matthew Mcmullin  04:48:27  2019\n",
       "85782    13703  17926        Destinie Bean  04:57:21  2019\n",
       "85783    13704   1164        Katie Dillard  04:57:21  2019\n",
       "85784    13705  13216  Porsche Baileybrown  05:03:35  2019\n",
       "85785    13706  32779        Katy Martinez  05:52:56  2019"
      ]
     },
     "execution_count": 29,
     "metadata": {},
     "output_type": "execute_result"
    }
   ],
   "source": [
    "half_marathons.tail()"
   ]
  },
  {
   "cell_type": "code",
   "execution_count": 30,
   "metadata": {
    "scrolled": false
   },
   "outputs": [
    {
     "data": {
      "text/plain": [
       "Overall     int64\n",
       "Bib         int64\n",
       "Name       object\n",
       "Time       object\n",
       "Year        int64\n",
       "dtype: object"
      ]
     },
     "execution_count": 30,
     "metadata": {},
     "output_type": "execute_result"
    }
   ],
   "source": [
    "full_marathons.dtypes"
   ]
  },
  {
   "cell_type": "code",
   "execution_count": 31,
   "metadata": {},
   "outputs": [],
   "source": [
    "full_marathons['Time'] = pd.to_datetime(full_marathons['Time']).dt.time"
   ]
  },
  {
   "cell_type": "code",
   "execution_count": 32,
   "metadata": {},
   "outputs": [
    {
     "data": {
      "text/html": [
       "<div>\n",
       "<style scoped>\n",
       "    .dataframe tbody tr th:only-of-type {\n",
       "        vertical-align: middle;\n",
       "    }\n",
       "\n",
       "    .dataframe tbody tr th {\n",
       "        vertical-align: top;\n",
       "    }\n",
       "\n",
       "    .dataframe thead th {\n",
       "        text-align: right;\n",
       "    }\n",
       "</style>\n",
       "<table border=\"1\" class=\"dataframe\">\n",
       "  <thead>\n",
       "    <tr style=\"text-align: right;\">\n",
       "      <th></th>\n",
       "      <th>Overall</th>\n",
       "      <th>Bib</th>\n",
       "      <th>Name</th>\n",
       "      <th>Time</th>\n",
       "      <th>Year</th>\n",
       "    </tr>\n",
       "  </thead>\n",
       "  <tbody>\n",
       "    <tr>\n",
       "      <th>0</th>\n",
       "      <td>1</td>\n",
       "      <td>1</td>\n",
       "      <td>Scott Wietecha</td>\n",
       "      <td>02:25:42</td>\n",
       "      <td>2016</td>\n",
       "    </tr>\n",
       "    <tr>\n",
       "      <th>1</th>\n",
       "      <td>2</td>\n",
       "      <td>3</td>\n",
       "      <td>Brian Shelton</td>\n",
       "      <td>02:34:43</td>\n",
       "      <td>2016</td>\n",
       "    </tr>\n",
       "  </tbody>\n",
       "</table>\n",
       "</div>"
      ],
      "text/plain": [
       "   Overall  Bib            Name      Time  Year\n",
       "0        1    1  Scott Wietecha  02:25:42  2016\n",
       "1        2    3   Brian Shelton  02:34:43  2016"
      ]
     },
     "execution_count": 32,
     "metadata": {},
     "output_type": "execute_result"
    }
   ],
   "source": [
    "full_marathons.head(2)"
   ]
  },
  {
   "cell_type": "code",
   "execution_count": 33,
   "metadata": {},
   "outputs": [
    {
     "name": "stdout",
     "output_type": "stream",
     "text": [
      "<class 'pandas.core.frame.DataFrame'>\n",
      "Int64Index: 9704 entries, 0 to 11632\n",
      "Data columns (total 5 columns):\n",
      "Overall    9704 non-null int64\n",
      "Bib        9704 non-null int64\n",
      "Name       9704 non-null object\n",
      "Time       9704 non-null object\n",
      "Year       9704 non-null int64\n",
      "dtypes: int64(3), object(2)\n",
      "memory usage: 454.9+ KB\n"
     ]
    }
   ],
   "source": [
    "full_marathons.info()"
   ]
  },
  {
   "cell_type": "code",
   "execution_count": 34,
   "metadata": {},
   "outputs": [
    {
     "data": {
      "text/plain": [
       "count         9704\n",
       "unique        6150\n",
       "top       05:14:27\n",
       "freq             7\n",
       "Name: Time, dtype: object"
      ]
     },
     "execution_count": 34,
     "metadata": {},
     "output_type": "execute_result"
    }
   ],
   "source": [
    "full_marathons.Time.describe()"
   ]
  },
  {
   "cell_type": "code",
   "execution_count": 35,
   "metadata": {},
   "outputs": [
    {
     "data": {
      "text/plain": [
       "False"
      ]
     },
     "execution_count": 35,
     "metadata": {},
     "output_type": "execute_result"
    }
   ],
   "source": [
    "full_marathons.Time.isnull().any()"
   ]
  },
  {
   "cell_type": "code",
   "execution_count": 36,
   "metadata": {},
   "outputs": [
    {
     "data": {
      "image/png": "[encoded data removed]",
      "text/plain": [
       "<Figure size 720x360 with 1 Axes>"
      ]
     },
     "metadata": {
      "needs_background": "light"
     },
     "output_type": "display_data"
    }
   ],
   "source": [
    "full_xticks = ['02:30:00', '03:00:00', '03:30:00', '04:00:00', '04:30:00', '05:00:00', '05:30:00', '06:00:00', '06:30:00', '07:00:00']\n",
    "plt.figure(figsize=(10,5))\n",
    "plt.hist(full_marathons.Time, bins = 100, color = 'red', histtype='bar', ec='black', alpha = .85)\n",
    "plt.grid(axis='y', alpha=0.2)\n",
    "plt.xlabel('Finish Times',fontsize=14)\n",
    "plt.ylabel('Number of Runners',fontsize=14)\n",
    "plt.xticks(full_xticks, fontsize=12, rotation = 45)\n",
    "plt.yticks(fontsize=12)\n",
    "plt.xlim('02:00:00', '07:30:00')\n",
    "plt.title('Full Marathon Time Groupings: 2016 - 2019',fontsize=18, fontweight = 'bold')\n",
    "plt.tight_layout()\n",
    "plt.savefig('data/fullmarathontimegroups.png')\n",
    "plt.show()"
   ]
  },
  {
   "cell_type": "code",
   "execution_count": 37,
   "metadata": {},
   "outputs": [],
   "source": [
    "half_marathons['Time'] = pd.to_datetime(half_marathons['Time']).dt.time"
   ]
  },
  {
   "cell_type": "code",
   "execution_count": 38,
   "metadata": {},
   "outputs": [
    {
     "data": {
      "text/html": [
       "<div>\n",
       "<style scoped>\n",
       "    .dataframe tbody tr th:only-of-type {\n",
       "        vertical-align: middle;\n",
       "    }\n",
       "\n",
       "    .dataframe tbody tr th {\n",
       "        vertical-align: top;\n",
       "    }\n",
       "\n",
       "    .dataframe thead th {\n",
       "        text-align: right;\n",
       "    }\n",
       "</style>\n",
       "<table border=\"1\" class=\"dataframe\">\n",
       "  <thead>\n",
       "    <tr style=\"text-align: right;\">\n",
       "      <th></th>\n",
       "      <th>Overall</th>\n",
       "      <th>Bib</th>\n",
       "      <th>Name</th>\n",
       "      <th>Time</th>\n",
       "      <th>Year</th>\n",
       "    </tr>\n",
       "  </thead>\n",
       "  <tbody>\n",
       "    <tr>\n",
       "      <th>12419</th>\n",
       "      <td>1</td>\n",
       "      <td>201</td>\n",
       "      <td>Roosevelt Cook</td>\n",
       "      <td>01:11:15</td>\n",
       "      <td>2016</td>\n",
       "    </tr>\n",
       "    <tr>\n",
       "      <th>12420</th>\n",
       "      <td>2</td>\n",
       "      <td>204</td>\n",
       "      <td>Bill Martin</td>\n",
       "      <td>01:11:50</td>\n",
       "      <td>2016</td>\n",
       "    </tr>\n",
       "    <tr>\n",
       "      <th>12421</th>\n",
       "      <td>3</td>\n",
       "      <td>1623</td>\n",
       "      <td>Cody Hodgins</td>\n",
       "      <td>01:13:43</td>\n",
       "      <td>2016</td>\n",
       "    </tr>\n",
       "    <tr>\n",
       "      <th>12422</th>\n",
       "      <td>4</td>\n",
       "      <td>1222</td>\n",
       "      <td>Andrew Archer</td>\n",
       "      <td>01:15:04</td>\n",
       "      <td>2016</td>\n",
       "    </tr>\n",
       "    <tr>\n",
       "      <th>12423</th>\n",
       "      <td>5</td>\n",
       "      <td>1224</td>\n",
       "      <td>Brian Syring</td>\n",
       "      <td>01:15:30</td>\n",
       "      <td>2016</td>\n",
       "    </tr>\n",
       "  </tbody>\n",
       "</table>\n",
       "</div>"
      ],
      "text/plain": [
       "       Overall   Bib            Name      Time  Year\n",
       "12419        1   201  Roosevelt Cook  01:11:15  2016\n",
       "12420        2   204     Bill Martin  01:11:50  2016\n",
       "12421        3  1623    Cody Hodgins  01:13:43  2016\n",
       "12422        4  1222   Andrew Archer  01:15:04  2016\n",
       "12423        5  1224    Brian Syring  01:15:30  2016"
      ]
     },
     "execution_count": 38,
     "metadata": {},
     "output_type": "execute_result"
    }
   ],
   "source": [
    "half_marathons.head()"
   ]
  },
  {
   "cell_type": "code",
   "execution_count": 39,
   "metadata": {},
   "outputs": [
    {
     "data": {
      "image/png": "[encoded data removed]",
      "text/plain": [
       "<Figure size 720x360 with 1 Axes>"
      ]
     },
     "metadata": {
      "needs_background": "light"
     },
     "output_type": "display_data"
    }
   ],
   "source": [
    "xticks = ['01:30:00', '02:00:00', '02:30:00', '03:00:00', '03:30:00', '04:00:00', '04:30:00']\n",
    "fig = plt.figure(figsize=(10,5))\n",
    "plt.hist(half_marathons.Time, bins = 100, color = 'red', histtype='bar', ec='black', alpha = .85)\n",
    "plt.grid(axis='y', alpha=0.2)\n",
    "plt.xlabel('Finish Times',fontsize=14)\n",
    "plt.ylabel('Number of Runners',fontsize=14)\n",
    "plt.xticks(xticks, fontsize=12, rotation = 45)\n",
    "plt.yticks(fontsize=12)\n",
    "plt.title('Half Marathon Time Groupings: 2016 - 2019',fontsize=18, fontweight = 'bold')\n",
    "plt.xlim('01:00:00', '05:00:00')\n",
    "plt.tight_layout()\n",
    "plt.savefig('data/halfmarathontimegroups.png')\n",
    "#time_form = DateFormatter(\"%H:%M:%S\")\n",
    "#ax.set_xticks(major_ticks)\n",
    "#ax.xaxis.set_major_formatter(time_form)\n",
    "plt.show()"
   ]
  },
  {
   "cell_type": "code",
   "execution_count": 40,
   "metadata": {},
   "outputs": [
    {
     "data": {
      "text/html": [
       "<div>\n",
       "<style scoped>\n",
       "    .dataframe tbody tr th:only-of-type {\n",
       "        vertical-align: middle;\n",
       "    }\n",
       "\n",
       "    .dataframe tbody tr th {\n",
       "        vertical-align: top;\n",
       "    }\n",
       "\n",
       "    .dataframe thead th {\n",
       "        text-align: right;\n",
       "    }\n",
       "</style>\n",
       "<table border=\"1\" class=\"dataframe\">\n",
       "  <thead>\n",
       "    <tr style=\"text-align: right;\">\n",
       "      <th></th>\n",
       "      <th>Overall</th>\n",
       "      <th>Bib</th>\n",
       "      <th>Name</th>\n",
       "      <th>Time</th>\n",
       "      <th>Year</th>\n",
       "    </tr>\n",
       "  </thead>\n",
       "  <tbody>\n",
       "    <tr>\n",
       "      <th>0</th>\n",
       "      <td>1</td>\n",
       "      <td>1</td>\n",
       "      <td>Scott Wietecha</td>\n",
       "      <td>02:25:42</td>\n",
       "      <td>2016</td>\n",
       "    </tr>\n",
       "    <tr>\n",
       "      <th>1</th>\n",
       "      <td>2</td>\n",
       "      <td>3</td>\n",
       "      <td>Brian Shelton</td>\n",
       "      <td>02:34:43</td>\n",
       "      <td>2016</td>\n",
       "    </tr>\n",
       "    <tr>\n",
       "      <th>2</th>\n",
       "      <td>3</td>\n",
       "      <td>1047</td>\n",
       "      <td>Christopher Capps</td>\n",
       "      <td>02:38:43</td>\n",
       "      <td>2016</td>\n",
       "    </tr>\n",
       "    <tr>\n",
       "      <th>3</th>\n",
       "      <td>4</td>\n",
       "      <td>1052</td>\n",
       "      <td>Jason Grimes</td>\n",
       "      <td>02:45:06</td>\n",
       "      <td>2016</td>\n",
       "    </tr>\n",
       "    <tr>\n",
       "      <th>4</th>\n",
       "      <td>5</td>\n",
       "      <td>1046</td>\n",
       "      <td>David Adams</td>\n",
       "      <td>02:47:28</td>\n",
       "      <td>2016</td>\n",
       "    </tr>\n",
       "  </tbody>\n",
       "</table>\n",
       "</div>"
      ],
      "text/plain": [
       "   Overall   Bib               Name      Time  Year\n",
       "0        1     1     Scott Wietecha  02:25:42  2016\n",
       "1        2     3      Brian Shelton  02:34:43  2016\n",
       "2        3  1047  Christopher Capps  02:38:43  2016\n",
       "3        4  1052       Jason Grimes  02:45:06  2016\n",
       "4        5  1046        David Adams  02:47:28  2016"
      ]
     },
     "execution_count": 40,
     "metadata": {},
     "output_type": "execute_result"
    }
   ],
   "source": [
    "full_marathons.head()"
   ]
  },
  {
   "cell_type": "code",
   "execution_count": 41,
   "metadata": {},
   "outputs": [
    {
     "data": {
      "text/plain": [
       "Overall     int64\n",
       "Bib         int64\n",
       "Name       object\n",
       "Time       object\n",
       "Year        int64\n",
       "dtype: object"
      ]
     },
     "execution_count": 41,
     "metadata": {},
     "output_type": "execute_result"
    }
   ],
   "source": [
    "full_marathons.dtypes"
   ]
  },
  {
   "cell_type": "code",
   "execution_count": 42,
   "metadata": {},
   "outputs": [
    {
     "data": {
      "text/plain": [
       "2016    2978\n",
       "2017    2595\n",
       "2018    2107\n",
       "2019    2024\n",
       "Name: Year, dtype: int64"
      ]
     },
     "execution_count": 42,
     "metadata": {},
     "output_type": "execute_result"
    }
   ],
   "source": [
    "full_marathons.Year.value_counts()"
   ]
  },
  {
   "cell_type": "code",
   "execution_count": 145,
   "metadata": {
    "scrolled": false
   },
   "outputs": [
    {
     "data": {
      "image/png": "[encoded data removed]",
      "text/plain": [
       "<Figure size 1152x576 with 1 Axes>"
      ]
     },
     "metadata": {
      "needs_background": "light"
     },
     "output_type": "display_data"
    }
   ],
   "source": [
    "fig = plt.figure(figsize=(16,8))\n",
    "full_marathons.Year.value_counts().plot(kind = 'bar', color = 'red', ec = 'black', alpha = .85)\n",
    "plt.xticks(fontsize = 12, rotation = 0)\n",
    "plt.yticks(fontsize = 12)\n",
    "plt.grid(axis='y', alpha=0.2)\n",
    "plt.ylabel('Total Runners', fontsize = 14)\n",
    "plt.title('Full Marathon Runners by Year: Nashville', fontsize = 18, fontweight = 'bold')\n",
    "plt.tight_layout()\n",
    "plt.savefig('data/fullmarathons_by_year_nash.png')\n",
    "plt.show()"
   ]
  },
  {
   "cell_type": "code",
   "execution_count": 128,
   "metadata": {},
   "outputs": [
    {
     "data": {
      "image/png": "[encoded data removed]",
      "text/plain": [
       "<Figure size 1152x576 with 1 Axes>"
      ]
     },
     "metadata": {
      "needs_background": "light"
     },
     "output_type": "display_data"
    }
   ],
   "source": [
    "fig = plt.figure(figsize=(16,8))\n",
    "half_marathons.Year.value_counts().plot(kind = 'bar', color = 'purple', ec = 'black', alpha = .85)\n",
    "plt.xticks(fontsize = 12, rotation = 0)\n",
    "plt.yticks(fontsize = 12)\n",
    "plt.grid(axis='y', alpha=0.2)\n",
    "plt.ylabel('Total Runners', fontsize = 14)\n",
    "plt.title('Half Marathon Runners by Year', fontsize = 18, fontweight = 'bold')\n",
    "plt.tight_layout()\n",
    "plt.savefig('data/halfmarathons_by_year.png')\n",
    "plt.show()"
   ]
  },
  {
   "cell_type": "code",
   "execution_count": 141,
   "metadata": {},
   "outputs": [
    {
     "data": {
      "image/png": "[encoded data removed]",
      "text/plain": [
       "<Figure size 1152x576 with 1 Axes>"
      ]
     },
     "metadata": {},
     "output_type": "display_data"
    }
   ],
   "source": [
    "half_marathons.Year.value_counts().plot(kind = 'pie', cmap = 'bwr', figsize = (16, 8), explode =(0.01, 0.01, 0.01, 0.01), autopct='%1.0f%%',\n",
    "        shadow=True, startangle=90, textprops={'fontsize': 14, 'fontweight':'bold'})\n",
    "plt.title('Half Marathons: Percentage of Total Runners by Year', fontname = fontname, fontsize = 18, fontweight = 'bold')\n",
    "plt.axis('equal')\n",
    "plt.tight_layout()\n",
    "plt.show()"
   ]
  },
  {
   "cell_type": "code",
   "execution_count": 46,
   "metadata": {},
   "outputs": [
    {
     "data": {
      "text/plain": [
       "2016    17920\n",
       "2017    17712\n",
       "2018    14940\n",
       "2019    13706\n",
       "Name: Year, dtype: int64"
      ]
     },
     "execution_count": 46,
     "metadata": {},
     "output_type": "execute_result"
    }
   ],
   "source": [
    "half_marathons.Year.value_counts()"
   ]
  },
  {
   "cell_type": "code",
   "execution_count": 47,
   "metadata": {},
   "outputs": [
    {
     "data": {
      "image/png": "[encoded data removed]",
      "text/plain": [
       "<Figure size 1152x576 with 1 Axes>"
      ]
     },
     "metadata": {},
     "output_type": "display_data"
    }
   ],
   "source": [
    "full_marathons.Year.value_counts().plot(kind = 'pie', cmap = 'bwr', figsize = (16, 8), explode =(0.01, 0.01, 0.01, 0.01), autopct='%1.0f%%',\n",
    "        shadow=True, startangle=90, textprops={'fontsize': 14, 'fontweight':'bold'})\n",
    "plt.title('Full Marathons: Percentage of Total Runners by Year', fontsize = 18, fontweight = 'bold')\n",
    "plt.axis('equal')\n",
    "plt.tight_layout()\n",
    "plt.show()"
   ]
  },
  {
   "cell_type": "code",
   "execution_count": 48,
   "metadata": {},
   "outputs": [
    {
     "data": {
      "text/html": [
       "<div>\n",
       "<style scoped>\n",
       "    .dataframe tbody tr th:only-of-type {\n",
       "        vertical-align: middle;\n",
       "    }\n",
       "\n",
       "    .dataframe tbody tr th {\n",
       "        vertical-align: top;\n",
       "    }\n",
       "\n",
       "    .dataframe thead th {\n",
       "        text-align: right;\n",
       "    }\n",
       "</style>\n",
       "<table border=\"1\" class=\"dataframe\">\n",
       "  <thead>\n",
       "    <tr style=\"text-align: right;\">\n",
       "      <th></th>\n",
       "      <th>Overall</th>\n",
       "      <th>Bib</th>\n",
       "      <th>Name</th>\n",
       "      <th>Time</th>\n",
       "      <th>Year</th>\n",
       "      <th>Mar_Type</th>\n",
       "    </tr>\n",
       "  </thead>\n",
       "  <tbody>\n",
       "    <tr>\n",
       "      <th>0</th>\n",
       "      <td>1</td>\n",
       "      <td>1</td>\n",
       "      <td>Scott Wietecha</td>\n",
       "      <td>02:25:42</td>\n",
       "      <td>2016</td>\n",
       "      <td>Full</td>\n",
       "    </tr>\n",
       "    <tr>\n",
       "      <th>1</th>\n",
       "      <td>2</td>\n",
       "      <td>3</td>\n",
       "      <td>Brian Shelton</td>\n",
       "      <td>02:34:43</td>\n",
       "      <td>2016</td>\n",
       "      <td>Full</td>\n",
       "    </tr>\n",
       "    <tr>\n",
       "      <th>2</th>\n",
       "      <td>3</td>\n",
       "      <td>1047</td>\n",
       "      <td>Christopher Capps</td>\n",
       "      <td>02:38:43</td>\n",
       "      <td>2016</td>\n",
       "      <td>Full</td>\n",
       "    </tr>\n",
       "    <tr>\n",
       "      <th>3</th>\n",
       "      <td>4</td>\n",
       "      <td>1052</td>\n",
       "      <td>Jason Grimes</td>\n",
       "      <td>02:45:06</td>\n",
       "      <td>2016</td>\n",
       "      <td>Full</td>\n",
       "    </tr>\n",
       "    <tr>\n",
       "      <th>4</th>\n",
       "      <td>5</td>\n",
       "      <td>1046</td>\n",
       "      <td>David Adams</td>\n",
       "      <td>02:47:28</td>\n",
       "      <td>2016</td>\n",
       "      <td>Full</td>\n",
       "    </tr>\n",
       "  </tbody>\n",
       "</table>\n",
       "</div>"
      ],
      "text/plain": [
       "   Overall   Bib               Name      Time  Year Mar_Type\n",
       "0        1     1     Scott Wietecha  02:25:42  2016     Full\n",
       "1        2     3      Brian Shelton  02:34:43  2016     Full\n",
       "2        3  1047  Christopher Capps  02:38:43  2016     Full\n",
       "3        4  1052       Jason Grimes  02:45:06  2016     Full\n",
       "4        5  1046        David Adams  02:47:28  2016     Full"
      ]
     },
     "execution_count": 48,
     "metadata": {},
     "output_type": "execute_result"
    }
   ],
   "source": [
    "marathons_with_dnrs.head()"
   ]
  },
  {
   "cell_type": "code",
   "execution_count": 49,
   "metadata": {},
   "outputs": [
    {
     "name": "stdout",
     "output_type": "stream",
     "text": [
      "<class 'pandas.core.frame.DataFrame'>\n",
      "RangeIndex: 89316 entries, 0 to 89315\n",
      "Data columns (total 6 columns):\n",
      "Overall     89316 non-null int64\n",
      "Bib         89316 non-null int64\n",
      "Name        89316 non-null object\n",
      "Time        89316 non-null object\n",
      "Year        89316 non-null int64\n",
      "Mar_Type    89316 non-null object\n",
      "dtypes: int64(3), object(3)\n",
      "memory usage: 4.1+ MB\n"
     ]
    }
   ],
   "source": [
    "marathons_with_dnrs.info()"
   ]
  },
  {
   "cell_type": "code",
   "execution_count": 50,
   "metadata": {},
   "outputs": [],
   "source": [
    "marathons_with_dnrs.Mar_Type = marathons_with_dnrs.Mar_Type.astype('category')"
   ]
  },
  {
   "cell_type": "code",
   "execution_count": 51,
   "metadata": {},
   "outputs": [
    {
     "data": {
      "text/plain": [
       "Overall        int64\n",
       "Bib            int64\n",
       "Name          object\n",
       "Time          object\n",
       "Year           int64\n",
       "Mar_Type    category\n",
       "dtype: object"
      ]
     },
     "execution_count": 51,
     "metadata": {},
     "output_type": "execute_result"
    }
   ],
   "source": [
    "marathons_with_dnrs.dtypes"
   ]
  },
  {
   "cell_type": "code",
   "execution_count": 52,
   "metadata": {},
   "outputs": [
    {
     "data": {
      "text/html": [
       "<div>\n",
       "<style scoped>\n",
       "    .dataframe tbody tr th:only-of-type {\n",
       "        vertical-align: middle;\n",
       "    }\n",
       "\n",
       "    .dataframe tbody tr th {\n",
       "        vertical-align: top;\n",
       "    }\n",
       "\n",
       "    .dataframe thead th {\n",
       "        text-align: right;\n",
       "    }\n",
       "</style>\n",
       "<table border=\"1\" class=\"dataframe\">\n",
       "  <thead>\n",
       "    <tr style=\"text-align: right;\">\n",
       "      <th></th>\n",
       "      <th>Overall</th>\n",
       "      <th>Bib</th>\n",
       "      <th>Name</th>\n",
       "      <th>Time</th>\n",
       "      <th>Year</th>\n",
       "      <th>Mar_Type</th>\n",
       "    </tr>\n",
       "  </thead>\n",
       "  <tbody>\n",
       "    <tr>\n",
       "      <th>0</th>\n",
       "      <td>1</td>\n",
       "      <td>1</td>\n",
       "      <td>Scott Wietecha</td>\n",
       "      <td>02:25:42</td>\n",
       "      <td>2016</td>\n",
       "      <td>Full</td>\n",
       "    </tr>\n",
       "    <tr>\n",
       "      <th>1</th>\n",
       "      <td>2</td>\n",
       "      <td>3</td>\n",
       "      <td>Brian Shelton</td>\n",
       "      <td>02:34:43</td>\n",
       "      <td>2016</td>\n",
       "      <td>Full</td>\n",
       "    </tr>\n",
       "    <tr>\n",
       "      <th>2</th>\n",
       "      <td>3</td>\n",
       "      <td>1047</td>\n",
       "      <td>Christopher Capps</td>\n",
       "      <td>02:38:43</td>\n",
       "      <td>2016</td>\n",
       "      <td>Full</td>\n",
       "    </tr>\n",
       "    <tr>\n",
       "      <th>3</th>\n",
       "      <td>4</td>\n",
       "      <td>1052</td>\n",
       "      <td>Jason Grimes</td>\n",
       "      <td>02:45:06</td>\n",
       "      <td>2016</td>\n",
       "      <td>Full</td>\n",
       "    </tr>\n",
       "    <tr>\n",
       "      <th>4</th>\n",
       "      <td>5</td>\n",
       "      <td>1046</td>\n",
       "      <td>David Adams</td>\n",
       "      <td>02:47:28</td>\n",
       "      <td>2016</td>\n",
       "      <td>Full</td>\n",
       "    </tr>\n",
       "  </tbody>\n",
       "</table>\n",
       "</div>"
      ],
      "text/plain": [
       "   Overall   Bib               Name      Time  Year Mar_Type\n",
       "0        1     1     Scott Wietecha  02:25:42  2016     Full\n",
       "1        2     3      Brian Shelton  02:34:43  2016     Full\n",
       "2        3  1047  Christopher Capps  02:38:43  2016     Full\n",
       "3        4  1052       Jason Grimes  02:45:06  2016     Full\n",
       "4        5  1046        David Adams  02:47:28  2016     Full"
      ]
     },
     "execution_count": 52,
     "metadata": {},
     "output_type": "execute_result"
    }
   ],
   "source": [
    "marathons_with_dnrs.head()"
   ]
  },
  {
   "cell_type": "code",
   "execution_count": 53,
   "metadata": {},
   "outputs": [
    {
     "data": {
      "text/html": [
       "<div>\n",
       "<style scoped>\n",
       "    .dataframe tbody tr th:only-of-type {\n",
       "        vertical-align: middle;\n",
       "    }\n",
       "\n",
       "    .dataframe tbody tr th {\n",
       "        vertical-align: top;\n",
       "    }\n",
       "\n",
       "    .dataframe thead th {\n",
       "        text-align: right;\n",
       "    }\n",
       "</style>\n",
       "<table border=\"1\" class=\"dataframe\">\n",
       "  <thead>\n",
       "    <tr style=\"text-align: right;\">\n",
       "      <th></th>\n",
       "      <th>Overall</th>\n",
       "      <th>Bib</th>\n",
       "      <th>Name</th>\n",
       "      <th>Time</th>\n",
       "      <th>Year</th>\n",
       "      <th>Mar_Type</th>\n",
       "    </tr>\n",
       "  </thead>\n",
       "  <tbody>\n",
       "    <tr>\n",
       "      <th>89311</th>\n",
       "      <td>99999</td>\n",
       "      <td>6940</td>\n",
       "      <td>Katie Jeffers</td>\n",
       "      <td>00:00:00</td>\n",
       "      <td>2019</td>\n",
       "      <td>Half</td>\n",
       "    </tr>\n",
       "    <tr>\n",
       "      <th>89312</th>\n",
       "      <td>99999</td>\n",
       "      <td>12755</td>\n",
       "      <td>Anna Phillips</td>\n",
       "      <td>00:00:00</td>\n",
       "      <td>2019</td>\n",
       "      <td>Half</td>\n",
       "    </tr>\n",
       "    <tr>\n",
       "      <th>89313</th>\n",
       "      <td>99999</td>\n",
       "      <td>8804</td>\n",
       "      <td>Brocknie Bray</td>\n",
       "      <td>00:00:00</td>\n",
       "      <td>2019</td>\n",
       "      <td>Half</td>\n",
       "    </tr>\n",
       "    <tr>\n",
       "      <th>89314</th>\n",
       "      <td>99999</td>\n",
       "      <td>8691</td>\n",
       "      <td>Tyler King</td>\n",
       "      <td>00:00:00</td>\n",
       "      <td>2019</td>\n",
       "      <td>Half</td>\n",
       "    </tr>\n",
       "    <tr>\n",
       "      <th>89315</th>\n",
       "      <td>99999</td>\n",
       "      <td>12830</td>\n",
       "      <td>Shannon Schnable</td>\n",
       "      <td>00:00:00</td>\n",
       "      <td>2019</td>\n",
       "      <td>Half</td>\n",
       "    </tr>\n",
       "  </tbody>\n",
       "</table>\n",
       "</div>"
      ],
      "text/plain": [
       "       Overall    Bib              Name      Time  Year Mar_Type\n",
       "89311    99999   6940     Katie Jeffers  00:00:00  2019     Half\n",
       "89312    99999  12755     Anna Phillips  00:00:00  2019     Half\n",
       "89313    99999   8804     Brocknie Bray  00:00:00  2019     Half\n",
       "89314    99999   8691        Tyler King  00:00:00  2019     Half\n",
       "89315    99999  12830  Shannon Schnable  00:00:00  2019     Half"
      ]
     },
     "execution_count": 53,
     "metadata": {},
     "output_type": "execute_result"
    }
   ],
   "source": [
    "marathons_with_dnrs.tail()"
   ]
  },
  {
   "cell_type": "code",
   "execution_count": 130,
   "metadata": {},
   "outputs": [
    {
     "data": {
      "image/png": "[encoded data removed]",
      "text/plain": [
       "<Figure size 720x360 with 1 Axes>"
      ]
     },
     "metadata": {
      "needs_background": "light"
     },
     "output_type": "display_data"
    }
   ],
   "source": [
    "fig = plt.figure(figsize=(10,5))\n",
    "marathons_with_dnrs.Year.value_counts().plot(kind = 'bar', color = 'red', ec = 'black', alpha = .85)\n",
    "plt.xticks(fontsize = 12, rotation = 0)\n",
    "plt.yticks(fontsize = 12)\n",
    "plt.grid(axis='y', alpha=0.2)\n",
    "plt.ylabel('Total Runners', fontsize = 14)\n",
    "plt.title('Full & Half Registered Runners Including DNRs by Year', fontsize = 18, fontweight = 'bold')\n",
    "plt.tight_layout()\n",
    "#plt.savefig('data/halfmarathons_by_year.png')\n",
    "plt.show()"
   ]
  },
  {
   "cell_type": "code",
   "execution_count": 55,
   "metadata": {},
   "outputs": [
    {
     "data": {
      "text/plain": [
       "00:00:00    15333\n",
       "02:16:32       27\n",
       "02:18:04       26\n",
       "02:21:21       26\n",
       "02:35:40       26\n",
       "Name: Time, dtype: int64"
      ]
     },
     "execution_count": 55,
     "metadata": {},
     "output_type": "execute_result"
    }
   ],
   "source": [
    "marathons_with_dnrs.Time.value_counts().head()"
   ]
  },
  {
   "cell_type": "code",
   "execution_count": 56,
   "metadata": {},
   "outputs": [
    {
     "data": {
      "text/plain": [
       "89316"
      ]
     },
     "execution_count": 56,
     "metadata": {},
     "output_type": "execute_result"
    }
   ],
   "source": [
    "marathons_with_dnrs.Bib.count()"
   ]
  },
  {
   "cell_type": "code",
   "execution_count": 57,
   "metadata": {
    "scrolled": true
   },
   "outputs": [
    {
     "data": {
      "text/plain": [
       "(89316, 6)"
      ]
     },
     "execution_count": 57,
     "metadata": {},
     "output_type": "execute_result"
    }
   ],
   "source": [
    "marathons_with_dnrs.shape"
   ]
  },
  {
   "cell_type": "markdown",
   "metadata": {},
   "source": [
    "DNR Percentage for All Full & Half Marathons"
   ]
  },
  {
   "cell_type": "code",
   "execution_count": 58,
   "metadata": {},
   "outputs": [
    {
     "data": {
      "text/plain": [
       "17.16713690716109"
      ]
     },
     "execution_count": 58,
     "metadata": {},
     "output_type": "execute_result"
    }
   ],
   "source": [
    "(15333 / 89316) * 100"
   ]
  },
  {
   "cell_type": "code",
   "execution_count": 59,
   "metadata": {},
   "outputs": [],
   "source": [
    "full_with_dnrs = marathons_with_dnrs[marathons_with_dnrs.Mar_Type == 'Full']\n",
    "half_with_dnrs = marathons_with_dnrs[marathons_with_dnrs.Mar_Type == 'Half']"
   ]
  },
  {
   "cell_type": "code",
   "execution_count": 60,
   "metadata": {},
   "outputs": [
    {
     "data": {
      "text/plain": [
       "(12419, 6)"
      ]
     },
     "execution_count": 60,
     "metadata": {},
     "output_type": "execute_result"
    }
   ],
   "source": [
    "full_with_dnrs.shape"
   ]
  },
  {
   "cell_type": "code",
   "execution_count": 61,
   "metadata": {},
   "outputs": [
    {
     "data": {
      "text/plain": [
       "(76897, 6)"
      ]
     },
     "execution_count": 61,
     "metadata": {},
     "output_type": "execute_result"
    }
   ],
   "source": [
    "half_with_dnrs.shape"
   ]
  },
  {
   "cell_type": "code",
   "execution_count": 62,
   "metadata": {},
   "outputs": [
    {
     "data": {
      "text/plain": [
       "00:00:00    2714\n",
       "Name: Time, dtype: int64"
      ]
     },
     "execution_count": 62,
     "metadata": {},
     "output_type": "execute_result"
    }
   ],
   "source": [
    "full_with_dnrs.Time.value_counts().head(1)"
   ]
  },
  {
   "cell_type": "code",
   "execution_count": 63,
   "metadata": {},
   "outputs": [
    {
     "data": {
      "text/plain": [
       "00:00:00    12619\n",
       "Name: Time, dtype: int64"
      ]
     },
     "execution_count": 63,
     "metadata": {},
     "output_type": "execute_result"
    }
   ],
   "source": [
    "half_with_dnrs.Time.value_counts().head(1)"
   ]
  },
  {
   "cell_type": "markdown",
   "metadata": {},
   "source": [
    "DNR Percentage For All Full Marathons"
   ]
  },
  {
   "cell_type": "code",
   "execution_count": 64,
   "metadata": {},
   "outputs": [
    {
     "data": {
      "text/plain": [
       "21.85361140188421"
      ]
     },
     "execution_count": 64,
     "metadata": {},
     "output_type": "execute_result"
    }
   ],
   "source": [
    "2714 / 12419 * 100"
   ]
  },
  {
   "cell_type": "markdown",
   "metadata": {},
   "source": [
    "DNR Percentage For All Half Marathons"
   ]
  },
  {
   "cell_type": "code",
   "execution_count": 65,
   "metadata": {},
   "outputs": [
    {
     "data": {
      "text/plain": [
       "16.410263079183842"
      ]
     },
     "execution_count": 65,
     "metadata": {},
     "output_type": "execute_result"
    }
   ],
   "source": [
    "12619 / 76897 * 100"
   ]
  },
  {
   "cell_type": "code",
   "execution_count": 66,
   "metadata": {},
   "outputs": [],
   "source": [
    "only_dnrs = marathons_with_dnrs[marathons_with_dnrs.Time == '00:00:00']"
   ]
  },
  {
   "cell_type": "code",
   "execution_count": 67,
   "metadata": {},
   "outputs": [
    {
     "data": {
      "text/html": [
       "<div>\n",
       "<style scoped>\n",
       "    .dataframe tbody tr th:only-of-type {\n",
       "        vertical-align: middle;\n",
       "    }\n",
       "\n",
       "    .dataframe tbody tr th {\n",
       "        vertical-align: top;\n",
       "    }\n",
       "\n",
       "    .dataframe thead th {\n",
       "        text-align: right;\n",
       "    }\n",
       "</style>\n",
       "<table border=\"1\" class=\"dataframe\">\n",
       "  <thead>\n",
       "    <tr style=\"text-align: right;\">\n",
       "      <th></th>\n",
       "      <th>Overall</th>\n",
       "      <th>Bib</th>\n",
       "      <th>Name</th>\n",
       "      <th>Time</th>\n",
       "      <th>Year</th>\n",
       "      <th>Mar_Type</th>\n",
       "    </tr>\n",
       "  </thead>\n",
       "  <tbody>\n",
       "    <tr>\n",
       "      <th>2952</th>\n",
       "      <td>99999</td>\n",
       "      <td>27326</td>\n",
       "      <td>Ashley Newton</td>\n",
       "      <td>00:00:00</td>\n",
       "      <td>2016</td>\n",
       "      <td>Full</td>\n",
       "    </tr>\n",
       "    <tr>\n",
       "      <th>2953</th>\n",
       "      <td>99999</td>\n",
       "      <td>2031</td>\n",
       "      <td>Thomas Sirna</td>\n",
       "      <td>00:00:00</td>\n",
       "      <td>2016</td>\n",
       "      <td>Full</td>\n",
       "    </tr>\n",
       "    <tr>\n",
       "      <th>2954</th>\n",
       "      <td>99999</td>\n",
       "      <td>4027</td>\n",
       "      <td>Sulaiman Seriki</td>\n",
       "      <td>00:00:00</td>\n",
       "      <td>2016</td>\n",
       "      <td>Full</td>\n",
       "    </tr>\n",
       "    <tr>\n",
       "      <th>2955</th>\n",
       "      <td>99999</td>\n",
       "      <td>17252</td>\n",
       "      <td>Carol Mulderink</td>\n",
       "      <td>00:00:00</td>\n",
       "      <td>2016</td>\n",
       "      <td>Full</td>\n",
       "    </tr>\n",
       "    <tr>\n",
       "      <th>2956</th>\n",
       "      <td>99999</td>\n",
       "      <td>27187</td>\n",
       "      <td>Philip Alvarado</td>\n",
       "      <td>00:00:00</td>\n",
       "      <td>2016</td>\n",
       "      <td>Full</td>\n",
       "    </tr>\n",
       "  </tbody>\n",
       "</table>\n",
       "</div>"
      ],
      "text/plain": [
       "      Overall    Bib             Name      Time  Year Mar_Type\n",
       "2952    99999  27326    Ashley Newton  00:00:00  2016     Full\n",
       "2953    99999   2031     Thomas Sirna  00:00:00  2016     Full\n",
       "2954    99999   4027  Sulaiman Seriki  00:00:00  2016     Full\n",
       "2955    99999  17252  Carol Mulderink  00:00:00  2016     Full\n",
       "2956    99999  27187  Philip Alvarado  00:00:00  2016     Full"
      ]
     },
     "execution_count": 67,
     "metadata": {},
     "output_type": "execute_result"
    }
   ],
   "source": [
    "only_dnrs.head()"
   ]
  },
  {
   "cell_type": "code",
   "execution_count": 68,
   "metadata": {},
   "outputs": [
    {
     "data": {
      "text/html": [
       "<div>\n",
       "<style scoped>\n",
       "    .dataframe tbody tr th:only-of-type {\n",
       "        vertical-align: middle;\n",
       "    }\n",
       "\n",
       "    .dataframe tbody tr th {\n",
       "        vertical-align: top;\n",
       "    }\n",
       "\n",
       "    .dataframe thead th {\n",
       "        text-align: right;\n",
       "    }\n",
       "</style>\n",
       "<table border=\"1\" class=\"dataframe\">\n",
       "  <thead>\n",
       "    <tr style=\"text-align: right;\">\n",
       "      <th></th>\n",
       "      <th>Overall</th>\n",
       "      <th>Bib</th>\n",
       "      <th>Name</th>\n",
       "      <th>Time</th>\n",
       "      <th>Year</th>\n",
       "      <th>Mar_Type</th>\n",
       "    </tr>\n",
       "  </thead>\n",
       "  <tbody>\n",
       "    <tr>\n",
       "      <th>89311</th>\n",
       "      <td>99999</td>\n",
       "      <td>6940</td>\n",
       "      <td>Katie Jeffers</td>\n",
       "      <td>00:00:00</td>\n",
       "      <td>2019</td>\n",
       "      <td>Half</td>\n",
       "    </tr>\n",
       "    <tr>\n",
       "      <th>89312</th>\n",
       "      <td>99999</td>\n",
       "      <td>12755</td>\n",
       "      <td>Anna Phillips</td>\n",
       "      <td>00:00:00</td>\n",
       "      <td>2019</td>\n",
       "      <td>Half</td>\n",
       "    </tr>\n",
       "    <tr>\n",
       "      <th>89313</th>\n",
       "      <td>99999</td>\n",
       "      <td>8804</td>\n",
       "      <td>Brocknie Bray</td>\n",
       "      <td>00:00:00</td>\n",
       "      <td>2019</td>\n",
       "      <td>Half</td>\n",
       "    </tr>\n",
       "    <tr>\n",
       "      <th>89314</th>\n",
       "      <td>99999</td>\n",
       "      <td>8691</td>\n",
       "      <td>Tyler King</td>\n",
       "      <td>00:00:00</td>\n",
       "      <td>2019</td>\n",
       "      <td>Half</td>\n",
       "    </tr>\n",
       "    <tr>\n",
       "      <th>89315</th>\n",
       "      <td>99999</td>\n",
       "      <td>12830</td>\n",
       "      <td>Shannon Schnable</td>\n",
       "      <td>00:00:00</td>\n",
       "      <td>2019</td>\n",
       "      <td>Half</td>\n",
       "    </tr>\n",
       "  </tbody>\n",
       "</table>\n",
       "</div>"
      ],
      "text/plain": [
       "       Overall    Bib              Name      Time  Year Mar_Type\n",
       "89311    99999   6940     Katie Jeffers  00:00:00  2019     Half\n",
       "89312    99999  12755     Anna Phillips  00:00:00  2019     Half\n",
       "89313    99999   8804     Brocknie Bray  00:00:00  2019     Half\n",
       "89314    99999   8691        Tyler King  00:00:00  2019     Half\n",
       "89315    99999  12830  Shannon Schnable  00:00:00  2019     Half"
      ]
     },
     "execution_count": 68,
     "metadata": {},
     "output_type": "execute_result"
    }
   ],
   "source": [
    "only_dnrs.tail()"
   ]
  },
  {
   "cell_type": "code",
   "execution_count": 69,
   "metadata": {},
   "outputs": [
    {
     "data": {
      "text/plain": [
       "5373"
      ]
     },
     "execution_count": 69,
     "metadata": {},
     "output_type": "execute_result"
    }
   ],
   "source": [
    "only_dnrs.Year[only_dnrs.Year == 2016].count()"
   ]
  },
  {
   "cell_type": "code",
   "execution_count": 70,
   "metadata": {},
   "outputs": [
    {
     "data": {
      "text/plain": [
       "5636"
      ]
     },
     "execution_count": 70,
     "metadata": {},
     "output_type": "execute_result"
    }
   ],
   "source": [
    "only_dnrs.Year[only_dnrs.Year == 2017].count()"
   ]
  },
  {
   "cell_type": "code",
   "execution_count": 71,
   "metadata": {},
   "outputs": [
    {
     "data": {
      "text/plain": [
       "8"
      ]
     },
     "execution_count": 71,
     "metadata": {},
     "output_type": "execute_result"
    }
   ],
   "source": [
    "only_dnrs.Year[only_dnrs.Year == 2018].count()"
   ]
  },
  {
   "cell_type": "code",
   "execution_count": 72,
   "metadata": {},
   "outputs": [
    {
     "data": {
      "text/plain": [
       "4316"
      ]
     },
     "execution_count": 72,
     "metadata": {},
     "output_type": "execute_result"
    }
   ],
   "source": [
    "only_dnrs.Year[only_dnrs.Year == 2019].count()"
   ]
  },
  {
   "cell_type": "code",
   "execution_count": 73,
   "metadata": {},
   "outputs": [
    {
     "data": {
      "text/html": [
       "<div>\n",
       "<style scoped>\n",
       "    .dataframe tbody tr th:only-of-type {\n",
       "        vertical-align: middle;\n",
       "    }\n",
       "\n",
       "    .dataframe tbody tr th {\n",
       "        vertical-align: top;\n",
       "    }\n",
       "\n",
       "    .dataframe thead th {\n",
       "        text-align: right;\n",
       "    }\n",
       "</style>\n",
       "<table border=\"1\" class=\"dataframe\">\n",
       "  <thead>\n",
       "    <tr style=\"text-align: right;\">\n",
       "      <th></th>\n",
       "      <th>Overall</th>\n",
       "      <th>Bib</th>\n",
       "      <th>Name</th>\n",
       "      <th>Time</th>\n",
       "      <th>Year</th>\n",
       "    </tr>\n",
       "  </thead>\n",
       "  <tbody>\n",
       "    <tr>\n",
       "      <th>0</th>\n",
       "      <td>1</td>\n",
       "      <td>2</td>\n",
       "      <td>Samuel Golitom Hadgu</td>\n",
       "      <td>02:26:01</td>\n",
       "      <td>2016</td>\n",
       "    </tr>\n",
       "    <tr>\n",
       "      <th>1</th>\n",
       "      <td>2</td>\n",
       "      <td>1015</td>\n",
       "      <td>Jeff Stein</td>\n",
       "      <td>02:31:05</td>\n",
       "      <td>2016</td>\n",
       "    </tr>\n",
       "    <tr>\n",
       "      <th>2</th>\n",
       "      <td>3</td>\n",
       "      <td>1046</td>\n",
       "      <td>Andrew Ivanov</td>\n",
       "      <td>02:32:49</td>\n",
       "      <td>2016</td>\n",
       "    </tr>\n",
       "    <tr>\n",
       "      <th>3</th>\n",
       "      <td>4</td>\n",
       "      <td>1030</td>\n",
       "      <td>Steve Vesbach</td>\n",
       "      <td>02:42:38</td>\n",
       "      <td>2016</td>\n",
       "    </tr>\n",
       "    <tr>\n",
       "      <th>4</th>\n",
       "      <td>5</td>\n",
       "      <td>1158</td>\n",
       "      <td>Alexander Rockhill</td>\n",
       "      <td>02:42:48</td>\n",
       "      <td>2016</td>\n",
       "    </tr>\n",
       "  </tbody>\n",
       "</table>\n",
       "</div>"
      ],
      "text/plain": [
       "   Overall   Bib                  Name      Time  Year\n",
       "0        1     2  Samuel Golitom Hadgu  02:26:01  2016\n",
       "1        2  1015            Jeff Stein  02:31:05  2016\n",
       "2        3  1046         Andrew Ivanov  02:32:49  2016\n",
       "3        4  1030         Steve Vesbach  02:42:38  2016\n",
       "4        5  1158    Alexander Rockhill  02:42:48  2016"
      ]
     },
     "execution_count": 73,
     "metadata": {},
     "output_type": "execute_result"
    }
   ],
   "source": [
    "seattle_full = pd.read_csv('data/seattle_marathons.csv')\n",
    "seattle_full.head()"
   ]
  },
  {
   "cell_type": "code",
   "execution_count": 74,
   "metadata": {},
   "outputs": [
    {
     "data": {
      "text/html": [
       "<div>\n",
       "<style scoped>\n",
       "    .dataframe tbody tr th:only-of-type {\n",
       "        vertical-align: middle;\n",
       "    }\n",
       "\n",
       "    .dataframe tbody tr th {\n",
       "        vertical-align: top;\n",
       "    }\n",
       "\n",
       "    .dataframe thead th {\n",
       "        text-align: right;\n",
       "    }\n",
       "</style>\n",
       "<table border=\"1\" class=\"dataframe\">\n",
       "  <thead>\n",
       "    <tr style=\"text-align: right;\">\n",
       "      <th></th>\n",
       "      <th>Overall</th>\n",
       "      <th>Bib</th>\n",
       "      <th>Name</th>\n",
       "      <th>Time</th>\n",
       "      <th>Year</th>\n",
       "    </tr>\n",
       "  </thead>\n",
       "  <tbody>\n",
       "    <tr>\n",
       "      <th>10605</th>\n",
       "      <td>99999</td>\n",
       "      <td>21250</td>\n",
       "      <td>Paul Filipowicz</td>\n",
       "      <td>00:00:00</td>\n",
       "      <td>2019</td>\n",
       "    </tr>\n",
       "    <tr>\n",
       "      <th>10606</th>\n",
       "      <td>99999</td>\n",
       "      <td>20147</td>\n",
       "      <td>Jacob Onofrio</td>\n",
       "      <td>00:00:00</td>\n",
       "      <td>2019</td>\n",
       "    </tr>\n",
       "    <tr>\n",
       "      <th>10607</th>\n",
       "      <td>99999</td>\n",
       "      <td>22104</td>\n",
       "      <td>Frank Nagore</td>\n",
       "      <td>00:00:00</td>\n",
       "      <td>2019</td>\n",
       "    </tr>\n",
       "    <tr>\n",
       "      <th>10608</th>\n",
       "      <td>99999</td>\n",
       "      <td>21555</td>\n",
       "      <td>Susan Snyder</td>\n",
       "      <td>00:00:00</td>\n",
       "      <td>2019</td>\n",
       "    </tr>\n",
       "    <tr>\n",
       "      <th>10609</th>\n",
       "      <td>99999</td>\n",
       "      <td>21482</td>\n",
       "      <td>Chris Nguyen</td>\n",
       "      <td>00:00:00</td>\n",
       "      <td>2019</td>\n",
       "    </tr>\n",
       "  </tbody>\n",
       "</table>\n",
       "</div>"
      ],
      "text/plain": [
       "       Overall    Bib             Name      Time  Year\n",
       "10605    99999  21250  Paul Filipowicz  00:00:00  2019\n",
       "10606    99999  20147    Jacob Onofrio  00:00:00  2019\n",
       "10607    99999  22104     Frank Nagore  00:00:00  2019\n",
       "10608    99999  21555     Susan Snyder  00:00:00  2019\n",
       "10609    99999  21482     Chris Nguyen  00:00:00  2019"
      ]
     },
     "execution_count": 74,
     "metadata": {},
     "output_type": "execute_result"
    }
   ],
   "source": [
    "arizona_full = pd.read_csv('data/arizona_marathons.csv')\n",
    "arizona_full.tail()"
   ]
  },
  {
   "cell_type": "code",
   "execution_count": 75,
   "metadata": {},
   "outputs": [
    {
     "data": {
      "text/html": [
       "<div>\n",
       "<style scoped>\n",
       "    .dataframe tbody tr th:only-of-type {\n",
       "        vertical-align: middle;\n",
       "    }\n",
       "\n",
       "    .dataframe tbody tr th {\n",
       "        vertical-align: top;\n",
       "    }\n",
       "\n",
       "    .dataframe thead th {\n",
       "        text-align: right;\n",
       "    }\n",
       "</style>\n",
       "<table border=\"1\" class=\"dataframe\">\n",
       "  <thead>\n",
       "    <tr style=\"text-align: right;\">\n",
       "      <th></th>\n",
       "      <th>Overall</th>\n",
       "      <th>Bib</th>\n",
       "      <th>Name</th>\n",
       "      <th>Time</th>\n",
       "      <th>Year</th>\n",
       "    </tr>\n",
       "  </thead>\n",
       "  <tbody>\n",
       "    <tr>\n",
       "      <th>0</th>\n",
       "      <td>1</td>\n",
       "      <td>6067</td>\n",
       "      <td>Alfredo Arevalo Reyes</td>\n",
       "      <td>02:30:04</td>\n",
       "      <td>2016</td>\n",
       "    </tr>\n",
       "    <tr>\n",
       "      <th>1</th>\n",
       "      <td>2</td>\n",
       "      <td>2</td>\n",
       "      <td>Steve Chu</td>\n",
       "      <td>02:34:09</td>\n",
       "      <td>2016</td>\n",
       "    </tr>\n",
       "    <tr>\n",
       "      <th>2</th>\n",
       "      <td>3</td>\n",
       "      <td>1151</td>\n",
       "      <td>Dirian Bonilla</td>\n",
       "      <td>02:37:25</td>\n",
       "      <td>2016</td>\n",
       "    </tr>\n",
       "    <tr>\n",
       "      <th>3</th>\n",
       "      <td>4</td>\n",
       "      <td>1154</td>\n",
       "      <td>Raul Lopez</td>\n",
       "      <td>02:42:14</td>\n",
       "      <td>2016</td>\n",
       "    </tr>\n",
       "    <tr>\n",
       "      <th>4</th>\n",
       "      <td>5</td>\n",
       "      <td>1059</td>\n",
       "      <td>Travis Hawkins</td>\n",
       "      <td>02:43:23</td>\n",
       "      <td>2016</td>\n",
       "    </tr>\n",
       "  </tbody>\n",
       "</table>\n",
       "</div>"
      ],
      "text/plain": [
       "   Overall   Bib                   Name      Time  Year\n",
       "0        1  6067  Alfredo Arevalo Reyes  02:30:04  2016\n",
       "1        2     2              Steve Chu  02:34:09  2016\n",
       "2        3  1151         Dirian Bonilla  02:37:25  2016\n",
       "3        4  1154             Raul Lopez  02:42:14  2016\n",
       "4        5  1059         Travis Hawkins  02:43:23  2016"
      ]
     },
     "execution_count": 75,
     "metadata": {},
     "output_type": "execute_result"
    }
   ],
   "source": [
    "dc_full = pd.read_csv('data/washington_dc_marathons.csv')\n",
    "dc_full.head()"
   ]
  },
  {
   "cell_type": "code",
   "execution_count": 76,
   "metadata": {},
   "outputs": [
    {
     "data": {
      "text/html": [
       "<div>\n",
       "<style scoped>\n",
       "    .dataframe tbody tr th:only-of-type {\n",
       "        vertical-align: middle;\n",
       "    }\n",
       "\n",
       "    .dataframe tbody tr th {\n",
       "        vertical-align: top;\n",
       "    }\n",
       "\n",
       "    .dataframe thead th {\n",
       "        text-align: right;\n",
       "    }\n",
       "</style>\n",
       "<table border=\"1\" class=\"dataframe\">\n",
       "  <thead>\n",
       "    <tr style=\"text-align: right;\">\n",
       "      <th></th>\n",
       "      <th>Overall</th>\n",
       "      <th>Bib</th>\n",
       "      <th>Name</th>\n",
       "      <th>Time</th>\n",
       "      <th>Year</th>\n",
       "    </tr>\n",
       "  </thead>\n",
       "  <tbody>\n",
       "    <tr>\n",
       "      <th>10620</th>\n",
       "      <td>99999</td>\n",
       "      <td>32021</td>\n",
       "      <td>Katherine Orsino</td>\n",
       "      <td>00:00:00</td>\n",
       "      <td>2019</td>\n",
       "    </tr>\n",
       "    <tr>\n",
       "      <th>10621</th>\n",
       "      <td>99999</td>\n",
       "      <td>31558</td>\n",
       "      <td>Michael Kohler</td>\n",
       "      <td>00:00:00</td>\n",
       "      <td>2019</td>\n",
       "    </tr>\n",
       "    <tr>\n",
       "      <th>10622</th>\n",
       "      <td>99999</td>\n",
       "      <td>32072</td>\n",
       "      <td>Melissa Houston</td>\n",
       "      <td>00:00:00</td>\n",
       "      <td>2019</td>\n",
       "    </tr>\n",
       "    <tr>\n",
       "      <th>10623</th>\n",
       "      <td>99999</td>\n",
       "      <td>31349</td>\n",
       "      <td>Karl Kniffin</td>\n",
       "      <td>00:00:00</td>\n",
       "      <td>2019</td>\n",
       "    </tr>\n",
       "    <tr>\n",
       "      <th>10624</th>\n",
       "      <td>99999</td>\n",
       "      <td>32156</td>\n",
       "      <td>Preston Griffin</td>\n",
       "      <td>00:00:00</td>\n",
       "      <td>2019</td>\n",
       "    </tr>\n",
       "  </tbody>\n",
       "</table>\n",
       "</div>"
      ],
      "text/plain": [
       "       Overall    Bib              Name      Time  Year\n",
       "10620    99999  32021  Katherine Orsino  00:00:00  2019\n",
       "10621    99999  31558    Michael Kohler  00:00:00  2019\n",
       "10622    99999  32072   Melissa Houston  00:00:00  2019\n",
       "10623    99999  31349      Karl Kniffin  00:00:00  2019\n",
       "10624    99999  32156   Preston Griffin  00:00:00  2019"
      ]
     },
     "execution_count": 76,
     "metadata": {},
     "output_type": "execute_result"
    }
   ],
   "source": [
    "dc_full.tail()"
   ]
  },
  {
   "cell_type": "code",
   "execution_count": 77,
   "metadata": {},
   "outputs": [
    {
     "name": "stderr",
     "output_type": "stream",
     "text": [
      "C:\\Users\\1saml\\Anaconda3\\lib\\site-packages\\ipykernel_launcher.py:1: SettingWithCopyWarning: \n",
      "A value is trying to be set on a copy of a slice from a DataFrame.\n",
      "Try using .loc[row_indexer,col_indexer] = value instead\n",
      "\n",
      "See the caveats in the documentation: http://pandas.pydata.org/pandas-docs/stable/indexing.html#indexing-view-versus-copy\n",
      "  \"\"\"Entry point for launching an IPython kernel.\n"
     ]
    }
   ],
   "source": [
    "full_with_dnrs['Location'] = 'Nashville'\n",
    "seattle_full['Location'] ='Seattle'\n",
    "dc_full['Location'] = 'DC'\n",
    "arizona_full['Location'] = 'Arizona'"
   ]
  },
  {
   "cell_type": "code",
   "execution_count": 78,
   "metadata": {},
   "outputs": [
    {
     "data": {
      "text/html": [
       "<div>\n",
       "<style scoped>\n",
       "    .dataframe tbody tr th:only-of-type {\n",
       "        vertical-align: middle;\n",
       "    }\n",
       "\n",
       "    .dataframe tbody tr th {\n",
       "        vertical-align: top;\n",
       "    }\n",
       "\n",
       "    .dataframe thead th {\n",
       "        text-align: right;\n",
       "    }\n",
       "</style>\n",
       "<table border=\"1\" class=\"dataframe\">\n",
       "  <thead>\n",
       "    <tr style=\"text-align: right;\">\n",
       "      <th></th>\n",
       "      <th>Overall</th>\n",
       "      <th>Bib</th>\n",
       "      <th>Name</th>\n",
       "      <th>Time</th>\n",
       "      <th>Year</th>\n",
       "      <th>Mar_Type</th>\n",
       "      <th>Location</th>\n",
       "    </tr>\n",
       "  </thead>\n",
       "  <tbody>\n",
       "    <tr>\n",
       "      <th>0</th>\n",
       "      <td>1</td>\n",
       "      <td>1</td>\n",
       "      <td>Scott Wietecha</td>\n",
       "      <td>02:25:42</td>\n",
       "      <td>2016</td>\n",
       "      <td>Full</td>\n",
       "      <td>Nashville</td>\n",
       "    </tr>\n",
       "    <tr>\n",
       "      <th>1</th>\n",
       "      <td>2</td>\n",
       "      <td>3</td>\n",
       "      <td>Brian Shelton</td>\n",
       "      <td>02:34:43</td>\n",
       "      <td>2016</td>\n",
       "      <td>Full</td>\n",
       "      <td>Nashville</td>\n",
       "    </tr>\n",
       "    <tr>\n",
       "      <th>2</th>\n",
       "      <td>3</td>\n",
       "      <td>1047</td>\n",
       "      <td>Christopher Capps</td>\n",
       "      <td>02:38:43</td>\n",
       "      <td>2016</td>\n",
       "      <td>Full</td>\n",
       "      <td>Nashville</td>\n",
       "    </tr>\n",
       "    <tr>\n",
       "      <th>3</th>\n",
       "      <td>4</td>\n",
       "      <td>1052</td>\n",
       "      <td>Jason Grimes</td>\n",
       "      <td>02:45:06</td>\n",
       "      <td>2016</td>\n",
       "      <td>Full</td>\n",
       "      <td>Nashville</td>\n",
       "    </tr>\n",
       "    <tr>\n",
       "      <th>4</th>\n",
       "      <td>5</td>\n",
       "      <td>1046</td>\n",
       "      <td>David Adams</td>\n",
       "      <td>02:47:28</td>\n",
       "      <td>2016</td>\n",
       "      <td>Full</td>\n",
       "      <td>Nashville</td>\n",
       "    </tr>\n",
       "  </tbody>\n",
       "</table>\n",
       "</div>"
      ],
      "text/plain": [
       "   Overall   Bib               Name      Time  Year Mar_Type   Location\n",
       "0        1     1     Scott Wietecha  02:25:42  2016     Full  Nashville\n",
       "1        2     3      Brian Shelton  02:34:43  2016     Full  Nashville\n",
       "2        3  1047  Christopher Capps  02:38:43  2016     Full  Nashville\n",
       "3        4  1052       Jason Grimes  02:45:06  2016     Full  Nashville\n",
       "4        5  1046        David Adams  02:47:28  2016     Full  Nashville"
      ]
     },
     "execution_count": 78,
     "metadata": {},
     "output_type": "execute_result"
    }
   ],
   "source": [
    "full_with_dnrs.head()"
   ]
  },
  {
   "cell_type": "code",
   "execution_count": 79,
   "metadata": {},
   "outputs": [
    {
     "data": {
      "text/html": [
       "<div>\n",
       "<style scoped>\n",
       "    .dataframe tbody tr th:only-of-type {\n",
       "        vertical-align: middle;\n",
       "    }\n",
       "\n",
       "    .dataframe tbody tr th {\n",
       "        vertical-align: top;\n",
       "    }\n",
       "\n",
       "    .dataframe thead th {\n",
       "        text-align: right;\n",
       "    }\n",
       "</style>\n",
       "<table border=\"1\" class=\"dataframe\">\n",
       "  <thead>\n",
       "    <tr style=\"text-align: right;\">\n",
       "      <th></th>\n",
       "      <th>Overall</th>\n",
       "      <th>Bib</th>\n",
       "      <th>Name</th>\n",
       "      <th>Time</th>\n",
       "      <th>Year</th>\n",
       "      <th>Mar_Type</th>\n",
       "      <th>Location</th>\n",
       "    </tr>\n",
       "  </thead>\n",
       "  <tbody>\n",
       "    <tr>\n",
       "      <th>12414</th>\n",
       "      <td>99999</td>\n",
       "      <td>32005</td>\n",
       "      <td>Brittany Small</td>\n",
       "      <td>00:00:00</td>\n",
       "      <td>2019</td>\n",
       "      <td>Full</td>\n",
       "      <td>Nashville</td>\n",
       "    </tr>\n",
       "    <tr>\n",
       "      <th>12415</th>\n",
       "      <td>99999</td>\n",
       "      <td>32762</td>\n",
       "      <td>Jacqueline Johnson</td>\n",
       "      <td>00:00:00</td>\n",
       "      <td>2019</td>\n",
       "      <td>Full</td>\n",
       "      <td>Nashville</td>\n",
       "    </tr>\n",
       "    <tr>\n",
       "      <th>12416</th>\n",
       "      <td>99999</td>\n",
       "      <td>30304</td>\n",
       "      <td>Kevin Fox</td>\n",
       "      <td>00:00:00</td>\n",
       "      <td>2019</td>\n",
       "      <td>Full</td>\n",
       "      <td>Nashville</td>\n",
       "    </tr>\n",
       "    <tr>\n",
       "      <th>12417</th>\n",
       "      <td>99999</td>\n",
       "      <td>32183</td>\n",
       "      <td>Clarisa Horton</td>\n",
       "      <td>00:00:00</td>\n",
       "      <td>2019</td>\n",
       "      <td>Full</td>\n",
       "      <td>Nashville</td>\n",
       "    </tr>\n",
       "    <tr>\n",
       "      <th>12418</th>\n",
       "      <td>99999</td>\n",
       "      <td>32258</td>\n",
       "      <td>Krista Zanetti</td>\n",
       "      <td>00:00:00</td>\n",
       "      <td>2019</td>\n",
       "      <td>Full</td>\n",
       "      <td>Nashville</td>\n",
       "    </tr>\n",
       "  </tbody>\n",
       "</table>\n",
       "</div>"
      ],
      "text/plain": [
       "       Overall    Bib                Name      Time  Year Mar_Type   Location\n",
       "12414    99999  32005      Brittany Small  00:00:00  2019     Full  Nashville\n",
       "12415    99999  32762  Jacqueline Johnson  00:00:00  2019     Full  Nashville\n",
       "12416    99999  30304           Kevin Fox  00:00:00  2019     Full  Nashville\n",
       "12417    99999  32183      Clarisa Horton  00:00:00  2019     Full  Nashville\n",
       "12418    99999  32258      Krista Zanetti  00:00:00  2019     Full  Nashville"
      ]
     },
     "execution_count": 79,
     "metadata": {},
     "output_type": "execute_result"
    }
   ],
   "source": [
    "full_with_dnrs.tail()"
   ]
  },
  {
   "cell_type": "code",
   "execution_count": 80,
   "metadata": {},
   "outputs": [
    {
     "data": {
      "text/html": [
       "<div>\n",
       "<style scoped>\n",
       "    .dataframe tbody tr th:only-of-type {\n",
       "        vertical-align: middle;\n",
       "    }\n",
       "\n",
       "    .dataframe tbody tr th {\n",
       "        vertical-align: top;\n",
       "    }\n",
       "\n",
       "    .dataframe thead th {\n",
       "        text-align: right;\n",
       "    }\n",
       "</style>\n",
       "<table border=\"1\" class=\"dataframe\">\n",
       "  <thead>\n",
       "    <tr style=\"text-align: right;\">\n",
       "      <th></th>\n",
       "      <th>Overall</th>\n",
       "      <th>Bib</th>\n",
       "      <th>Name</th>\n",
       "      <th>Time</th>\n",
       "      <th>Year</th>\n",
       "      <th>Location</th>\n",
       "    </tr>\n",
       "  </thead>\n",
       "  <tbody>\n",
       "    <tr>\n",
       "      <th>0</th>\n",
       "      <td>1</td>\n",
       "      <td>1</td>\n",
       "      <td>Scott Wietecha</td>\n",
       "      <td>02:25:42</td>\n",
       "      <td>2016</td>\n",
       "      <td>Nashville</td>\n",
       "    </tr>\n",
       "    <tr>\n",
       "      <th>1</th>\n",
       "      <td>2</td>\n",
       "      <td>3</td>\n",
       "      <td>Brian Shelton</td>\n",
       "      <td>02:34:43</td>\n",
       "      <td>2016</td>\n",
       "      <td>Nashville</td>\n",
       "    </tr>\n",
       "    <tr>\n",
       "      <th>2</th>\n",
       "      <td>3</td>\n",
       "      <td>1047</td>\n",
       "      <td>Christopher Capps</td>\n",
       "      <td>02:38:43</td>\n",
       "      <td>2016</td>\n",
       "      <td>Nashville</td>\n",
       "    </tr>\n",
       "    <tr>\n",
       "      <th>3</th>\n",
       "      <td>4</td>\n",
       "      <td>1052</td>\n",
       "      <td>Jason Grimes</td>\n",
       "      <td>02:45:06</td>\n",
       "      <td>2016</td>\n",
       "      <td>Nashville</td>\n",
       "    </tr>\n",
       "    <tr>\n",
       "      <th>4</th>\n",
       "      <td>5</td>\n",
       "      <td>1046</td>\n",
       "      <td>David Adams</td>\n",
       "      <td>02:47:28</td>\n",
       "      <td>2016</td>\n",
       "      <td>Nashville</td>\n",
       "    </tr>\n",
       "  </tbody>\n",
       "</table>\n",
       "</div>"
      ],
      "text/plain": [
       "   Overall   Bib               Name      Time  Year   Location\n",
       "0        1     1     Scott Wietecha  02:25:42  2016  Nashville\n",
       "1        2     3      Brian Shelton  02:34:43  2016  Nashville\n",
       "2        3  1047  Christopher Capps  02:38:43  2016  Nashville\n",
       "3        4  1052       Jason Grimes  02:45:06  2016  Nashville\n",
       "4        5  1046        David Adams  02:47:28  2016  Nashville"
      ]
     },
     "execution_count": 80,
     "metadata": {},
     "output_type": "execute_result"
    }
   ],
   "source": [
    "nashville_full = full_with_dnrs.drop(columns = 'Mar_Type')\n",
    "nashville_full.head()"
   ]
  },
  {
   "cell_type": "code",
   "execution_count": 81,
   "metadata": {},
   "outputs": [
    {
     "data": {
      "text/html": [
       "<div>\n",
       "<style scoped>\n",
       "    .dataframe tbody tr th:only-of-type {\n",
       "        vertical-align: middle;\n",
       "    }\n",
       "\n",
       "    .dataframe tbody tr th {\n",
       "        vertical-align: top;\n",
       "    }\n",
       "\n",
       "    .dataframe thead th {\n",
       "        text-align: right;\n",
       "    }\n",
       "</style>\n",
       "<table border=\"1\" class=\"dataframe\">\n",
       "  <thead>\n",
       "    <tr style=\"text-align: right;\">\n",
       "      <th></th>\n",
       "      <th>Overall</th>\n",
       "      <th>Bib</th>\n",
       "      <th>Name</th>\n",
       "      <th>Time</th>\n",
       "      <th>Year</th>\n",
       "      <th>Location</th>\n",
       "    </tr>\n",
       "  </thead>\n",
       "  <tbody>\n",
       "    <tr>\n",
       "      <th>0</th>\n",
       "      <td>1</td>\n",
       "      <td>6067</td>\n",
       "      <td>Alfredo Arevalo Reyes</td>\n",
       "      <td>02:30:04</td>\n",
       "      <td>2016</td>\n",
       "      <td>DC</td>\n",
       "    </tr>\n",
       "    <tr>\n",
       "      <th>1</th>\n",
       "      <td>2</td>\n",
       "      <td>2</td>\n",
       "      <td>Steve Chu</td>\n",
       "      <td>02:34:09</td>\n",
       "      <td>2016</td>\n",
       "      <td>DC</td>\n",
       "    </tr>\n",
       "  </tbody>\n",
       "</table>\n",
       "</div>"
      ],
      "text/plain": [
       "   Overall   Bib                   Name      Time  Year Location\n",
       "0        1  6067  Alfredo Arevalo Reyes  02:30:04  2016       DC\n",
       "1        2     2              Steve Chu  02:34:09  2016       DC"
      ]
     },
     "execution_count": 81,
     "metadata": {},
     "output_type": "execute_result"
    }
   ],
   "source": [
    "dc_full.head(2)"
   ]
  },
  {
   "cell_type": "code",
   "execution_count": 82,
   "metadata": {},
   "outputs": [
    {
     "data": {
      "text/html": [
       "<div>\n",
       "<style scoped>\n",
       "    .dataframe tbody tr th:only-of-type {\n",
       "        vertical-align: middle;\n",
       "    }\n",
       "\n",
       "    .dataframe tbody tr th {\n",
       "        vertical-align: top;\n",
       "    }\n",
       "\n",
       "    .dataframe thead th {\n",
       "        text-align: right;\n",
       "    }\n",
       "</style>\n",
       "<table border=\"1\" class=\"dataframe\">\n",
       "  <thead>\n",
       "    <tr style=\"text-align: right;\">\n",
       "      <th></th>\n",
       "      <th>Overall</th>\n",
       "      <th>Bib</th>\n",
       "      <th>Name</th>\n",
       "      <th>Time</th>\n",
       "      <th>Year</th>\n",
       "      <th>Location</th>\n",
       "    </tr>\n",
       "  </thead>\n",
       "  <tbody>\n",
       "    <tr>\n",
       "      <th>0</th>\n",
       "      <td>1</td>\n",
       "      <td>2</td>\n",
       "      <td>Samuel Golitom Hadgu</td>\n",
       "      <td>02:26:01</td>\n",
       "      <td>2016</td>\n",
       "      <td>Seattle</td>\n",
       "    </tr>\n",
       "    <tr>\n",
       "      <th>1</th>\n",
       "      <td>2</td>\n",
       "      <td>1015</td>\n",
       "      <td>Jeff Stein</td>\n",
       "      <td>02:31:05</td>\n",
       "      <td>2016</td>\n",
       "      <td>Seattle</td>\n",
       "    </tr>\n",
       "  </tbody>\n",
       "</table>\n",
       "</div>"
      ],
      "text/plain": [
       "   Overall   Bib                  Name      Time  Year Location\n",
       "0        1     2  Samuel Golitom Hadgu  02:26:01  2016  Seattle\n",
       "1        2  1015            Jeff Stein  02:31:05  2016  Seattle"
      ]
     },
     "execution_count": 82,
     "metadata": {},
     "output_type": "execute_result"
    }
   ],
   "source": [
    "seattle_full.head(2)"
   ]
  },
  {
   "cell_type": "code",
   "execution_count": 83,
   "metadata": {},
   "outputs": [
    {
     "data": {
      "text/html": [
       "<div>\n",
       "<style scoped>\n",
       "    .dataframe tbody tr th:only-of-type {\n",
       "        vertical-align: middle;\n",
       "    }\n",
       "\n",
       "    .dataframe tbody tr th {\n",
       "        vertical-align: top;\n",
       "    }\n",
       "\n",
       "    .dataframe thead th {\n",
       "        text-align: right;\n",
       "    }\n",
       "</style>\n",
       "<table border=\"1\" class=\"dataframe\">\n",
       "  <thead>\n",
       "    <tr style=\"text-align: right;\">\n",
       "      <th></th>\n",
       "      <th>Overall</th>\n",
       "      <th>Bib</th>\n",
       "      <th>Name</th>\n",
       "      <th>Time</th>\n",
       "      <th>Year</th>\n",
       "      <th>Location</th>\n",
       "    </tr>\n",
       "  </thead>\n",
       "  <tbody>\n",
       "    <tr>\n",
       "      <th>0</th>\n",
       "      <td>1</td>\n",
       "      <td>57037</td>\n",
       "      <td>Gerald Blanchard</td>\n",
       "      <td>00:35:50</td>\n",
       "      <td>2016</td>\n",
       "      <td>Arizona</td>\n",
       "    </tr>\n",
       "    <tr>\n",
       "      <th>1</th>\n",
       "      <td>1</td>\n",
       "      <td>51409</td>\n",
       "      <td>Corey Petersen</td>\n",
       "      <td>02:27:18</td>\n",
       "      <td>2016</td>\n",
       "      <td>Arizona</td>\n",
       "    </tr>\n",
       "  </tbody>\n",
       "</table>\n",
       "</div>"
      ],
      "text/plain": [
       "   Overall    Bib              Name      Time  Year Location\n",
       "0        1  57037  Gerald Blanchard  00:35:50  2016  Arizona\n",
       "1        1  51409    Corey Petersen  02:27:18  2016  Arizona"
      ]
     },
     "execution_count": 83,
     "metadata": {},
     "output_type": "execute_result"
    }
   ],
   "source": [
    "arizona_full.head(2)"
   ]
  },
  {
   "cell_type": "code",
   "execution_count": 84,
   "metadata": {},
   "outputs": [],
   "source": [
    "national_marathons = pd.concat([nashville_full, dc_full, seattle_full, arizona_full])"
   ]
  },
  {
   "cell_type": "code",
   "execution_count": 85,
   "metadata": {},
   "outputs": [
    {
     "data": {
      "text/plain": [
       "(44507, 6)"
      ]
     },
     "execution_count": 85,
     "metadata": {},
     "output_type": "execute_result"
    }
   ],
   "source": [
    "national_marathons.shape"
   ]
  },
  {
   "cell_type": "code",
   "execution_count": 86,
   "metadata": {},
   "outputs": [
    {
     "data": {
      "text/plain": [
       "Nashville    12419\n",
       "Seattle      10853\n",
       "DC           10625\n",
       "Arizona      10610\n",
       "Name: Location, dtype: int64"
      ]
     },
     "execution_count": 86,
     "metadata": {},
     "output_type": "execute_result"
    }
   ],
   "source": [
    "national_marathons.Location.value_counts()"
   ]
  },
  {
   "cell_type": "code",
   "execution_count": 87,
   "metadata": {},
   "outputs": [
    {
     "name": "stdout",
     "output_type": "stream",
     "text": [
      "<class 'pandas.core.frame.DataFrame'>\n",
      "Int64Index: 44507 entries, 0 to 10609\n",
      "Data columns (total 6 columns):\n",
      "Overall     44507 non-null int64\n",
      "Bib         44507 non-null int64\n",
      "Name        44507 non-null object\n",
      "Time        44507 non-null object\n",
      "Year        44507 non-null int64\n",
      "Location    44507 non-null object\n",
      "dtypes: int64(3), object(3)\n",
      "memory usage: 2.4+ MB\n"
     ]
    }
   ],
   "source": [
    "national_marathons.info()"
   ]
  },
  {
   "cell_type": "code",
   "execution_count": 88,
   "metadata": {},
   "outputs": [],
   "source": [
    "national_marathons = national_marathons.astype({'Location':'category'})"
   ]
  },
  {
   "cell_type": "code",
   "execution_count": 89,
   "metadata": {},
   "outputs": [
    {
     "data": {
      "text/html": [
       "<div>\n",
       "<style scoped>\n",
       "    .dataframe tbody tr th:only-of-type {\n",
       "        vertical-align: middle;\n",
       "    }\n",
       "\n",
       "    .dataframe tbody tr th {\n",
       "        vertical-align: top;\n",
       "    }\n",
       "\n",
       "    .dataframe thead th {\n",
       "        text-align: right;\n",
       "    }\n",
       "</style>\n",
       "<table border=\"1\" class=\"dataframe\">\n",
       "  <thead>\n",
       "    <tr style=\"text-align: right;\">\n",
       "      <th></th>\n",
       "      <th>Overall</th>\n",
       "      <th>Bib</th>\n",
       "      <th>Name</th>\n",
       "      <th>Time</th>\n",
       "      <th>Year</th>\n",
       "      <th>Location</th>\n",
       "    </tr>\n",
       "  </thead>\n",
       "  <tbody>\n",
       "    <tr>\n",
       "      <th>0</th>\n",
       "      <td>1</td>\n",
       "      <td>1</td>\n",
       "      <td>Scott Wietecha</td>\n",
       "      <td>02:25:42</td>\n",
       "      <td>2016</td>\n",
       "      <td>Nashville</td>\n",
       "    </tr>\n",
       "    <tr>\n",
       "      <th>1</th>\n",
       "      <td>2</td>\n",
       "      <td>3</td>\n",
       "      <td>Brian Shelton</td>\n",
       "      <td>02:34:43</td>\n",
       "      <td>2016</td>\n",
       "      <td>Nashville</td>\n",
       "    </tr>\n",
       "    <tr>\n",
       "      <th>2</th>\n",
       "      <td>3</td>\n",
       "      <td>1047</td>\n",
       "      <td>Christopher Capps</td>\n",
       "      <td>02:38:43</td>\n",
       "      <td>2016</td>\n",
       "      <td>Nashville</td>\n",
       "    </tr>\n",
       "    <tr>\n",
       "      <th>3</th>\n",
       "      <td>4</td>\n",
       "      <td>1052</td>\n",
       "      <td>Jason Grimes</td>\n",
       "      <td>02:45:06</td>\n",
       "      <td>2016</td>\n",
       "      <td>Nashville</td>\n",
       "    </tr>\n",
       "    <tr>\n",
       "      <th>4</th>\n",
       "      <td>5</td>\n",
       "      <td>1046</td>\n",
       "      <td>David Adams</td>\n",
       "      <td>02:47:28</td>\n",
       "      <td>2016</td>\n",
       "      <td>Nashville</td>\n",
       "    </tr>\n",
       "  </tbody>\n",
       "</table>\n",
       "</div>"
      ],
      "text/plain": [
       "   Overall   Bib               Name      Time  Year   Location\n",
       "0        1     1     Scott Wietecha  02:25:42  2016  Nashville\n",
       "1        2     3      Brian Shelton  02:34:43  2016  Nashville\n",
       "2        3  1047  Christopher Capps  02:38:43  2016  Nashville\n",
       "3        4  1052       Jason Grimes  02:45:06  2016  Nashville\n",
       "4        5  1046        David Adams  02:47:28  2016  Nashville"
      ]
     },
     "execution_count": 89,
     "metadata": {},
     "output_type": "execute_result"
    }
   ],
   "source": [
    "national_marathons.head()"
   ]
  },
  {
   "cell_type": "code",
   "execution_count": 90,
   "metadata": {},
   "outputs": [
    {
     "name": "stdout",
     "output_type": "stream",
     "text": [
      "<class 'pandas.core.frame.DataFrame'>\n",
      "Int64Index: 44507 entries, 0 to 10609\n",
      "Data columns (total 6 columns):\n",
      "Overall     44507 non-null int64\n",
      "Bib         44507 non-null int64\n",
      "Name        44507 non-null object\n",
      "Time        44507 non-null object\n",
      "Year        44507 non-null int64\n",
      "Location    44507 non-null category\n",
      "dtypes: category(1), int64(3), object(2)\n",
      "memory usage: 2.1+ MB\n"
     ]
    }
   ],
   "source": [
    "national_marathons.info()"
   ]
  },
  {
   "cell_type": "code",
   "execution_count": 91,
   "metadata": {},
   "outputs": [
    {
     "data": {
      "text/html": [
       "<div>\n",
       "<style scoped>\n",
       "    .dataframe tbody tr th:only-of-type {\n",
       "        vertical-align: middle;\n",
       "    }\n",
       "\n",
       "    .dataframe tbody tr th {\n",
       "        vertical-align: top;\n",
       "    }\n",
       "\n",
       "    .dataframe thead th {\n",
       "        text-align: right;\n",
       "    }\n",
       "</style>\n",
       "<table border=\"1\" class=\"dataframe\">\n",
       "  <thead>\n",
       "    <tr style=\"text-align: right;\">\n",
       "      <th></th>\n",
       "      <th>Overall</th>\n",
       "      <th>Bib</th>\n",
       "      <th>Name</th>\n",
       "      <th>Time</th>\n",
       "      <th>Year</th>\n",
       "      <th>Location</th>\n",
       "    </tr>\n",
       "  </thead>\n",
       "  <tbody>\n",
       "    <tr>\n",
       "      <th>10605</th>\n",
       "      <td>99999</td>\n",
       "      <td>21250</td>\n",
       "      <td>Paul Filipowicz</td>\n",
       "      <td>00:00:00</td>\n",
       "      <td>2019</td>\n",
       "      <td>Arizona</td>\n",
       "    </tr>\n",
       "    <tr>\n",
       "      <th>10606</th>\n",
       "      <td>99999</td>\n",
       "      <td>20147</td>\n",
       "      <td>Jacob Onofrio</td>\n",
       "      <td>00:00:00</td>\n",
       "      <td>2019</td>\n",
       "      <td>Arizona</td>\n",
       "    </tr>\n",
       "    <tr>\n",
       "      <th>10607</th>\n",
       "      <td>99999</td>\n",
       "      <td>22104</td>\n",
       "      <td>Frank Nagore</td>\n",
       "      <td>00:00:00</td>\n",
       "      <td>2019</td>\n",
       "      <td>Arizona</td>\n",
       "    </tr>\n",
       "    <tr>\n",
       "      <th>10608</th>\n",
       "      <td>99999</td>\n",
       "      <td>21555</td>\n",
       "      <td>Susan Snyder</td>\n",
       "      <td>00:00:00</td>\n",
       "      <td>2019</td>\n",
       "      <td>Arizona</td>\n",
       "    </tr>\n",
       "    <tr>\n",
       "      <th>10609</th>\n",
       "      <td>99999</td>\n",
       "      <td>21482</td>\n",
       "      <td>Chris Nguyen</td>\n",
       "      <td>00:00:00</td>\n",
       "      <td>2019</td>\n",
       "      <td>Arizona</td>\n",
       "    </tr>\n",
       "  </tbody>\n",
       "</table>\n",
       "</div>"
      ],
      "text/plain": [
       "       Overall    Bib             Name      Time  Year Location\n",
       "10605    99999  21250  Paul Filipowicz  00:00:00  2019  Arizona\n",
       "10606    99999  20147    Jacob Onofrio  00:00:00  2019  Arizona\n",
       "10607    99999  22104     Frank Nagore  00:00:00  2019  Arizona\n",
       "10608    99999  21555     Susan Snyder  00:00:00  2019  Arizona\n",
       "10609    99999  21482     Chris Nguyen  00:00:00  2019  Arizona"
      ]
     },
     "execution_count": 91,
     "metadata": {},
     "output_type": "execute_result"
    }
   ],
   "source": [
    "national_marathons.tail()"
   ]
  },
  {
   "cell_type": "code",
   "execution_count": 92,
   "metadata": {},
   "outputs": [],
   "source": [
    "years = [2016, 2017, 2018, 2019]\n",
    "locations = ['Nashville', 'DC', 'Seattle', 'Arizona']"
   ]
  },
  {
   "cell_type": "code",
   "execution_count": 93,
   "metadata": {},
   "outputs": [
    {
     "data": {
      "text/plain": [
       "00:00:00    9611\n",
       "04:58:38      15\n",
       "04:44:07      13\n",
       "04:54:37      12\n",
       "04:34:58      12\n",
       "04:26:54      12\n",
       "03:58:51      12\n",
       "04:47:31      12\n",
       "03:53:34      11\n",
       "04:06:00      11\n",
       "04:24:14      11\n",
       "03:58:19      11\n",
       "04:47:29      11\n",
       "04:28:43      11\n",
       "04:32:06      11\n",
       "03:55:08      11\n",
       "04:07:35      11\n",
       "04:53:15      11\n",
       "04:33:07      11\n",
       "04:30:10      11\n",
       "04:28:36      11\n",
       "04:49:09      11\n",
       "04:35:07      11\n",
       "04:26:58      10\n",
       "04:46:41      10\n",
       "04:44:37      10\n",
       "04:53:04      10\n",
       "03:59:38      10\n",
       "03:54:17      10\n",
       "04:38:17      10\n",
       "            ... \n",
       "03:09:41       1\n",
       "03:42:11       1\n",
       "05:14:53       1\n",
       "04:13:11       1\n",
       "06:40:18       1\n",
       "02:50:05       1\n",
       "03:25:06       1\n",
       "05:37:41       1\n",
       "05:20:54       1\n",
       "04:36:33       1\n",
       "05:50:59       1\n",
       "02:59:42       1\n",
       "05:00:12       1\n",
       "06:32:39       1\n",
       "05:15:04       1\n",
       "02:30:40       1\n",
       "05:52:53       1\n",
       "06:27:43       1\n",
       "02:56:38       1\n",
       "06:10:12       1\n",
       "06:37:24       1\n",
       "03:27:40       1\n",
       "03:40:27       1\n",
       "05:54:07       1\n",
       "03:17:26       1\n",
       "03:40:02       1\n",
       "05:04:43       1\n",
       "03:10:33       1\n",
       "05:57:14       1\n",
       "04:54:11       1\n",
       "Name: Time, Length: 11486, dtype: int64"
      ]
     },
     "execution_count": 93,
     "metadata": {},
     "output_type": "execute_result"
    }
   ],
   "source": [
    "national_marathons.Time.value_counts()"
   ]
  },
  {
   "cell_type": "code",
   "execution_count": 94,
   "metadata": {},
   "outputs": [],
   "source": [
    "national_marathons = national_marathons[national_marathons.Time != '00:00:00']"
   ]
  },
  {
   "cell_type": "code",
   "execution_count": 95,
   "metadata": {},
   "outputs": [
    {
     "data": {
      "text/html": [
       "<div>\n",
       "<style scoped>\n",
       "    .dataframe tbody tr th:only-of-type {\n",
       "        vertical-align: middle;\n",
       "    }\n",
       "\n",
       "    .dataframe tbody tr th {\n",
       "        vertical-align: top;\n",
       "    }\n",
       "\n",
       "    .dataframe thead th {\n",
       "        text-align: right;\n",
       "    }\n",
       "</style>\n",
       "<table border=\"1\" class=\"dataframe\">\n",
       "  <thead>\n",
       "    <tr style=\"text-align: right;\">\n",
       "      <th></th>\n",
       "      <th>Overall</th>\n",
       "      <th>Bib</th>\n",
       "      <th>Name</th>\n",
       "      <th>Time</th>\n",
       "      <th>Year</th>\n",
       "      <th>Location</th>\n",
       "    </tr>\n",
       "  </thead>\n",
       "  <tbody>\n",
       "    <tr>\n",
       "      <th>0</th>\n",
       "      <td>1</td>\n",
       "      <td>1</td>\n",
       "      <td>Scott Wietecha</td>\n",
       "      <td>02:25:42</td>\n",
       "      <td>2016</td>\n",
       "      <td>Nashville</td>\n",
       "    </tr>\n",
       "    <tr>\n",
       "      <th>1</th>\n",
       "      <td>2</td>\n",
       "      <td>3</td>\n",
       "      <td>Brian Shelton</td>\n",
       "      <td>02:34:43</td>\n",
       "      <td>2016</td>\n",
       "      <td>Nashville</td>\n",
       "    </tr>\n",
       "    <tr>\n",
       "      <th>2</th>\n",
       "      <td>3</td>\n",
       "      <td>1047</td>\n",
       "      <td>Christopher Capps</td>\n",
       "      <td>02:38:43</td>\n",
       "      <td>2016</td>\n",
       "      <td>Nashville</td>\n",
       "    </tr>\n",
       "    <tr>\n",
       "      <th>3</th>\n",
       "      <td>4</td>\n",
       "      <td>1052</td>\n",
       "      <td>Jason Grimes</td>\n",
       "      <td>02:45:06</td>\n",
       "      <td>2016</td>\n",
       "      <td>Nashville</td>\n",
       "    </tr>\n",
       "    <tr>\n",
       "      <th>4</th>\n",
       "      <td>5</td>\n",
       "      <td>1046</td>\n",
       "      <td>David Adams</td>\n",
       "      <td>02:47:28</td>\n",
       "      <td>2016</td>\n",
       "      <td>Nashville</td>\n",
       "    </tr>\n",
       "  </tbody>\n",
       "</table>\n",
       "</div>"
      ],
      "text/plain": [
       "   Overall   Bib               Name      Time  Year   Location\n",
       "0        1     1     Scott Wietecha  02:25:42  2016  Nashville\n",
       "1        2     3      Brian Shelton  02:34:43  2016  Nashville\n",
       "2        3  1047  Christopher Capps  02:38:43  2016  Nashville\n",
       "3        4  1052       Jason Grimes  02:45:06  2016  Nashville\n",
       "4        5  1046        David Adams  02:47:28  2016  Nashville"
      ]
     },
     "execution_count": 95,
     "metadata": {},
     "output_type": "execute_result"
    }
   ],
   "source": [
    "national_marathons.head()"
   ]
  },
  {
   "cell_type": "code",
   "execution_count": 96,
   "metadata": {},
   "outputs": [
    {
     "data": {
      "text/plain": [
       "04:58:38    15\n",
       "04:44:07    13\n",
       "04:34:58    12\n",
       "04:47:31    12\n",
       "04:54:37    12\n",
       "04:26:54    12\n",
       "03:58:51    12\n",
       "04:30:10    11\n",
       "04:06:00    11\n",
       "04:49:09    11\n",
       "04:47:29    11\n",
       "04:32:06    11\n",
       "04:35:07    11\n",
       "04:33:07    11\n",
       "04:24:14    11\n",
       "03:53:34    11\n",
       "03:58:19    11\n",
       "04:28:43    11\n",
       "03:55:08    11\n",
       "04:28:36    11\n",
       "04:53:15    11\n",
       "04:07:35    11\n",
       "04:16:11    10\n",
       "04:33:37    10\n",
       "04:53:04    10\n",
       "04:36:34    10\n",
       "03:54:17    10\n",
       "04:38:17    10\n",
       "03:58:41    10\n",
       "04:44:37    10\n",
       "            ..\n",
       "02:56:11     1\n",
       "03:57:28     1\n",
       "06:32:19     1\n",
       "03:56:32     1\n",
       "06:00:22     1\n",
       "06:53:58     1\n",
       "03:06:57     1\n",
       "06:10:12     1\n",
       "02:39:02     1\n",
       "06:20:04     1\n",
       "06:18:21     1\n",
       "03:01:58     1\n",
       "02:55:54     1\n",
       "04:08:16     1\n",
       "03:45:33     1\n",
       "06:34:27     1\n",
       "04:57:45     1\n",
       "06:28:06     1\n",
       "02:31:30     1\n",
       "05:20:54     1\n",
       "06:15:08     1\n",
       "05:50:59     1\n",
       "06:17:35     1\n",
       "06:21:10     1\n",
       "05:06:33     1\n",
       "03:12:38     1\n",
       "02:30:40     1\n",
       "06:27:43     1\n",
       "02:56:38     1\n",
       "06:43:05     1\n",
       "Name: Time, Length: 11485, dtype: int64"
      ]
     },
     "execution_count": 96,
     "metadata": {},
     "output_type": "execute_result"
    }
   ],
   "source": [
    "national_marathons.Time.value_counts()"
   ]
  },
  {
   "cell_type": "code",
   "execution_count": 97,
   "metadata": {},
   "outputs": [],
   "source": [
    "national_marathons.Time =  pd.to_datetime(national_marathons.Time).dt.time"
   ]
  },
  {
   "cell_type": "code",
   "execution_count": 98,
   "metadata": {},
   "outputs": [
    {
     "data": {
      "text/html": [
       "<div>\n",
       "<style scoped>\n",
       "    .dataframe tbody tr th:only-of-type {\n",
       "        vertical-align: middle;\n",
       "    }\n",
       "\n",
       "    .dataframe tbody tr th {\n",
       "        vertical-align: top;\n",
       "    }\n",
       "\n",
       "    .dataframe thead th {\n",
       "        text-align: right;\n",
       "    }\n",
       "</style>\n",
       "<table border=\"1\" class=\"dataframe\">\n",
       "  <thead>\n",
       "    <tr style=\"text-align: right;\">\n",
       "      <th></th>\n",
       "      <th>Overall</th>\n",
       "      <th>Bib</th>\n",
       "      <th>Name</th>\n",
       "      <th>Time</th>\n",
       "      <th>Year</th>\n",
       "      <th>Location</th>\n",
       "    </tr>\n",
       "  </thead>\n",
       "  <tbody>\n",
       "    <tr>\n",
       "      <th>0</th>\n",
       "      <td>1</td>\n",
       "      <td>1</td>\n",
       "      <td>Scott Wietecha</td>\n",
       "      <td>02:25:42</td>\n",
       "      <td>2016</td>\n",
       "      <td>Nashville</td>\n",
       "    </tr>\n",
       "    <tr>\n",
       "      <th>1</th>\n",
       "      <td>2</td>\n",
       "      <td>3</td>\n",
       "      <td>Brian Shelton</td>\n",
       "      <td>02:34:43</td>\n",
       "      <td>2016</td>\n",
       "      <td>Nashville</td>\n",
       "    </tr>\n",
       "    <tr>\n",
       "      <th>2</th>\n",
       "      <td>3</td>\n",
       "      <td>1047</td>\n",
       "      <td>Christopher Capps</td>\n",
       "      <td>02:38:43</td>\n",
       "      <td>2016</td>\n",
       "      <td>Nashville</td>\n",
       "    </tr>\n",
       "    <tr>\n",
       "      <th>3</th>\n",
       "      <td>4</td>\n",
       "      <td>1052</td>\n",
       "      <td>Jason Grimes</td>\n",
       "      <td>02:45:06</td>\n",
       "      <td>2016</td>\n",
       "      <td>Nashville</td>\n",
       "    </tr>\n",
       "    <tr>\n",
       "      <th>4</th>\n",
       "      <td>5</td>\n",
       "      <td>1046</td>\n",
       "      <td>David Adams</td>\n",
       "      <td>02:47:28</td>\n",
       "      <td>2016</td>\n",
       "      <td>Nashville</td>\n",
       "    </tr>\n",
       "  </tbody>\n",
       "</table>\n",
       "</div>"
      ],
      "text/plain": [
       "   Overall   Bib               Name      Time  Year   Location\n",
       "0        1     1     Scott Wietecha  02:25:42  2016  Nashville\n",
       "1        2     3      Brian Shelton  02:34:43  2016  Nashville\n",
       "2        3  1047  Christopher Capps  02:38:43  2016  Nashville\n",
       "3        4  1052       Jason Grimes  02:45:06  2016  Nashville\n",
       "4        5  1046        David Adams  02:47:28  2016  Nashville"
      ]
     },
     "execution_count": 98,
     "metadata": {},
     "output_type": "execute_result"
    }
   ],
   "source": [
    "national_marathons.head()"
   ]
  },
  {
   "cell_type": "code",
   "execution_count": 99,
   "metadata": {},
   "outputs": [
    {
     "data": {
      "text/plain": [
       "Overall        int64\n",
       "Bib            int64\n",
       "Name          object\n",
       "Time          object\n",
       "Year           int64\n",
       "Location    category\n",
       "dtype: object"
      ]
     },
     "execution_count": 99,
     "metadata": {},
     "output_type": "execute_result"
    }
   ],
   "source": [
    "national_marathons.dtypes"
   ]
  },
  {
   "cell_type": "code",
   "execution_count": 100,
   "metadata": {},
   "outputs": [
    {
     "data": {
      "text/plain": [
       "<matplotlib.axes._subplots.AxesSubplot at 0x1b0b9b322b0>"
      ]
     },
     "execution_count": 100,
     "metadata": {},
     "output_type": "execute_result"
    },
    {
     "data": {
      "image/png": "[encoded data removed]",
      "text/plain": [
       "<Figure size 432x288 with 1 Axes>"
      ]
     },
     "metadata": {
      "needs_background": "light"
     },
     "output_type": "display_data"
    }
   ],
   "source": [
    "national_marathons.Year.value_counts().plot(kind= 'bar')"
   ]
  },
  {
   "cell_type": "code",
   "execution_count": 101,
   "metadata": {},
   "outputs": [
    {
     "data": {
      "text/plain": [
       "Nashville    9705\n",
       "DC           8647\n",
       "Seattle      8509\n",
       "Arizona      8035\n",
       "Name: Location, dtype: int64"
      ]
     },
     "execution_count": 101,
     "metadata": {},
     "output_type": "execute_result"
    }
   ],
   "source": [
    "national_marathons.Location.value_counts()"
   ]
  },
  {
   "cell_type": "code",
   "execution_count": 102,
   "metadata": {},
   "outputs": [],
   "source": [
    "fastest = national_marathons[national_marathons.Overall == 1]"
   ]
  },
  {
   "cell_type": "code",
   "execution_count": 103,
   "metadata": {},
   "outputs": [
    {
     "data": {
      "text/html": [
       "<div>\n",
       "<style scoped>\n",
       "    .dataframe tbody tr th:only-of-type {\n",
       "        vertical-align: middle;\n",
       "    }\n",
       "\n",
       "    .dataframe tbody tr th {\n",
       "        vertical-align: top;\n",
       "    }\n",
       "\n",
       "    .dataframe thead th {\n",
       "        text-align: right;\n",
       "    }\n",
       "</style>\n",
       "<table border=\"1\" class=\"dataframe\">\n",
       "  <thead>\n",
       "    <tr style=\"text-align: right;\">\n",
       "      <th></th>\n",
       "      <th>Overall</th>\n",
       "      <th>Bib</th>\n",
       "      <th>Name</th>\n",
       "      <th>Time</th>\n",
       "      <th>Year</th>\n",
       "      <th>Location</th>\n",
       "    </tr>\n",
       "  </thead>\n",
       "  <tbody>\n",
       "    <tr>\n",
       "      <th>0</th>\n",
       "      <td>1</td>\n",
       "      <td>1</td>\n",
       "      <td>Scott Wietecha</td>\n",
       "      <td>02:25:42</td>\n",
       "      <td>2016</td>\n",
       "      <td>Nashville</td>\n",
       "    </tr>\n",
       "    <tr>\n",
       "      <th>3842</th>\n",
       "      <td>1</td>\n",
       "      <td>1</td>\n",
       "      <td>Scott Wietecha</td>\n",
       "      <td>02:40:25</td>\n",
       "      <td>2017</td>\n",
       "      <td>Nashville</td>\n",
       "    </tr>\n",
       "    <tr>\n",
       "      <th>7493</th>\n",
       "      <td>1</td>\n",
       "      <td>1</td>\n",
       "      <td>Scott Wietecha</td>\n",
       "      <td>02:28:16</td>\n",
       "      <td>2018</td>\n",
       "      <td>Nashville</td>\n",
       "    </tr>\n",
       "    <tr>\n",
       "      <th>9608</th>\n",
       "      <td>1</td>\n",
       "      <td>30001</td>\n",
       "      <td>Travis Peruski</td>\n",
       "      <td>01:37:54</td>\n",
       "      <td>2019</td>\n",
       "      <td>Nashville</td>\n",
       "    </tr>\n",
       "    <tr>\n",
       "      <th>0</th>\n",
       "      <td>1</td>\n",
       "      <td>6067</td>\n",
       "      <td>Alfredo Arevalo Reyes</td>\n",
       "      <td>02:30:04</td>\n",
       "      <td>2016</td>\n",
       "      <td>DC</td>\n",
       "    </tr>\n",
       "    <tr>\n",
       "      <th>2566</th>\n",
       "      <td>1</td>\n",
       "      <td>31616</td>\n",
       "      <td>Samuel Doud</td>\n",
       "      <td>02:26:57</td>\n",
       "      <td>2017</td>\n",
       "      <td>DC</td>\n",
       "    </tr>\n",
       "    <tr>\n",
       "      <th>6238</th>\n",
       "      <td>1</td>\n",
       "      <td>1</td>\n",
       "      <td>Tyler Andrews</td>\n",
       "      <td>02:20:45</td>\n",
       "      <td>2018</td>\n",
       "      <td>DC</td>\n",
       "    </tr>\n",
       "    <tr>\n",
       "      <th>8121</th>\n",
       "      <td>1</td>\n",
       "      <td>71</td>\n",
       "      <td>Tyler Andrews</td>\n",
       "      <td>02:24:13</td>\n",
       "      <td>2019</td>\n",
       "      <td>DC</td>\n",
       "    </tr>\n",
       "    <tr>\n",
       "      <th>0</th>\n",
       "      <td>1</td>\n",
       "      <td>2</td>\n",
       "      <td>Samuel Golitom Hadgu</td>\n",
       "      <td>02:26:01</td>\n",
       "      <td>2016</td>\n",
       "      <td>Seattle</td>\n",
       "    </tr>\n",
       "    <tr>\n",
       "      <th>3666</th>\n",
       "      <td>1</td>\n",
       "      <td>1121</td>\n",
       "      <td>Blake Hilty</td>\n",
       "      <td>02:38:55</td>\n",
       "      <td>2017</td>\n",
       "      <td>Seattle</td>\n",
       "    </tr>\n",
       "    <tr>\n",
       "      <th>7038</th>\n",
       "      <td>1</td>\n",
       "      <td>2</td>\n",
       "      <td>Joseph Darda</td>\n",
       "      <td>02:33:22</td>\n",
       "      <td>2018</td>\n",
       "      <td>Seattle</td>\n",
       "    </tr>\n",
       "    <tr>\n",
       "      <th>8775</th>\n",
       "      <td>1</td>\n",
       "      <td>49</td>\n",
       "      <td>Shaun Frandsen</td>\n",
       "      <td>02:36:12</td>\n",
       "      <td>2019</td>\n",
       "      <td>Seattle</td>\n",
       "    </tr>\n",
       "    <tr>\n",
       "      <th>0</th>\n",
       "      <td>1</td>\n",
       "      <td>57037</td>\n",
       "      <td>Gerald Blanchard</td>\n",
       "      <td>00:35:50</td>\n",
       "      <td>2016</td>\n",
       "      <td>Arizona</td>\n",
       "    </tr>\n",
       "    <tr>\n",
       "      <th>1</th>\n",
       "      <td>1</td>\n",
       "      <td>51409</td>\n",
       "      <td>Corey Petersen</td>\n",
       "      <td>02:27:18</td>\n",
       "      <td>2016</td>\n",
       "      <td>Arizona</td>\n",
       "    </tr>\n",
       "    <tr>\n",
       "      <th>3056</th>\n",
       "      <td>1</td>\n",
       "      <td>1</td>\n",
       "      <td>Thomas Puzey</td>\n",
       "      <td>02:19:57</td>\n",
       "      <td>2017</td>\n",
       "      <td>Arizona</td>\n",
       "    </tr>\n",
       "    <tr>\n",
       "      <th>6153</th>\n",
       "      <td>1</td>\n",
       "      <td>51409</td>\n",
       "      <td>Roosevelt Cook</td>\n",
       "      <td>02:31:35</td>\n",
       "      <td>2018</td>\n",
       "      <td>Arizona</td>\n",
       "    </tr>\n",
       "    <tr>\n",
       "      <th>6154</th>\n",
       "      <td>1</td>\n",
       "      <td>56324</td>\n",
       "      <td>Charlene Smith</td>\n",
       "      <td>02:18:20</td>\n",
       "      <td>2018</td>\n",
       "      <td>Arizona</td>\n",
       "    </tr>\n",
       "    <tr>\n",
       "      <th>8603</th>\n",
       "      <td>1</td>\n",
       "      <td>72</td>\n",
       "      <td>Chris Mocko</td>\n",
       "      <td>02:21:00</td>\n",
       "      <td>2019</td>\n",
       "      <td>Arizona</td>\n",
       "    </tr>\n",
       "  </tbody>\n",
       "</table>\n",
       "</div>"
      ],
      "text/plain": [
       "      Overall    Bib                   Name      Time  Year   Location\n",
       "0           1      1         Scott Wietecha  02:25:42  2016  Nashville\n",
       "3842        1      1         Scott Wietecha  02:40:25  2017  Nashville\n",
       "7493        1      1         Scott Wietecha  02:28:16  2018  Nashville\n",
       "9608        1  30001         Travis Peruski  01:37:54  2019  Nashville\n",
       "0           1   6067  Alfredo Arevalo Reyes  02:30:04  2016         DC\n",
       "2566        1  31616            Samuel Doud  02:26:57  2017         DC\n",
       "6238        1      1          Tyler Andrews  02:20:45  2018         DC\n",
       "8121        1     71          Tyler Andrews  02:24:13  2019         DC\n",
       "0           1      2   Samuel Golitom Hadgu  02:26:01  2016    Seattle\n",
       "3666        1   1121            Blake Hilty  02:38:55  2017    Seattle\n",
       "7038        1      2           Joseph Darda  02:33:22  2018    Seattle\n",
       "8775        1     49         Shaun Frandsen  02:36:12  2019    Seattle\n",
       "0           1  57037       Gerald Blanchard  00:35:50  2016    Arizona\n",
       "1           1  51409         Corey Petersen  02:27:18  2016    Arizona\n",
       "3056        1      1           Thomas Puzey  02:19:57  2017    Arizona\n",
       "6153        1  51409         Roosevelt Cook  02:31:35  2018    Arizona\n",
       "6154        1  56324         Charlene Smith  02:18:20  2018    Arizona\n",
       "8603        1     72            Chris Mocko  02:21:00  2019    Arizona"
      ]
     },
     "execution_count": 103,
     "metadata": {},
     "output_type": "execute_result"
    }
   ],
   "source": [
    "fastest"
   ]
  },
  {
   "cell_type": "code",
   "execution_count": 104,
   "metadata": {},
   "outputs": [],
   "source": [
    "fastest = fastest[fastest.Name != 'Travis Peruski']"
   ]
  },
  {
   "cell_type": "code",
   "execution_count": 105,
   "metadata": {},
   "outputs": [
    {
     "data": {
      "text/html": [
       "<div>\n",
       "<style scoped>\n",
       "    .dataframe tbody tr th:only-of-type {\n",
       "        vertical-align: middle;\n",
       "    }\n",
       "\n",
       "    .dataframe tbody tr th {\n",
       "        vertical-align: top;\n",
       "    }\n",
       "\n",
       "    .dataframe thead th {\n",
       "        text-align: right;\n",
       "    }\n",
       "</style>\n",
       "<table border=\"1\" class=\"dataframe\">\n",
       "  <thead>\n",
       "    <tr style=\"text-align: right;\">\n",
       "      <th></th>\n",
       "      <th>Overall</th>\n",
       "      <th>Bib</th>\n",
       "      <th>Name</th>\n",
       "      <th>Time</th>\n",
       "      <th>Year</th>\n",
       "      <th>Location</th>\n",
       "    </tr>\n",
       "  </thead>\n",
       "  <tbody>\n",
       "    <tr>\n",
       "      <th>0</th>\n",
       "      <td>1</td>\n",
       "      <td>1</td>\n",
       "      <td>Scott Wietecha</td>\n",
       "      <td>02:25:42</td>\n",
       "      <td>2016</td>\n",
       "      <td>Nashville</td>\n",
       "    </tr>\n",
       "    <tr>\n",
       "      <th>3842</th>\n",
       "      <td>1</td>\n",
       "      <td>1</td>\n",
       "      <td>Scott Wietecha</td>\n",
       "      <td>02:40:25</td>\n",
       "      <td>2017</td>\n",
       "      <td>Nashville</td>\n",
       "    </tr>\n",
       "    <tr>\n",
       "      <th>7493</th>\n",
       "      <td>1</td>\n",
       "      <td>1</td>\n",
       "      <td>Scott Wietecha</td>\n",
       "      <td>02:28:16</td>\n",
       "      <td>2018</td>\n",
       "      <td>Nashville</td>\n",
       "    </tr>\n",
       "    <tr>\n",
       "      <th>0</th>\n",
       "      <td>1</td>\n",
       "      <td>6067</td>\n",
       "      <td>Alfredo Arevalo Reyes</td>\n",
       "      <td>02:30:04</td>\n",
       "      <td>2016</td>\n",
       "      <td>DC</td>\n",
       "    </tr>\n",
       "    <tr>\n",
       "      <th>2566</th>\n",
       "      <td>1</td>\n",
       "      <td>31616</td>\n",
       "      <td>Samuel Doud</td>\n",
       "      <td>02:26:57</td>\n",
       "      <td>2017</td>\n",
       "      <td>DC</td>\n",
       "    </tr>\n",
       "    <tr>\n",
       "      <th>6238</th>\n",
       "      <td>1</td>\n",
       "      <td>1</td>\n",
       "      <td>Tyler Andrews</td>\n",
       "      <td>02:20:45</td>\n",
       "      <td>2018</td>\n",
       "      <td>DC</td>\n",
       "    </tr>\n",
       "    <tr>\n",
       "      <th>8121</th>\n",
       "      <td>1</td>\n",
       "      <td>71</td>\n",
       "      <td>Tyler Andrews</td>\n",
       "      <td>02:24:13</td>\n",
       "      <td>2019</td>\n",
       "      <td>DC</td>\n",
       "    </tr>\n",
       "    <tr>\n",
       "      <th>0</th>\n",
       "      <td>1</td>\n",
       "      <td>2</td>\n",
       "      <td>Samuel Golitom Hadgu</td>\n",
       "      <td>02:26:01</td>\n",
       "      <td>2016</td>\n",
       "      <td>Seattle</td>\n",
       "    </tr>\n",
       "    <tr>\n",
       "      <th>3666</th>\n",
       "      <td>1</td>\n",
       "      <td>1121</td>\n",
       "      <td>Blake Hilty</td>\n",
       "      <td>02:38:55</td>\n",
       "      <td>2017</td>\n",
       "      <td>Seattle</td>\n",
       "    </tr>\n",
       "    <tr>\n",
       "      <th>7038</th>\n",
       "      <td>1</td>\n",
       "      <td>2</td>\n",
       "      <td>Joseph Darda</td>\n",
       "      <td>02:33:22</td>\n",
       "      <td>2018</td>\n",
       "      <td>Seattle</td>\n",
       "    </tr>\n",
       "    <tr>\n",
       "      <th>8775</th>\n",
       "      <td>1</td>\n",
       "      <td>49</td>\n",
       "      <td>Shaun Frandsen</td>\n",
       "      <td>02:36:12</td>\n",
       "      <td>2019</td>\n",
       "      <td>Seattle</td>\n",
       "    </tr>\n",
       "    <tr>\n",
       "      <th>0</th>\n",
       "      <td>1</td>\n",
       "      <td>57037</td>\n",
       "      <td>Gerald Blanchard</td>\n",
       "      <td>00:35:50</td>\n",
       "      <td>2016</td>\n",
       "      <td>Arizona</td>\n",
       "    </tr>\n",
       "    <tr>\n",
       "      <th>1</th>\n",
       "      <td>1</td>\n",
       "      <td>51409</td>\n",
       "      <td>Corey Petersen</td>\n",
       "      <td>02:27:18</td>\n",
       "      <td>2016</td>\n",
       "      <td>Arizona</td>\n",
       "    </tr>\n",
       "    <tr>\n",
       "      <th>3056</th>\n",
       "      <td>1</td>\n",
       "      <td>1</td>\n",
       "      <td>Thomas Puzey</td>\n",
       "      <td>02:19:57</td>\n",
       "      <td>2017</td>\n",
       "      <td>Arizona</td>\n",
       "    </tr>\n",
       "    <tr>\n",
       "      <th>6153</th>\n",
       "      <td>1</td>\n",
       "      <td>51409</td>\n",
       "      <td>Roosevelt Cook</td>\n",
       "      <td>02:31:35</td>\n",
       "      <td>2018</td>\n",
       "      <td>Arizona</td>\n",
       "    </tr>\n",
       "    <tr>\n",
       "      <th>6154</th>\n",
       "      <td>1</td>\n",
       "      <td>56324</td>\n",
       "      <td>Charlene Smith</td>\n",
       "      <td>02:18:20</td>\n",
       "      <td>2018</td>\n",
       "      <td>Arizona</td>\n",
       "    </tr>\n",
       "    <tr>\n",
       "      <th>8603</th>\n",
       "      <td>1</td>\n",
       "      <td>72</td>\n",
       "      <td>Chris Mocko</td>\n",
       "      <td>02:21:00</td>\n",
       "      <td>2019</td>\n",
       "      <td>Arizona</td>\n",
       "    </tr>\n",
       "  </tbody>\n",
       "</table>\n",
       "</div>"
      ],
      "text/plain": [
       "      Overall    Bib                   Name      Time  Year   Location\n",
       "0           1      1         Scott Wietecha  02:25:42  2016  Nashville\n",
       "3842        1      1         Scott Wietecha  02:40:25  2017  Nashville\n",
       "7493        1      1         Scott Wietecha  02:28:16  2018  Nashville\n",
       "0           1   6067  Alfredo Arevalo Reyes  02:30:04  2016         DC\n",
       "2566        1  31616            Samuel Doud  02:26:57  2017         DC\n",
       "6238        1      1          Tyler Andrews  02:20:45  2018         DC\n",
       "8121        1     71          Tyler Andrews  02:24:13  2019         DC\n",
       "0           1      2   Samuel Golitom Hadgu  02:26:01  2016    Seattle\n",
       "3666        1   1121            Blake Hilty  02:38:55  2017    Seattle\n",
       "7038        1      2           Joseph Darda  02:33:22  2018    Seattle\n",
       "8775        1     49         Shaun Frandsen  02:36:12  2019    Seattle\n",
       "0           1  57037       Gerald Blanchard  00:35:50  2016    Arizona\n",
       "1           1  51409         Corey Petersen  02:27:18  2016    Arizona\n",
       "3056        1      1           Thomas Puzey  02:19:57  2017    Arizona\n",
       "6153        1  51409         Roosevelt Cook  02:31:35  2018    Arizona\n",
       "6154        1  56324         Charlene Smith  02:18:20  2018    Arizona\n",
       "8603        1     72            Chris Mocko  02:21:00  2019    Arizona"
      ]
     },
     "execution_count": 105,
     "metadata": {},
     "output_type": "execute_result"
    }
   ],
   "source": [
    "fastest"
   ]
  },
  {
   "cell_type": "code",
   "execution_count": 106,
   "metadata": {},
   "outputs": [],
   "source": [
    "national_marathons = national_marathons.reset_index(drop = True)"
   ]
  },
  {
   "cell_type": "code",
   "execution_count": 107,
   "metadata": {},
   "outputs": [
    {
     "data": {
      "text/html": [
       "<div>\n",
       "<style scoped>\n",
       "    .dataframe tbody tr th:only-of-type {\n",
       "        vertical-align: middle;\n",
       "    }\n",
       "\n",
       "    .dataframe tbody tr th {\n",
       "        vertical-align: top;\n",
       "    }\n",
       "\n",
       "    .dataframe thead th {\n",
       "        text-align: right;\n",
       "    }\n",
       "</style>\n",
       "<table border=\"1\" class=\"dataframe\">\n",
       "  <thead>\n",
       "    <tr style=\"text-align: right;\">\n",
       "      <th></th>\n",
       "      <th>Overall</th>\n",
       "      <th>Bib</th>\n",
       "      <th>Name</th>\n",
       "      <th>Time</th>\n",
       "      <th>Year</th>\n",
       "      <th>Location</th>\n",
       "    </tr>\n",
       "  </thead>\n",
       "  <tbody>\n",
       "    <tr>\n",
       "      <th>0</th>\n",
       "      <td>1</td>\n",
       "      <td>1</td>\n",
       "      <td>Scott Wietecha</td>\n",
       "      <td>02:25:42</td>\n",
       "      <td>2016</td>\n",
       "      <td>Nashville</td>\n",
       "    </tr>\n",
       "    <tr>\n",
       "      <th>1</th>\n",
       "      <td>2</td>\n",
       "      <td>3</td>\n",
       "      <td>Brian Shelton</td>\n",
       "      <td>02:34:43</td>\n",
       "      <td>2016</td>\n",
       "      <td>Nashville</td>\n",
       "    </tr>\n",
       "  </tbody>\n",
       "</table>\n",
       "</div>"
      ],
      "text/plain": [
       "   Overall  Bib            Name      Time  Year   Location\n",
       "0        1    1  Scott Wietecha  02:25:42  2016  Nashville\n",
       "1        2    3   Brian Shelton  02:34:43  2016  Nashville"
      ]
     },
     "execution_count": 107,
     "metadata": {},
     "output_type": "execute_result"
    }
   ],
   "source": [
    "national_marathons.head(2)"
   ]
  },
  {
   "cell_type": "code",
   "execution_count": 108,
   "metadata": {},
   "outputs": [
    {
     "data": {
      "text/html": [
       "<div>\n",
       "<style scoped>\n",
       "    .dataframe tbody tr th:only-of-type {\n",
       "        vertical-align: middle;\n",
       "    }\n",
       "\n",
       "    .dataframe tbody tr th {\n",
       "        vertical-align: top;\n",
       "    }\n",
       "\n",
       "    .dataframe thead th {\n",
       "        text-align: right;\n",
       "    }\n",
       "</style>\n",
       "<table border=\"1\" class=\"dataframe\">\n",
       "  <thead>\n",
       "    <tr style=\"text-align: right;\">\n",
       "      <th></th>\n",
       "      <th>Overall</th>\n",
       "      <th>Bib</th>\n",
       "      <th>Name</th>\n",
       "      <th>Time</th>\n",
       "      <th>Year</th>\n",
       "      <th>Location</th>\n",
       "    </tr>\n",
       "  </thead>\n",
       "  <tbody>\n",
       "    <tr>\n",
       "      <th>34891</th>\n",
       "      <td>1463</td>\n",
       "      <td>22281</td>\n",
       "      <td>Caroline Johnson</td>\n",
       "      <td>07:06:07</td>\n",
       "      <td>2019</td>\n",
       "      <td>Arizona</td>\n",
       "    </tr>\n",
       "    <tr>\n",
       "      <th>34892</th>\n",
       "      <td>1464</td>\n",
       "      <td>20816</td>\n",
       "      <td>Laurence Macon</td>\n",
       "      <td>07:07:28</td>\n",
       "      <td>2019</td>\n",
       "      <td>Arizona</td>\n",
       "    </tr>\n",
       "    <tr>\n",
       "      <th>34893</th>\n",
       "      <td>1465</td>\n",
       "      <td>21744</td>\n",
       "      <td>Sandra Dalgai</td>\n",
       "      <td>07:07:56</td>\n",
       "      <td>2019</td>\n",
       "      <td>Arizona</td>\n",
       "    </tr>\n",
       "    <tr>\n",
       "      <th>34894</th>\n",
       "      <td>1466</td>\n",
       "      <td>20688</td>\n",
       "      <td>Matthew Gibson</td>\n",
       "      <td>07:08:00</td>\n",
       "      <td>2019</td>\n",
       "      <td>Arizona</td>\n",
       "    </tr>\n",
       "    <tr>\n",
       "      <th>34895</th>\n",
       "      <td>1467</td>\n",
       "      <td>22182</td>\n",
       "      <td>Todd Byers</td>\n",
       "      <td>07:09:19</td>\n",
       "      <td>2019</td>\n",
       "      <td>Arizona</td>\n",
       "    </tr>\n",
       "  </tbody>\n",
       "</table>\n",
       "</div>"
      ],
      "text/plain": [
       "       Overall    Bib              Name      Time  Year Location\n",
       "34891     1463  22281  Caroline Johnson  07:06:07  2019  Arizona\n",
       "34892     1464  20816    Laurence Macon  07:07:28  2019  Arizona\n",
       "34893     1465  21744     Sandra Dalgai  07:07:56  2019  Arizona\n",
       "34894     1466  20688    Matthew Gibson  07:08:00  2019  Arizona\n",
       "34895     1467  22182        Todd Byers  07:09:19  2019  Arizona"
      ]
     },
     "execution_count": 108,
     "metadata": {},
     "output_type": "execute_result"
    }
   ],
   "source": [
    "national_marathons.tail()"
   ]
  },
  {
   "cell_type": "code",
   "execution_count": 109,
   "metadata": {},
   "outputs": [
    {
     "data": {
      "image/png": "[encoded data removed]",
      "text/plain": [
       "<Figure size 720x360 with 1 Axes>"
      ]
     },
     "metadata": {
      "needs_background": "light"
     },
     "output_type": "display_data"
    }
   ],
   "source": [
    "plt.figure(figsize=(10,5))\n",
    "plt.hist(national_marathons.Time, bins = 100, color = 'red', histtype='bar', ec='black', alpha = .85)\n",
    "# plt.grid(axis='y', alpha=0.2)\n",
    "# plt.xlabel('Finish Times',fontsize=14)\n",
    "# plt.ylabel('Number of Runners',fontsize=14)\n",
    "# plt.xticks(fontsize=12, rotation = 45)\n",
    "# plt.yticks(fontsize=12)\n",
    "# plt.xlim('02:00:00', '07:30:00')\n",
    "# plt.title('Full Marathon Time Groupings: 2016 - 2019',fontsize=18, fontweight = 'bold')\n",
    "# plt.tight_layout()\n",
    "# plt.savefig('data/fullmarathontimegroups.png')\n",
    "plt.show()"
   ]
  },
  {
   "cell_type": "code",
   "execution_count": 110,
   "metadata": {},
   "outputs": [
    {
     "data": {
      "text/plain": [
       "datetime.time(8, 0)"
      ]
     },
     "execution_count": 110,
     "metadata": {},
     "output_type": "execute_result"
    }
   ],
   "source": [
    "national_marathons.Time.max()"
   ]
  },
  {
   "cell_type": "code",
   "execution_count": 111,
   "metadata": {},
   "outputs": [
    {
     "data": {
      "text/plain": [
       "datetime.time(0, 35, 50)"
      ]
     },
     "execution_count": 111,
     "metadata": {},
     "output_type": "execute_result"
    }
   ],
   "source": [
    "national_marathons.Time.min()"
   ]
  },
  {
   "cell_type": "code",
   "execution_count": 112,
   "metadata": {},
   "outputs": [
    {
     "data": {
      "text/plain": [
       "<matplotlib.axes._subplots.AxesSubplot at 0x1b0b9cc5518>"
      ]
     },
     "execution_count": 112,
     "metadata": {},
     "output_type": "execute_result"
    },
    {
     "data": {
      "image/png": "[encoded data removed]",
      "text/plain": [
       "<Figure size 432x288 with 1 Axes>"
      ]
     },
     "metadata": {
      "needs_background": "light"
     },
     "output_type": "display_data"
    }
   ],
   "source": [
    "national_marathons.Location.value_counts().plot(kind = 'bar')"
   ]
  },
  {
   "cell_type": "code",
   "execution_count": 113,
   "metadata": {},
   "outputs": [
    {
     "data": {
      "image/png": "[encoded data removed]",
      "text/plain": [
       "<Figure size 432x288 with 1 Axes>"
      ]
     },
     "metadata": {
      "needs_background": "light"
     },
     "output_type": "display_data"
    }
   ],
   "source": [
    "plt.hist(national_marathons[national_marathons.Location == 'Nashville'].Time, bins = 100, color = 'pink')\n",
    "plt.show()"
   ]
  },
  {
   "cell_type": "code",
   "execution_count": 114,
   "metadata": {},
   "outputs": [
    {
     "data": {
      "image/png": "[encoded data removed]",
      "text/plain": [
       "<Figure size 432x288 with 1 Axes>"
      ]
     },
     "metadata": {
      "needs_background": "light"
     },
     "output_type": "display_data"
    }
   ],
   "source": [
    "plt.hist(national_marathons[national_marathons.Location == 'Seattle'].Time, bins = 100, color = 'purple')\n",
    "plt.show()"
   ]
  },
  {
   "cell_type": "code",
   "execution_count": 115,
   "metadata": {},
   "outputs": [
    {
     "data": {
      "image/png": "[encoded data removed]",
      "text/plain": [
       "<Figure size 432x288 with 1 Axes>"
      ]
     },
     "metadata": {
      "needs_background": "light"
     },
     "output_type": "display_data"
    }
   ],
   "source": [
    "plt.hist(national_marathons[national_marathons.Location == 'DC'].Time, bins = 100, color = 'blue')\n",
    "plt.show()"
   ]
  },
  {
   "cell_type": "code",
   "execution_count": 116,
   "metadata": {},
   "outputs": [
    {
     "data": {
      "image/png": "[encoded data removed]",
      "text/plain": [
       "<Figure size 432x288 with 1 Axes>"
      ]
     },
     "metadata": {
      "needs_background": "light"
     },
     "output_type": "display_data"
    }
   ],
   "source": [
    "plt.hist(national_marathons[national_marathons.Location == 'Arizona'].Time, bins = 100, color = 'red')\n",
    "plt.show()"
   ]
  },
  {
   "cell_type": "code",
   "execution_count": 117,
   "metadata": {},
   "outputs": [
    {
     "data": {
      "image/png": "[encoded data removed]",
      "text/plain": [
       "<Figure size 432x288 with 1 Axes>"
      ]
     },
     "metadata": {
      "needs_background": "light"
     },
     "output_type": "display_data"
    }
   ],
   "source": [
    "fig = plt.hist(national_marathons[national_marathons.Location == 'Arizona'].Time, bins = 100, color = 'red')\n",
    "plt.hist(national_marathons[national_marathons.Location == 'DC'].Time, bins = 100, color = 'blue')\n",
    "plt.hist(national_marathons[national_marathons.Location == 'Seattle'].Time, bins = 100, color = 'purple')\n",
    "plt.hist(national_marathons[national_marathons.Location == 'Nashville'].Time, bins = 100, color = 'pink')\n",
    "plt.show()\n",
    "# houses_2017.loc[houses_2017.TOTALAPPR <= 750000].TOTALAPPR.plot.hist(bins = 50, alpha = 0.6, density = True, label = '2017');\n",
    "# fig.axes.get_yaxis().set_visible(False)\n",
    "# fig.set_title('Distribution of Appraisal Values, 2009 vs 2017')\n",
    "# fig.legend();"
   ]
  },
  {
   "cell_type": "code",
   "execution_count": 118,
   "metadata": {},
   "outputs": [
    {
     "data": {
      "text/plain": [
       "<BarContainer object of 34896 artists>"
      ]
     },
     "execution_count": 118,
     "metadata": {},
     "output_type": "execute_result"
    },
    {
     "data": {
      "image/png": "[encoded data removed]",
      "text/plain": [
       "<Figure size 432x288 with 1 Axes>"
      ]
     },
     "metadata": {
      "needs_background": "light"
     },
     "output_type": "display_data"
    }
   ],
   "source": [
    "plt.bar(national_marathons.Location, national_marathons.Bib.count())"
   ]
  },
  {
   "cell_type": "code",
   "execution_count": 119,
   "metadata": {},
   "outputs": [],
   "source": [
    "def create_loc_bars(subplot, location, color):\n",
    "    plt.subplot(2, 2, subplot)\n",
    "    national_marathons[national_marathons.Location == location].Year.value_counts().plot(kind = 'bar',color = color, ec = 'black', alpha = .85)\n",
    "    return"
   ]
  },
  {
   "cell_type": "code",
   "execution_count": 143,
   "metadata": {},
   "outputs": [
    {
     "data": {
      "image/png": "[encoded data removed]",
      "text/plain": [
       "<Figure size 1152x576 with 4 Axes>"
      ]
     },
     "metadata": {
      "needs_background": "light"
     },
     "output_type": "display_data"
    }
   ],
   "source": [
    "plt.figure(figsize=(16,8))\n",
    "create_loc_bars(1, 'Nashville', 'red')\n",
    "plt.title('Nashville Participation', fontsize = 14)\n",
    "plt.xticks(rotation = 0)\n",
    "create_loc_bars(2, 'Seattle', 'blue')\n",
    "plt.title('Seattle Participation', fontsize = 14)\n",
    "plt.xticks(rotation = 0)\n",
    "create_loc_bars(3, 'Arizona', 'pink')\n",
    "plt.title('Arizona Participation', fontsize = 14)\n",
    "plt.xticks(rotation = 0)\n",
    "create_loc_bars(4, 'DC', 'purple')\n",
    "plt.title('Washington DC Participation', fontsize = 14)\n",
    "plt.xticks(rotation = 0)\n",
    "plt.tight_layout()\n",
    "plt.savefig('data/participation.png')\n",
    "plt.show()"
   ]
  },
  {
   "cell_type": "code",
   "execution_count": 137,
   "metadata": {},
   "outputs": [
    {
     "data": {
      "image/png": "[encoded data removed]",
      "text/plain": [
       "<Figure size 1152x576 with 1 Axes>"
      ]
     },
     "metadata": {},
     "output_type": "display_data"
    }
   ],
   "source": [
    "national_marathons.Year.value_counts().plot(kind = 'pie', cmap = 'bwr', figsize = (16, 8), explode =(0.01, 0.01, 0.01, 0.01), autopct='%1.0f%%',\n",
    "        shadow=True, startangle=90, textprops={'fontsize': 14, 'fontweight':'bold'})\n",
    "plt.title('Combined Percentage of Participation by Year', fontsize = 18)\n",
    "plt.tight_layout()\n",
    "plt.savefig('data/combined_percentage.png')\n",
    "plt.show()"
   ]
  },
  {
   "cell_type": "code",
   "execution_count": 133,
   "metadata": {},
   "outputs": [],
   "source": [
    "def create_year_hist(subplot, year, color):\n",
    "    plt.subplot(2, 2, subplot)\n",
    "    plt.hist(national_marathons[national_marathons.Year == year].Time, bins = 60, color = color, histtype='bar', ec='black', alpha = .85)\n",
    "    plt.title(year)\n",
    "    return"
   ]
  },
  {
   "cell_type": "code",
   "execution_count": 134,
   "metadata": {},
   "outputs": [
    {
     "data": {
      "image/png": "[encoded data removed]",
      "text/plain": [
       "<Figure size 1152x576 with 4 Axes>"
      ]
     },
     "metadata": {
      "needs_background": "light"
     },
     "output_type": "display_data"
    }
   ],
   "source": [
    "plt.figure(figsize=(16,8))\n",
    "create_year_hist(1, 2016, 'red')\n",
    "create_year_hist(2, 2017, 'blue')\n",
    "create_year_hist(3, 2018, 'pink')\n",
    "create_year_hist(4, 2019, 'purple')\n",
    "plt.tight_layout()\n",
    "plt.show()"
   ]
  },
  {
   "cell_type": "code",
   "execution_count": 124,
   "metadata": {
    "scrolled": true
   },
   "outputs": [
    {
     "data": {
      "text/plain": [
       "2016    10641\n",
       "2017     9857\n",
       "2018     7580\n",
       "2019     6818\n",
       "Name: Year, dtype: int64"
      ]
     },
     "execution_count": 124,
     "metadata": {},
     "output_type": "execute_result"
    }
   ],
   "source": [
    "national_marathons.Year.value_counts()"
   ]
  },
  {
   "cell_type": "code",
   "execution_count": 125,
   "metadata": {},
   "outputs": [
    {
     "data": {
      "text/plain": [
       "64.07292547692886"
      ]
     },
     "execution_count": 125,
     "metadata": {},
     "output_type": "execute_result"
    }
   ],
   "source": [
    "6818 / 10641 * 100"
   ]
  },
  {
   "cell_type": "code",
   "execution_count": 126,
   "metadata": {},
   "outputs": [
    {
     "data": {
      "text/html": [
       "<div>\n",
       "<style scoped>\n",
       "    .dataframe tbody tr th:only-of-type {\n",
       "        vertical-align: middle;\n",
       "    }\n",
       "\n",
       "    .dataframe tbody tr th {\n",
       "        vertical-align: top;\n",
       "    }\n",
       "\n",
       "    .dataframe thead th {\n",
       "        text-align: right;\n",
       "    }\n",
       "</style>\n",
       "<table border=\"1\" class=\"dataframe\">\n",
       "  <thead>\n",
       "    <tr style=\"text-align: right;\">\n",
       "      <th></th>\n",
       "      <th>Overall</th>\n",
       "      <th>Bib</th>\n",
       "      <th>Name</th>\n",
       "      <th>Time</th>\n",
       "      <th>Year</th>\n",
       "      <th>Location</th>\n",
       "    </tr>\n",
       "  </thead>\n",
       "  <tbody>\n",
       "    <tr>\n",
       "      <th>0</th>\n",
       "      <td>1</td>\n",
       "      <td>1</td>\n",
       "      <td>Scott Wietecha</td>\n",
       "      <td>02:25:42</td>\n",
       "      <td>2016</td>\n",
       "      <td>Nashville</td>\n",
       "    </tr>\n",
       "    <tr>\n",
       "      <th>1</th>\n",
       "      <td>2</td>\n",
       "      <td>3</td>\n",
       "      <td>Brian Shelton</td>\n",
       "      <td>02:34:43</td>\n",
       "      <td>2016</td>\n",
       "      <td>Nashville</td>\n",
       "    </tr>\n",
       "    <tr>\n",
       "      <th>2</th>\n",
       "      <td>3</td>\n",
       "      <td>1047</td>\n",
       "      <td>Christopher Capps</td>\n",
       "      <td>02:38:43</td>\n",
       "      <td>2016</td>\n",
       "      <td>Nashville</td>\n",
       "    </tr>\n",
       "    <tr>\n",
       "      <th>3</th>\n",
       "      <td>4</td>\n",
       "      <td>1052</td>\n",
       "      <td>Jason Grimes</td>\n",
       "      <td>02:45:06</td>\n",
       "      <td>2016</td>\n",
       "      <td>Nashville</td>\n",
       "    </tr>\n",
       "    <tr>\n",
       "      <th>4</th>\n",
       "      <td>5</td>\n",
       "      <td>1046</td>\n",
       "      <td>David Adams</td>\n",
       "      <td>02:47:28</td>\n",
       "      <td>2016</td>\n",
       "      <td>Nashville</td>\n",
       "    </tr>\n",
       "  </tbody>\n",
       "</table>\n",
       "</div>"
      ],
      "text/plain": [
       "   Overall   Bib               Name      Time  Year   Location\n",
       "0        1     1     Scott Wietecha  02:25:42  2016  Nashville\n",
       "1        2     3      Brian Shelton  02:34:43  2016  Nashville\n",
       "2        3  1047  Christopher Capps  02:38:43  2016  Nashville\n",
       "3        4  1052       Jason Grimes  02:45:06  2016  Nashville\n",
       "4        5  1046        David Adams  02:47:28  2016  Nashville"
      ]
     },
     "execution_count": 126,
     "metadata": {},
     "output_type": "execute_result"
    }
   ],
   "source": [
    "national_marathons.head()"
   ]
  },
  {
   "cell_type": "code",
   "execution_count": null,
   "metadata": {},
   "outputs": [],
   "source": []
  }
 ],
 "metadata": {
  "kernelspec": {
   "display_name": "Python 3",
   "language": "python",
   "name": "python3"
  },
  "language_info": {
   "codemirror_mode": {
    "name": "ipython",
    "version": 3
   },
   "file_extension": ".py",
   "mimetype": "text/x-python",
   "name": "python",
   "nbconvert_exporter": "python",
   "pygments_lexer": "ipython3",
   "version": "3.7.3"
  }
 },
 "nbformat": 4,
 "nbformat_minor": 2
}
